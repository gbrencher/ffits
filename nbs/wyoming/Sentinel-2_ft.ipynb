{
 "cells": [
  {
   "cell_type": "code",
   "execution_count": 1,
   "id": "c8cb0719-4536-42bd-89ea-1669f30da89f",
   "metadata": {
    "tags": []
   },
   "outputs": [],
   "source": [
    "import pystac_client\n",
    "import planetary_computer\n",
    "import odc.stac\n",
    "import matplotlib.pyplot as plt\n",
    "import stackstac\n",
    "from pystac.extensions.eo import EOExtension as eo\n",
    "import numpy as np\n",
    "import math\n",
    "import geopandas as gpd\n",
    "import rasterio as rio\n",
    "import rioxarray\n",
    "from datetime import datetime"
   ]
  },
  {
   "cell_type": "code",
   "execution_count": 2,
   "id": "0c75fd0f-f10a-430c-bfad-e2bf80110db6",
   "metadata": {
    "tags": []
   },
   "outputs": [],
   "source": [
    "catalog = pystac_client.Client.open(\n",
    "    \"https://planetarycomputer.microsoft.com/api/stac/v1\",\n",
    "    modifier=planetary_computer.sign_inplace,\n",
    ")"
   ]
  },
  {
   "cell_type": "code",
   "execution_count": 5,
   "id": "75c5ac55-a7c6-431f-902e-27a41b434bd4",
   "metadata": {
    "tags": []
   },
   "outputs": [],
   "source": [
    "bbox_of_interest = [-110.0, 42.7, -109.0, 43.5]\n",
    "time_of_interest = \"2022-08-01/2022-10-01\""
   ]
  },
  {
   "cell_type": "code",
   "execution_count": 6,
   "id": "c6e2d086-7c53-4d61-95a5-fb517efe4a55",
   "metadata": {
    "tags": []
   },
   "outputs": [
    {
     "name": "stdout",
     "output_type": "stream",
     "text": [
      "Returned 33 Items\n"
     ]
    }
   ],
   "source": [
    "# search s2 catalog for scenes with low cloud cover\n",
    "search = catalog.search(\n",
    "    collections=[\"sentinel-2-l2a\"],\n",
    "    bbox=bbox_of_interest,\n",
    "    datetime=time_of_interest,\n",
    "    query={\"eo:cloud_cover\": {\"lt\": 10}},\n",
    ")\n",
    "\n",
    "items = search.item_collection()\n",
    "print(f\"Returned {len(items)} Items\")"
   ]
  },
  {
   "cell_type": "code",
   "execution_count": 7,
   "id": "0618666d-18e8-488a-8e91-7031e2bd3128",
   "metadata": {
    "tags": []
   },
   "outputs": [
    {
     "name": "stderr",
     "output_type": "stream",
     "text": [
      "/srv/conda/envs/notebook/lib/python3.11/site-packages/stackstac/prepare.py:363: UserWarning: The argument 'infer_datetime_format' is deprecated and will be removed in a future version. A strict version of it is now the default, see https://pandas.pydata.org/pdeps/0004-consistent-to-datetime-parsing.html. You can safely remove this argument.\n",
      "  times = pd.to_datetime(\n"
     ]
    }
   ],
   "source": [
    "# load into xarray ds\n",
    "ds = (\n",
    "    stackstac.stack(\n",
    "        items,\n",
    "        assets=[\"B04\",\"B03\",\"B02\", \"B08\"],  # red, green, blue, nir\n",
    "        chunksize=4096,\n",
    "        bounds_latlon=bbox_of_interest\n",
    "    )\n",
    "    .where(lambda x: x > 0, other=np.nan)  # sentinel-2 uses 0 as nodata \n",
    ")"
   ]
  },
  {
   "cell_type": "code",
   "execution_count": null,
   "id": "3aec0449-3116-48ce-acd5-6613cbe29b71",
   "metadata": {
    "tags": []
   },
   "outputs": [],
   "source": [
    "# plot all scenes to determine which are best for feature tracking\n",
    "f, ax = plt.subplots(len(ds.time), 2, figsize=(10, 5*len(ds.time)))\n",
    "for i, time in enumerate(ds.time):\n",
    "    ds.isel(time=i, band=[0, 1, 2]).plot.imshow(ax=ax[i, 0], rgb='band', robust=True)\n",
    "    ax[i, 0].set_title(f'time: {time.dt.date.item()}, index: {i}, rgb')\n",
    "    ax[i, 0].set_aspect('equal')\n",
    "    ax[i, 0].axis('off')\n",
    "    \n",
    "    ds.isel(time=i, band=3).plot.imshow(ax=ax[i, 1], add_colorbar=False)\n",
    "    ax[i, 1].set_title('NIR')\n",
    "    ax[i, 1].set_aspect('equal')\n",
    "    ax[i, 1].axis('off')"
   ]
  },
  {
   "cell_type": "code",
   "execution_count": null,
   "id": "1c386a9d-e0c6-4e31-bdbb-4df281842854",
   "metadata": {},
   "outputs": [],
   "source": [
    "# select scenes, select nir band\n",
    "img1 = ds.isel(time=2, band=3).rio.write_nodata(-9999).values\n",
    "\n",
    "img2 = ds.isel(time=18, band=3).rio.write_nodata(-9999).values"
   ]
  },
  {
   "cell_type": "code",
   "execution_count": null,
   "id": "da753048-ab28-425e-8c33-19a6402c889c",
   "metadata": {},
   "outputs": [],
   "source": [
    "f, ax = plt.subplots(1, 2, figsize=(10, 10))\n",
    "ax[0].imshow(img1)\n",
    "ax[0].set_aspect('equal')\n",
    "ax[0].set_title('S2 NIR 2022-09-19')\n",
    "ax[1].imshow(img2)\n",
    "ax[1].set_title('S2 NIR 2022-10-29')\n",
    "ax[1].set_aspect('equal')\n",
    "plt.tight_layout()\n",
    "\n",
    "plt.savefig('./figs/karakoram_orthos_nir.png', dpi=300)"
   ]
  },
  {
   "cell_type": "code",
   "execution_count": null,
   "id": "c3b4e966-b664-447b-9aa0-0851730145e9",
   "metadata": {},
   "outputs": [],
   "source": [
    "## install autoRIFT in notebook environment\n",
    "# import sys\n",
    "# !mamba install --yes --prefix {sys.prefix} autorift\n",
    "# !{sys.executable} -m pip install opencv-python-headless"
   ]
  },
  {
   "cell_type": "code",
   "execution_count": null,
   "id": "731a8d7d-61b5-4ee9-b7a9-ead66b7a1531",
   "metadata": {},
   "outputs": [],
   "source": [
    "from autoRIFT import autoRIFT"
   ]
  },
  {
   "cell_type": "code",
   "execution_count": null,
   "id": "13e2d422-7783-4a48-971b-053649e5100f",
   "metadata": {},
   "outputs": [],
   "source": [
    "# setup autoRIFT parameters\n",
    "obj = autoRIFT()\n",
    "obj.I1 = img1\n",
    "obj.I2 = img2\n",
    "    \n",
    "# define chip size ranges\n",
    "## Kernel sizes to use for correlation\n",
    "obj.ChipSizeMinX = 16\n",
    "obj.ChipSizeMaxX = 128\n",
    "\n",
    "# check and refine this\n",
    "obj.ChipSize0X = 16\n",
    "\n",
    "# skip rate setup\n",
    "# Produce output at a grid x time the input resolution \n",
    "obj.SkipSampleX = 4\n",
    "obj.SkipSampleY = 4\n",
    "# here selecting 4 means our output of 40 m resolution, correlation result at every 4th index on grid\n",
    "\n",
    "# preprocess to bring out edges in the image\n",
    "prefilter_choice = 'lap'\n",
    "walis_filter_width = 3\n",
    "if not prefilter_choice == 'none':\n",
    "    obj.WallisFilterWidth = walis_filter_width\n",
    "    if prefilter_choice == 'db':\n",
    "        print(f\"####### Using DB preprocessing with a window width of {walis_filter_width} #######\")\n",
    "        obj.preprocess_db()\n",
    "    elif prefilter_choice == 'lap':\n",
    "        print(f\"####### Using a laplician filter with a window width of {walis_filter_width} #######\")\n",
    "        obj.preprocess_filt_lap()\n",
    "    elif prefilter_choice == 'sob':\n",
    "        print(f\"####### Using a Sobel filter with a window width of {walis_filter_width} #######\")\n",
    "        obj.preprocess_filt_sob()\n",
    "    elif prefilter_choice == 'wal':\n",
    "        print(f\"####### Using a Walis filter with a window width of {walis_filter_width} #######\")\n",
    "        obj.preprocess_filt_wal()\n",
    "else:\n",
    "    print(\"##### No preprocessing #####\")\n",
    "    \n",
    "convert8bit = True\n",
    "# converting to 8 bit and then performing correlation is a faster approach\n",
    "print(f\"convert8bit option is {convert8bit}\")\n",
    "if convert8bit:\n",
    "    print(\"####### Downcasting to 8 bit#######\")\n",
    "    obj.uniform_data_type()\n",
    "\n",
    "print(\"creating correlation grid\")\n",
    "# create the grid if it does not exist (from test_autoRIFT.py)\n",
    "m,n = obj.I1.shape\n",
    "xGrid = np.arange(obj.SkipSampleX+10,n-obj.SkipSampleX,obj.SkipSampleX)\n",
    "yGrid = np.arange(obj.SkipSampleY+10,m-obj.SkipSampleY,obj.SkipSampleY) \n",
    "nd = xGrid.__len__()\n",
    "md = yGrid.__len__()\n",
    "obj.xGrid = np.int32(np.dot(np.ones((md,1)),np.reshape(xGrid,(1,xGrid.__len__()))))\n",
    "obj.yGrid = np.int32(np.dot(np.reshape(yGrid,(yGrid.__len__(),1)),np.ones((1,nd))))\n",
    "noDataMask = np.logical_not(obj.xGrid)"
   ]
  },
  {
   "cell_type": "code",
   "execution_count": null,
   "id": "0f1ab1ce-f383-4bc8-a341-caed9566d9ff",
   "metadata": {},
   "outputs": [],
   "source": [
    "# run autorift\n",
    "print(\"####### Executing autoRIFT correlation #######\")\n",
    "obj.runAutorift()"
   ]
  },
  {
   "cell_type": "code",
   "execution_count": null,
   "id": "13357a28-8244-444d-b061-75246042ddc7",
   "metadata": {},
   "outputs": [],
   "source": [
    "f,ax = plt.subplots(1,2, figsize=(10, 5))\n",
    "im = ax[0].imshow(obj.Dx, cmap='RdBu', vmin=-5, vmax=5)\n",
    "ax[0].set_title('x offsets')\n",
    "ax[0].set_aspect('equal')\n",
    "im = ax[1].imshow(obj.Dy ,cmap='RdBu', vmin=-5, vmax=5)\n",
    "ax[1].set_title('y offsets')\n",
    "ax[1].set_aspect('equal')\n",
    "plt.colorbar(im, label='pixels')\n",
    "plt.tight_layout()\n",
    "\n",
    "plt.savefig('./figs/karakoram_xyoffsets.png', dpi=300)"
   ]
  },
  {
   "cell_type": "code",
   "execution_count": null,
   "id": "b8f0f96e-7d05-4be7-9eae-f13a38a44bdb",
   "metadata": {},
   "outputs": [],
   "source": [
    "vm = np.ma.sqrt(obj.Dx**2+obj.Dy**2)"
   ]
  },
  {
   "cell_type": "code",
   "execution_count": null,
   "id": "6d00d73e-a4b9-4b84-8353-9ab542808554",
   "metadata": {},
   "outputs": [],
   "source": [
    "t1 = datetime(2022, 9, 19)\n",
    "t2 = datetime(2022,10,29)\n",
    "dt_year = (t2-t1).days/365.25"
   ]
  },
  {
   "cell_type": "code",
   "execution_count": null,
   "id": "12469a96-88dc-4c0c-81c9-681f0c953ee3",
   "metadata": {},
   "outputs": [],
   "source": [
    "xres,yres = (10,10) # input resolution of Sentinel-2 images"
   ]
  },
  {
   "cell_type": "code",
   "execution_count": null,
   "id": "37456028-164b-442a-a074-68594023df9b",
   "metadata": {},
   "outputs": [],
   "source": [
    "def disp2v(dx,dy,xres,yres,t_factor,dt='yr'):\n",
    "    \"\"\"\n",
    "    Inspired from vmap's functionality\n",
    "    \"\"\"\n",
    "    if dt == 'day':\n",
    "        t_factor = t_factor*365.25\n",
    "    if dt != 'px':\n",
    "        h_myr = (dx * xres)/t_factor\n",
    "        v_myr = (dy * yres)/t_factor\n",
    "    else:\n",
    "        h_myr = dx\n",
    "        v_myr = dy\n",
    "        t_factor = 1\n",
    "    vm_myr = np.ma.sqrt(h_myr**2+v_myr**2)\n",
    "    return(h_myr,v_myr,vm_myr)"
   ]
  },
  {
   "cell_type": "code",
   "execution_count": null,
   "id": "ba798de1-36a9-40de-b72b-7fdb3bc87445",
   "metadata": {},
   "outputs": [],
   "source": [
    "vx_myr,vy_myr,vm_myr = disp2v(obj.Dx,obj.Dy,xres,yres,dt_year)"
   ]
  },
  {
   "cell_type": "code",
   "execution_count": null,
   "id": "198c5760-0d3e-4240-81b3-861d6a04027e",
   "metadata": {},
   "outputs": [],
   "source": [
    "f,ax = plt.subplots(figsize=(6, 6))\n",
    "im = ax.imshow(vm_myr,vmin=0,vmax=500,cmap='magma')\n",
    "ax.set_aspect('equal')\n",
    "plt.colorbar(im, label='m/yr')\n",
    "ax.set_title(\"mean velocity, 2022-09-19 to 2022-10-29\")\n",
    "#plt.savefig('./figs/karakoram_veloc.png', dpi=300)"
   ]
  },
  {
   "cell_type": "code",
   "execution_count": null,
   "id": "529bc445-733e-405d-9c57-596e07653045",
   "metadata": {},
   "outputs": [],
   "source": [
    "f,ax = plt.subplots()\n",
    "ax.imshow(obj.InterpMask,cmap='gray')\n",
    "ax.set_title('Interpolation map')\n",
    "# these pixels are the ones which were interpolated, not correlated by feature tracking"
   ]
  },
  {
   "cell_type": "code",
   "execution_count": null,
   "id": "e1bc9a1c-59cd-4061-87ef-cd107507a368",
   "metadata": {},
   "outputs": [],
   "source": [
    "f,ax = plt.subplots()\n",
    "im = ax.imshow(obj.ChipSizeX,cmap='Accent')\n",
    "plt.colorbar(im)\n",
    "ax.set_title('Final Chip size used')\n",
    "# chip sizes of this length were used in correlation"
   ]
  },
  {
   "cell_type": "code",
   "execution_count": null,
   "id": "73c5a0b9-8417-45e4-ac3f-7900fc56d384",
   "metadata": {},
   "outputs": [],
   "source": [
    "fake_init_gt = [519260.0,10,0.0,4030010.0,0.0,-10.0,]\n",
    "ulx = fake_init_gt[0]+obj.xGrid[0,0]*fake_init_gt[1] # upper-left cordinate\n",
    "resx = fake_init_gt[1]*obj.SkipSampleX # horizontal resolution\n",
    "rotx = fake_init_gt[2] # no-change\n",
    "uly = fake_init_gt[3] + obj.yGrid[0,0]*fake_init_gt[5]\n",
    "roty = fake_init_gt[4]\n",
    "resy = fake_init_gt[5]*obj.SkipSampleY\n",
    "gt_fn = [ulx,resx,rotx,uly,roty,resy]"
   ]
  },
  {
   "cell_type": "code",
   "execution_count": null,
   "id": "58eb0248-d684-4ee7-aff3-7f4e6d06a1b5",
   "metadata": {},
   "outputs": [],
   "source": [
    "def gdal2rasterio_transform(gt_fn):\n",
    "    return rio.Affine(gt_fn[1],gt_fn[2],gt_fn[0],gt_fn[4],gt_fn[5],gt_fn[3])"
   ]
  },
  {
   "cell_type": "code",
   "execution_count": null,
   "id": "7d963b8b-148f-4b19-b4c8-b8d93b3db1de",
   "metadata": {},
   "outputs": [],
   "source": [
    "def ar2tif(ma_ar,outfn,crs,nodata,transform):\n",
    "    with rio.open(outfn,\n",
    "                      'w',\n",
    "                      driver='GTiff',\n",
    "                      height=ma_ar.shape[0],\n",
    "                      width=ma_ar.shape[1],\n",
    "                      count=1,\n",
    "                      dtype=ma_ar.dtype,\n",
    "                      crs=crs,\n",
    "                      nodata=nodata,\n",
    "                      transform=transform) as dst:\n",
    "        dst.write(np.ma.filled(ma_ar,fill_value=nodata),1)"
   ]
  },
  {
   "cell_type": "code",
   "execution_count": null,
   "id": "90e4f308-1120-4579-91c2-12eed2108817",
   "metadata": {},
   "outputs": [],
   "source": [
    "# # save the files one by one\n",
    "# ar2tif(vx_myr,'20220919_20221029_EW_velocity_myr.tif',\n",
    "#       ds.crs,-9999.0,gdal2rasterio_transform(gt_fn))"
   ]
  }
 ],
 "metadata": {
  "kernelspec": {
   "display_name": "Python 3 (ipykernel)",
   "language": "python",
   "name": "python3"
  },
  "language_info": {
   "codemirror_mode": {
    "name": "ipython",
    "version": 3
   },
   "file_extension": ".py",
   "mimetype": "text/x-python",
   "name": "python",
   "nbconvert_exporter": "python",
   "pygments_lexer": "ipython3",
   "version": "3.11.4"
  }
 },
 "nbformat": 4,
 "nbformat_minor": 5
}

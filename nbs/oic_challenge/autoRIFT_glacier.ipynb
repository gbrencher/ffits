{
 "cells": [
  {
   "cell_type": "markdown",
   "id": "a5fef152-f05a-4f5c-92c4-7790875f2f79",
   "metadata": {},
   "source": [
    "# Run autoRIFT for Sentinel 2 images"
   ]
  },
  {
   "cell_type": "code",
   "execution_count": 1,
   "id": "4f6bdc1b-9e6f-4f1a-a827-f4f93272f845",
   "metadata": {},
   "outputs": [],
   "source": [
    "# Import required packages\n",
    "import os\n",
    "import sys\n",
    "import numpy as np\n",
    "import matplotlib.pyplot as plt\n",
    "from osgeo import gdal\n",
    "from datetime import datetime, timedelta\n",
    "import time\n",
    "import rasterio as rio\n",
    "import xarray as xr\n",
    "import rioxarray\n",
    "import isce\n",
    "import logging\n",
    "root_logger = logging.getLogger()\n",
    "root_logger.setLevel('WARNING')\n",
    "import logging\n",
    "from imageMath import IML\n",
    "import isce\n",
    "from components.contrib.geo_autoRIFT.autoRIFT import autoRIFT_ISCE\n",
    "from components.contrib.geo_autoRIFT.autoRIFT import __version__ as version\n",
    "import isceobj\n",
    "import subprocess\n",
    "from scipy.interpolate import interpn\n",
    "from glob import glob\n",
    "import pandas as pd"
   ]
  },
  {
   "cell_type": "code",
   "execution_count": 2,
   "id": "c20355f3-b5a8-4fb0-86e8-e6958a3ed445",
   "metadata": {},
   "outputs": [],
   "source": [
    "os.environ['AUTORIFT'] = '/mnt/Backups/gbrench/sw/insar_tools/isce2/src/isce2/contrib/geo_autoRIFT'\n",
    "os.environ['PYTHONPATH'] = os.environ['AUTORIFT']\n",
    "os.environ['PATH'] += f\":{os.environ['AUTORIFT']}\""
   ]
  },
  {
   "cell_type": "code",
   "execution_count": 3,
   "id": "bb2d93b0-0c6d-4342-b3e6-3ac720b0d6fc",
   "metadata": {},
   "outputs": [],
   "source": [
    "# la valette landslide scene list:\n",
    "#scene_list = os.listdir('data/OIC_mount_blanc_massif_glacier')\n",
    "scene_list = ['T32TLR_20200812T103031_B08.tif',\n",
    " 'T32TLR_20200916T102649_B08.tif',\n",
    " 'T32TLR_20210812T102559_B08.tif']"
   ]
  },
  {
   "cell_type": "code",
   "execution_count": 4,
   "id": "9763ac20-4229-44a5-8f91-03de1e73f7fb",
   "metadata": {},
   "outputs": [],
   "source": [
    "proc_path = '/mnt/Backups/gbrench/repos/fusits/nbs/oic_challenge/data/OIC_mount_blanc_massif_glacier'"
   ]
  },
  {
   "cell_type": "code",
   "execution_count": 5,
   "id": "02eb8f55-a5c0-4f29-b9b9-35a55860fd43",
   "metadata": {},
   "outputs": [],
   "source": [
    "def select_pairs(scene_list, min_temp_bline, max_temp_bline):\n",
    "    scene_dates = {}\n",
    "    for scene in scene_list:\n",
    "        date = scene[7:15]\n",
    "        scene_dates[date] = scene\n",
    "\n",
    "    pairs = []\n",
    "    for date1 in scene_dates:\n",
    "        for date2 in scene_dates:\n",
    "            if datetime.strptime(date2, '%Y%m%d')-datetime.strptime(date1, '%Y%m%d') < timedelta(days=max_temp_bline) and not datetime.strptime(date2, '%Y%m%d')-datetime.strptime(date1, '%Y%m%d') < timedelta(days=min_temp_bline) and not date1 >= date2 :\n",
    "                pairs.append([date1, date2])\n",
    "    \n",
    "    print(f'number of pairs: {len(pairs)}')\n",
    "    \n",
    "    return pairs"
   ]
  },
  {
   "cell_type": "code",
   "execution_count": 6,
   "id": "b9041e5d-393e-4ea8-beb9-d652d5087cd8",
   "metadata": {},
   "outputs": [
    {
     "name": "stdout",
     "output_type": "stream",
     "text": [
      "number of pairs: 3\n"
     ]
    }
   ],
   "source": [
    "pairs = select_pairs(scene_list, 10, 100000) # all possible pairs"
   ]
  },
  {
   "cell_type": "code",
   "execution_count": 7,
   "id": "a46869ba-3cde-48e1-a91a-88ce7fd2b1bb",
   "metadata": {},
   "outputs": [],
   "source": [
    "def run_autoRIFT(pair, skip_x=1, skip_y=3, scale_y_chip=3, min_azm_chip=16, max_azm_chip=64,\n",
    "                 preproc_filter_width=21, mpflag=10, search_limit_x=10, search_limit_y=10):\n",
    "\n",
    "    print(f'opening pair: {pair[0]}-{pair[1]}')\n",
    "\n",
    "    reference_fn = glob(f'{proc_path}/*{pair[0]}*.tif')[0]\n",
    "    secondary_fn = glob(f'{proc_path}/*{pair[1]}*.tif')[0]\n",
    "\n",
    "    ds1 = gdal.Open(reference_fn, gdal.GA_ReadOnly)\n",
    "    img1 = ds1.GetRasterBand(1).ReadAsArray()\n",
    "\n",
    "    ds2 = gdal.Open(secondary_fn, gdal.GA_ReadOnly)\n",
    "    img2 = ds2.GetRasterBand(1).ReadAsArray()\n",
    "\n",
    "    I1 = np.abs(img1)\n",
    "    I2 = np.abs(img2)\n",
    "        \n",
    "    obj = autoRIFT_ISCE()\n",
    "    obj.configure()\n",
    "    obj.MultiThread = mpflag\n",
    "\n",
    "    obj.I1 = I1\n",
    "    obj.I2 = I2\n",
    "\n",
    "    obj.SkipSampleX = skip_x\n",
    "    obj.SkipSampleY = skip_y\n",
    "\n",
    "    # Kernel sizes to use for correlation\n",
    "    obj.ChipSizeMinX = min_azm_chip\n",
    "    obj.ChipSizeMaxX = max_azm_chip\n",
    "    obj.ChipSize0X = min_azm_chip\n",
    "    # oversample ratio, balancing precision and performance for different chip sizes\n",
    "    obj.OverSampleRatio = {obj.ChipSize0X:16,obj.ChipSize0X*2:32,obj.ChipSize0X*4:64}\n",
    "\n",
    "    # generate grid\n",
    "    m,n = obj.I1.shape\n",
    "    xGrid = np.arange(obj.SkipSampleX+10,n-obj.SkipSampleX,obj.SkipSampleX)\n",
    "    yGrid = np.arange(obj.SkipSampleY+10,m-obj.SkipSampleY,obj.SkipSampleY)\n",
    "    nd = xGrid.__len__()\n",
    "    md = yGrid.__len__()\n",
    "    obj.xGrid = np.int32(np.dot(np.ones((md,1)),np.reshape(xGrid,(1,xGrid.__len__()))))\n",
    "    obj.yGrid = np.int32(np.dot(np.reshape(yGrid,(yGrid.__len__(),1)),np.ones((1,nd))))\n",
    "    noDataMask = np.invert(np.logical_and(obj.I1[:, xGrid-1][yGrid-1, ] > 0, obj.I2[:, xGrid-1][yGrid-1, ] > 0))\n",
    "\n",
    "    # set search limits\n",
    "    obj.SearchLimitX = np.full_like(obj.xGrid, search_limit_x)\n",
    "    obj.SearchLimitY = np.full_like(obj.xGrid, search_limit_y)\n",
    "\n",
    "    # set search limit and offsets in nodata areas\n",
    "    obj.SearchLimitX = obj.SearchLimitX * np.logical_not(noDataMask)\n",
    "    obj.SearchLimitY = obj.SearchLimitY * np.logical_not(noDataMask)\n",
    "    obj.Dx0 = obj.Dx0 * np.logical_not(noDataMask)\n",
    "    obj.Dy0 = obj.Dy0 * np.logical_not(noDataMask)\n",
    "    obj.Dx0[noDataMask] = 0\n",
    "    obj.Dy0[noDataMask] = 0\n",
    "    obj.NoDataMask = noDataMask\n",
    "\n",
    "    print(\"preprocessing\")\n",
    "    obj.WallisFilterWidth = preproc_filter_width\n",
    "    obj.preprocess_filt_hps()\n",
    "    obj.uniform_data_type()\n",
    "\n",
    "    print(\"starting autoRIFT\")\n",
    "    obj.runAutorift()\n",
    "    print(\"autoRIFT complete\")\n",
    "\n",
    "    # convert displacement to m\n",
    "    obj.Dx_m = obj.Dx * 10\n",
    "    obj.Dy_m = obj.Dy * 10\n",
    "        \n",
    "    return obj"
   ]
  },
  {
   "cell_type": "code",
   "execution_count": 8,
   "id": "b98e0302-7baf-42ca-b5f0-e23842ccd04a",
   "metadata": {},
   "outputs": [],
   "source": [
    "os.makedirs(f'{proc_path}/Sentinel2', exist_ok=True)\n",
    "os.makedirs(f'{proc_path}/Sentinel2/IC-OF_RESULTS', exist_ok=True)\n",
    "os.makedirs(f'{proc_path}/Sentinel2/VELOCITY', exist_ok=True)\n",
    "os.makedirs(f'{proc_path}/Sentinel2/DISPLACEMENT', exist_ok=True)"
   ]
  },
  {
   "cell_type": "code",
   "execution_count": 9,
   "id": "8b385c59-e80b-4335-8925-e7666e80799c",
   "metadata": {
    "scrolled": true
   },
   "outputs": [
    {
     "name": "stdout",
     "output_type": "stream",
     "text": [
      "working on 1/3\n",
      "opening pair: 20200812-20200916\n",
      "preprocessing\n",
      "starting autoRIFT\n"
     ]
    },
    {
     "name": "stderr",
     "output_type": "stream",
     "text": [
      "/mnt/Backups/gbrench/sw/miniconda3/envs/insar/lib/python3.11/site-packages/isce/components/contrib/geo_autoRIFT/autoRIFT/autoRIFT.py:1413: RuntimeWarning: All-NaN slice encountered\n",
      "  D = np.nanmedian(B,axis=0)\n",
      "/mnt/Backups/gbrench/sw/miniconda3/envs/insar/lib/python3.11/site-packages/isce/components/contrib/geo_autoRIFT/autoRIFT/autoRIFT.py:1416: RuntimeWarning: All-NaN slice encountered\n",
      "  C = np.nanmedian(D,axis=0, overwrite_input=True)\n",
      "/mnt/Backups/gbrench/sw/miniconda3/envs/insar/lib/python3.11/site-packages/isce/components/contrib/geo_autoRIFT/autoRIFT/autoRIFT.py:1403: RuntimeWarning: All-NaN slice encountered\n",
      "  C = np.nanmedian(B,axis=0, overwrite_input=True)\n",
      "/mnt/Backups/gbrench/sw/miniconda3/envs/insar/lib/python3.11/site-packages/isce/components/contrib/geo_autoRIFT/autoRIFT/autoRIFT.py:1468: RuntimeWarning: divide by zero encountered in divide\n",
      "  DxMadmin = np.ones(Dx.shape) / OverSampleRatio / SearchLimitX * 2;\n",
      "/mnt/Backups/gbrench/sw/miniconda3/envs/insar/lib/python3.11/site-packages/isce/components/contrib/geo_autoRIFT/autoRIFT/autoRIFT.py:1469: RuntimeWarning: divide by zero encountered in divide\n",
      "  DyMadmin = np.ones(Dy.shape) / OverSampleRatio / SearchLimitY * 2;\n",
      "/mnt/Backups/gbrench/sw/miniconda3/envs/insar/lib/python3.11/site-packages/isce/components/contrib/geo_autoRIFT/autoRIFT/autoRIFT.py:1399: RuntimeWarning: Mean of empty slice\n",
      "  C = np.nanmean(B,axis=0)\n"
     ]
    },
    {
     "name": "stdout",
     "output_type": "stream",
     "text": [
      "autoRIFT complete\n",
      "--------------------------------\n",
      "working on 2/3\n",
      "opening pair: 20200812-20210812\n",
      "preprocessing\n",
      "starting autoRIFT\n"
     ]
    },
    {
     "name": "stderr",
     "output_type": "stream",
     "text": [
      "/mnt/Backups/gbrench/sw/miniconda3/envs/insar/lib/python3.11/site-packages/isce/components/contrib/geo_autoRIFT/autoRIFT/autoRIFT.py:1413: RuntimeWarning: All-NaN slice encountered\n",
      "  D = np.nanmedian(B,axis=0)\n",
      "/mnt/Backups/gbrench/sw/miniconda3/envs/insar/lib/python3.11/site-packages/isce/components/contrib/geo_autoRIFT/autoRIFT/autoRIFT.py:1416: RuntimeWarning: All-NaN slice encountered\n",
      "  C = np.nanmedian(D,axis=0, overwrite_input=True)\n",
      "/mnt/Backups/gbrench/sw/miniconda3/envs/insar/lib/python3.11/site-packages/isce/components/contrib/geo_autoRIFT/autoRIFT/autoRIFT.py:1403: RuntimeWarning: All-NaN slice encountered\n",
      "  C = np.nanmedian(B,axis=0, overwrite_input=True)\n",
      "/mnt/Backups/gbrench/sw/miniconda3/envs/insar/lib/python3.11/site-packages/isce/components/contrib/geo_autoRIFT/autoRIFT/autoRIFT.py:1468: RuntimeWarning: divide by zero encountered in divide\n",
      "  DxMadmin = np.ones(Dx.shape) / OverSampleRatio / SearchLimitX * 2;\n",
      "/mnt/Backups/gbrench/sw/miniconda3/envs/insar/lib/python3.11/site-packages/isce/components/contrib/geo_autoRIFT/autoRIFT/autoRIFT.py:1469: RuntimeWarning: divide by zero encountered in divide\n",
      "  DyMadmin = np.ones(Dy.shape) / OverSampleRatio / SearchLimitY * 2;\n",
      "/mnt/Backups/gbrench/sw/miniconda3/envs/insar/lib/python3.11/site-packages/isce/components/contrib/geo_autoRIFT/autoRIFT/autoRIFT.py:1399: RuntimeWarning: Mean of empty slice\n",
      "  C = np.nanmean(B,axis=0)\n"
     ]
    },
    {
     "name": "stdout",
     "output_type": "stream",
     "text": [
      "autoRIFT complete\n",
      "--------------------------------\n",
      "working on 3/3\n",
      "opening pair: 20200916-20210812\n",
      "preprocessing\n",
      "starting autoRIFT\n"
     ]
    },
    {
     "name": "stderr",
     "output_type": "stream",
     "text": [
      "/mnt/Backups/gbrench/sw/miniconda3/envs/insar/lib/python3.11/site-packages/isce/components/contrib/geo_autoRIFT/autoRIFT/autoRIFT.py:1413: RuntimeWarning: All-NaN slice encountered\n",
      "  D = np.nanmedian(B,axis=0)\n",
      "/mnt/Backups/gbrench/sw/miniconda3/envs/insar/lib/python3.11/site-packages/isce/components/contrib/geo_autoRIFT/autoRIFT/autoRIFT.py:1416: RuntimeWarning: All-NaN slice encountered\n",
      "  C = np.nanmedian(D,axis=0, overwrite_input=True)\n",
      "/mnt/Backups/gbrench/sw/miniconda3/envs/insar/lib/python3.11/site-packages/isce/components/contrib/geo_autoRIFT/autoRIFT/autoRIFT.py:1403: RuntimeWarning: All-NaN slice encountered\n",
      "  C = np.nanmedian(B,axis=0, overwrite_input=True)\n",
      "/mnt/Backups/gbrench/sw/miniconda3/envs/insar/lib/python3.11/site-packages/isce/components/contrib/geo_autoRIFT/autoRIFT/autoRIFT.py:1468: RuntimeWarning: divide by zero encountered in divide\n",
      "  DxMadmin = np.ones(Dx.shape) / OverSampleRatio / SearchLimitX * 2;\n",
      "/mnt/Backups/gbrench/sw/miniconda3/envs/insar/lib/python3.11/site-packages/isce/components/contrib/geo_autoRIFT/autoRIFT/autoRIFT.py:1469: RuntimeWarning: divide by zero encountered in divide\n",
      "  DyMadmin = np.ones(Dy.shape) / OverSampleRatio / SearchLimitY * 2;\n",
      "/mnt/Backups/gbrench/sw/miniconda3/envs/insar/lib/python3.11/site-packages/isce/components/contrib/geo_autoRIFT/autoRIFT/autoRIFT.py:1399: RuntimeWarning: Mean of empty slice\n",
      "  C = np.nanmean(B,axis=0)\n"
     ]
    },
    {
     "name": "stdout",
     "output_type": "stream",
     "text": [
      "autoRIFT complete\n",
      "--------------------------------\n"
     ]
    }
   ],
   "source": [
    "offset_dict = {}\n",
    "\n",
    "for i, pair in enumerate(pairs):\n",
    "    print(f'working on {i+1}/{len(pairs)}')\n",
    "    obj = run_autoRIFT(pair)\n",
    "\n",
    "    # interpolate to original dimensions \n",
    "    x_coords = obj.xGrid[0, :]\n",
    "    y_coords = obj.yGrid[:, 0]\n",
    "    \n",
    "    # Create a mesh grid for the img dimensions\n",
    "    x_coords_new, y_coords_new = np.meshgrid(\n",
    "        np.arange(obj.I1.shape[1]),\n",
    "        np.arange(obj.I1.shape[0])\n",
    "    )\n",
    "\n",
    "    # Perform bilinear interpolation using scipy.interpolate.interpn\n",
    "    Dx_full = interpn((y_coords, x_coords), obj.Dx, (y_coords_new, x_coords_new), method=\"linear\", bounds_error=False)\n",
    "    Dy_full = interpn((y_coords, x_coords), obj.Dy, (y_coords_new, x_coords_new), method=\"linear\", bounds_error=False)\n",
    "    Dx_m_full = interpn((y_coords, x_coords), obj.Dx_m, (y_coords_new, x_coords_new), method=\"linear\", bounds_error=False)\n",
    "    Dy_m_full = interpn((y_coords, x_coords), obj.Dy_m, (y_coords_new, x_coords_new), method=\"linear\", bounds_error=False)\n",
    "    \n",
    "    # open img \n",
    "    ds = xr.open_dataset(f'{proc_path}/T32TLR_20200812T103031_B08.tif')\n",
    "    ds = ds.assign({'Dx':(['y', 'x'], Dx_full),\n",
    "                     'Dy':(['y', 'x'], Dy_full),\n",
    "                     'Dx_m':(['y', 'x'], Dx_m_full),\n",
    "                     'Dy_m':(['y', 'x'], Dy_m_full)})\n",
    "    ds['veloc_x'] = ds.Dx_m/((pd.to_datetime(pair[1]) - pd.to_datetime(pair[0])).days/365.25)\n",
    "    ds['veloc_y'] = ds.Dy_m/((pd.to_datetime(pair[1]) - pd.to_datetime(pair[0])).days/365.25)\n",
    "\n",
    "    offset_dict[f'{pair[0]}_{pair[1]}'] = ds\n",
    "   \n",
    "    # write to tifs\n",
    "    ds.Dx.rio.to_raster(f'{proc_path}/Sentinel2/IC-OF_RESULTS/EW_{pair[0]}-{pair[1]}_raw.tif')\n",
    "    ds.Dy.rio.to_raster(f'{proc_path}/Sentinel2/IC-OF_RESULTS/NS_{pair[0]}-{pair[1]}_raw.tif')\n",
    "    ds.Dx_m.rio.to_raster(f'{proc_path}/Sentinel2/DISPLACEMENT/EW_{pair[0]}-{pair[1]}_disp_tot.tif')\n",
    "    ds.Dy_m.rio.to_raster(f'{proc_path}/Sentinel2/DISPLACEMENT/NS_{pair[0]}-{pair[1]}_disp_tot.tif')\n",
    "    ds.veloc_x.rio.to_raster(f'{proc_path}/Sentinel2/VELOCITY/EW_{pair[0]}-{pair[1]}_vel_mean.tif')\n",
    "    ds.veloc_y.rio.to_raster(f'{proc_path}/Sentinel2/VELOCITY/NS_{pair[0]}-{pair[1]}_vel_mean.tif')\n",
    "\n",
    "    print('--------------------------------')"
   ]
  },
  {
   "cell_type": "code",
   "execution_count": 14,
   "id": "1b3fa44c-92e2-4640-ae90-063a8f32d7d9",
   "metadata": {},
   "outputs": [],
   "source": [
    "EW_raw_ds = xr.open_dataset(f'{proc_path}/Sentinel2/IC-OF_RESULTS/EW_20200916-20210812_raw.tif')\n",
    "NS_raw_ds = xr.open_dataset(f'{proc_path}/Sentinel2/IC-OF_RESULTS/NS_20200916-20210812_raw.tif')"
   ]
  },
  {
   "cell_type": "code",
   "execution_count": 15,
   "id": "01e64289-f134-4673-b202-3d69c5e00626",
   "metadata": {},
   "outputs": [],
   "source": [
    "(EW_raw_ds.band_data*10).rio.to_raster(f'{proc_path}/Sentinel2/DISPLACEMENT/EW_20200916-20210812_disp_tot.tif')\n",
    "(NS_raw_ds.band_data*10).rio.to_raster(f'{proc_path}/Sentinel2/DISPLACEMENT/NS_20200916-20210812_disp_tot.tif')"
   ]
  }
 ],
 "metadata": {
  "kernelspec": {
   "display_name": "Python 3 (ipykernel)",
   "language": "python",
   "name": "python3"
  },
  "language_info": {
   "codemirror_mode": {
    "name": "ipython",
    "version": 3
   },
   "file_extension": ".py",
   "mimetype": "text/x-python",
   "name": "python",
   "nbconvert_exporter": "python",
   "pygments_lexer": "ipython3",
   "version": "3.11.6"
  }
 },
 "nbformat": 4,
 "nbformat_minor": 5
}

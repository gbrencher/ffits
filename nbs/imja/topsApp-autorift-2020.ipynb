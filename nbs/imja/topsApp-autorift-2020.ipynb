{
 "cells": [
  {
   "cell_type": "code",
   "execution_count": 1,
   "id": "f23fef9d-a598-4cc7-8d28-3bbbead1cec0",
   "metadata": {},
   "outputs": [],
   "source": [
    "# Import required packages\n",
    "import os\n",
    "import sys\n",
    "import getpass\n",
    "import asf_search as asf\n",
    "import logging\n",
    "import isce\n",
    "root_logger = logging.getLogger()\n",
    "root_logger.setLevel('WARNING')\n",
    "import numpy as np\n",
    "import matplotlib.pyplot as plt\n",
    "from osgeo import gdal\n",
    "from datetime import datetime, timedelta\n",
    "import xarray as xr\n",
    "import rasterio as rio\n",
    "import rioxarray\n",
    "import geopandas as gpd\n",
    "import time\n",
    "from glob import glob\n",
    "import scipy.signal"
   ]
  },
  {
   "cell_type": "code",
   "execution_count": null,
   "id": "1f2a1e75-c510-4a78-aeee-c1bc65b68ab7",
   "metadata": {
    "scrolled": true,
    "tags": []
   },
   "outputs": [],
   "source": [
    "# # install autoRIFT in notebook environment\n",
    "# !mamba install --yes --prefix {sys.prefix} autorift\n",
    "# !{sys.executable} -m pip install opencv-python-headless"
   ]
  },
  {
   "cell_type": "code",
   "execution_count": 2,
   "id": "f6d963f3-00fc-440f-8f69-c3d879527b77",
   "metadata": {},
   "outputs": [],
   "source": [
    "from autoRIFT import autoRIFT"
   ]
  },
  {
   "cell_type": "code",
   "execution_count": 3,
   "id": "38e61672-4320-444a-8b5c-13b972b16693",
   "metadata": {},
   "outputs": [],
   "source": [
    "# Set environment variables so that you can call ISCE from the command line\n",
    "os.environ['ISCE_HOME'] = os.path.dirname(isce.__file__)\n",
    "os.environ['ISCE_ROOT'] = os.path.dirname(os.environ['ISCE_HOME'])\n",
    "os.environ['PATH']+='{ISCE_HOME}/bin:{ISCE_HOME}/applications'.format(**os.environ)"
   ]
  },
  {
   "cell_type": "markdown",
   "id": "ef4dcba5-8db1-4d9f-99d3-e6e26362a42e",
   "metadata": {},
   "source": [
    "## Define utilities"
   ]
  },
  {
   "cell_type": "code",
   "execution_count": 4,
   "id": "fcc984d3-3e4d-4cff-8ec6-921dfec54873",
   "metadata": {},
   "outputs": [],
   "source": [
    "# select pairs from pair list\n",
    "def select_pairs(scene_list, max_temp_bline):\n",
    "    scene_dates = {}\n",
    "    for scene in scene_list:\n",
    "        date = scene[17:25]\n",
    "        scene_dates[date] = scene\n",
    "        \n",
    "    pair_dict = {}\n",
    "    pair_scenes = []\n",
    "    for date1 in scene_dates:\n",
    "        for date2 in scene_dates:\n",
    "            if datetime.strptime(date2, '%Y%m%d')-datetime.strptime(date1, '%Y%m%d') < timedelta(days=max_temp_bline) and not date1 >= date2 :\n",
    "                pair_dict[f'{date1}-{date2}'] = [scene_dates[date1], scene_dates[date2]]\n",
    "                pair_scenes.append(scene_dates[date1])\n",
    "                pair_scenes.append(scene_dates[date2])\n",
    "    pair_scenes = [*set(pair_scenes)]\n",
    "    \n",
    "    print(f'number of pairs: {len(pair_dict)}')\n",
    "    \n",
    "    return pair_dict, pair_scenes"
   ]
  },
  {
   "cell_type": "code",
   "execution_count": 5,
   "id": "0eaa1b68-bb76-4710-b90b-94284d2f6c2c",
   "metadata": {},
   "outputs": [],
   "source": [
    "def generate_configs(pair_dict,\n",
    "                     proc_path,\n",
    "                     range_looks,\n",
    "                     azimuth_looks,\n",
    "                     aoi):\n",
    "    \n",
    "    for pair in pair_dict:\n",
    "        os.chdir(f'{proc_path}/{pair}')\n",
    "\n",
    "        reference = pair_dict[pair][0]\n",
    "        secondary = pair_dict[pair][1]\n",
    "\n",
    "        cmd_topsApp_config =f'''<?xml version=\"1.0\" encoding=\"UTF-8\"?>\n",
    "        <topsApp>\n",
    "          <component name=\"topsinsar\">\n",
    "            <property name=\"Sensor name\">SENTINEL1</property>\n",
    "            <component name=\"reference\">\n",
    "                <catalog>reference.xml</catalog>\n",
    "            </component>\n",
    "            <component name=\"secondary\">\n",
    "                <catalog>secondary.xml</catalog>\n",
    "            </component>\n",
    "            <property name=\"range looks\">{range_looks}</property>\n",
    "            <property name=\"azimuth looks\">{azimuth_looks}</property>\n",
    "            <property name=\"region of interest\">{aoi}</property>\n",
    "            <property name=\"do unwrap\">True</property>\n",
    "            <property name=\"unwrapper name\">snaphu_mcf</property>\n",
    "            <property name=\"do denseoffsets\">True</property>\n",
    "            <property name=\"geocode list\">['merged/phsig.cor', 'merged/filt_topophase.unw', 'merged/los.rdr', 'merged/topophase.flat', 'merged/filt_topophase.flat','merged/topophase.cor','merged/filt_topophase.unw.conncomp']</property>\n",
    "          </component>\n",
    "        </topsApp>'''\n",
    "        print(\"writing topsApp.xml\")\n",
    "        with open(\"topsApp.xml\", \"w\") as fid:\n",
    "            fid.write(cmd_topsApp_config)\n",
    "\n",
    "        cmd_reference_config = f'''<component name=\"reference\">\n",
    "            <property name=\"orbit directory\">{proc_path}/orbits</property>\n",
    "            <property name=\"output directory\">reference</property>\n",
    "            <property name=\"safe\">['{proc_path}/slc/{reference}.zip']</property>\n",
    "        </component>'''\n",
    "        print(\"writing reference.xml\")\n",
    "        with open(\"reference.xml\", \"w\") as fid:\n",
    "            fid.write(cmd_reference_config)\n",
    "\n",
    "            cmd_secondary_config = f'''<component name=\"secondary\">\n",
    "            <property name=\"orbit directory\">{proc_path}/orbits</property>\n",
    "            <property name=\"output directory\">secondary</property>\n",
    "            <property name=\"safe\">['{proc_path}/slc/{secondary}.zip']</property>\n",
    "        </component>'''\n",
    "        print(\"writing secondary.xml\")\n",
    "        with open(\"secondary.xml\", \"w\") as fid:\n",
    "            fid.write(cmd_secondary_config)"
   ]
  },
  {
   "cell_type": "code",
   "execution_count": 6,
   "id": "8d4656f5-863c-4de6-b2bf-8bdd561bdcff",
   "metadata": {},
   "outputs": [],
   "source": [
    "def isce_to_ds(path):\n",
    "    \n",
    "    unw_phase_path = glob(f'{path}/merged/filt_topophase.unw.geo.vrt')[0]\n",
    "    dem_path = glob(f'{path}/merged/dem.crop.vrt')[0]\n",
    "    w_phase_path = glob(f'{path}/merged/filt_topophase.flat.geo.vrt')[0]\n",
    "    corr_path = glob(f'{path}/merged/topophase.cor.geo.vrt')[0]\n",
    "    conncomp_path = glob(f'{path}/merged/filt_topophase.unw.conncomp.geo.vrt')[0]\n",
    "    \n",
    "    ds = rioxarray.open_rasterio(unw_phase_path).isel(band=1).to_dataset(name='unw_phase')\n",
    "    dem_da = rioxarray.open_rasterio(dem_path)\n",
    "    w_phase_da = rioxarray.open_rasterio(w_phase_path)\n",
    "    corr_da = rioxarray.open_rasterio(corr_path).isel(band=1)\n",
    "    conncomp_da = rioxarray.open_rasterio(conncomp_path)\n",
    "    \n",
    "    ds['elevation'] = (('y', 'x'), dem_da.squeeze().values)\n",
    "    ds['w_phase'] = (('y', 'x'), np.angle(w_phase_da.squeeze()))\n",
    "    ds['coherence'] = (('y', 'x'), corr_da.squeeze().values)\n",
    "    ds['conncomp'] = (('y', 'x'), conncomp_da.squeeze().values)\n",
    "    \n",
    "    ds = ds.rio.reproject(ds.rio.estimate_utm_crs())\n",
    "    \n",
    "    return ds"
   ]
  },
  {
   "cell_type": "code",
   "execution_count": 7,
   "id": "7b102d27-a404-4a9d-981a-726014633bd8",
   "metadata": {},
   "outputs": [],
   "source": [
    "# open coregistered SLCs\n",
    "def isce_to_np(path):\n",
    "    unw_phase_path = glob(f'{path}/merged/reference.slc.full.vrt')[0]\n",
    "    dem_path = glob(f'{path}/merged/secondary.slc.full.vrt')[0]\n",
    "    \n",
    "    ref_np = np.abs(rioxarray.open_rasterio(unw_phase_path).squeeze().values)\n",
    "    sec_np = np.abs(rioxarray.open_rasterio(dem_path).squeeze().values)\n",
    "    \n",
    "    return ref_np, sec_np"
   ]
  },
  {
   "cell_type": "code",
   "execution_count": 8,
   "id": "2325a157-d0b8-4c59-8b40-3b436030c474",
   "metadata": {},
   "outputs": [],
   "source": [
    "def prep_autorift(ref, sec):\n",
    "    # setup autoRIFT parameters\n",
    "    obj = autoRIFT()\n",
    "    obj.I1 = ref\n",
    "    obj.I2 = sec\n",
    "\n",
    "    # define chip size ranges\n",
    "    ## Kernel sizes to use for correlation\n",
    "    obj.ChipSizeMinX = 16\n",
    "    obj.ChipSizeMaxX = 128\n",
    "\n",
    "    # check and refine this\n",
    "    obj.ChipSize0X = 16\n",
    "\n",
    "    # skip rate setup\n",
    "    # Produce output at a grid x time the input resolution \n",
    "    obj.SkipSampleX = 4\n",
    "    obj.SkipSampleY = 4\n",
    "\n",
    "    # preprocess to bring out edges in the image\n",
    "    prefilter_choice = 'lap'\n",
    "    obj.WallisFilterWidth = 3\n",
    "    obj.preprocess_filt_wal()\n",
    "    \n",
    "    # downcast to 8 bit\n",
    "    obj.uniform_data_type()\n",
    "\n",
    "    # create the grid if it does not exist (from test_autoRIFT.py)\n",
    "    m,n = obj.I1.shape\n",
    "    xGrid = np.arange(obj.SkipSampleX+10,n-obj.SkipSampleX,obj.SkipSampleX)\n",
    "    yGrid = np.arange(obj.SkipSampleY+10,m-obj.SkipSampleY,obj.SkipSampleY) \n",
    "    nd = xGrid.__len__()\n",
    "    md = yGrid.__len__()\n",
    "    obj.xGrid = np.int32(np.dot(np.ones((md,1)),np.reshape(xGrid,(1,xGrid.__len__()))))\n",
    "    obj.yGrid = np.int32(np.dot(np.reshape(yGrid,(yGrid.__len__(),1)),np.ones((1,nd))))\n",
    "    noDataMask = np.logical_not(obj.xGrid)\n",
    "    \n",
    "    return obj"
   ]
  },
  {
   "cell_type": "code",
   "execution_count": 9,
   "id": "309e6595-75c8-4177-8b74-4b441974d684",
   "metadata": {},
   "outputs": [],
   "source": [
    "def offsets_to_isce(obj, path):\n",
    "    \n",
    "    # save to isce rasters\n",
    "    azimuth_offsets = xr.DataArray(obj.Dy,\n",
    "                                   coords={'y':np.arange(obj.Dy.shape[0], 0, -1), 'x':np.arange(0, obj.Dy.shape[1])},\n",
    "                                   dims=['y', 'x'])\n",
    "\n",
    "    range_offsets = xr.DataArray(obj.Dx,\n",
    "                                 coords={'y':np.arange(obj.Dx.shape[0], 0, -1), 'x':np.arange(0, obj.Dx.shape[1])},\n",
    "                                 dims=['y', 'x'])\n",
    "\n",
    "    azimuth_offsets.rio.to_raster('./merged/azimuth_offsets_raw', driver='ISCE')\n",
    "    range_offsets.rio.to_raster('./merged/range_offsets_raw', driver='ISCE')\n",
    "    \n",
    "    # build vrts and multilook offsets\n",
    "    !gdalbuildvrt $f'{path}/merged/azimuth_offsets_raw.vrt' $f'{path}/merged/azimuth_offsets_raw'\n",
    "    !looks.py -i $f'{path}/merged/azimuth_offsets_raw' -r 7 -a 3 -o $f'{path}/merged/azimuth_offsets_raw.lks'\n",
    "    !gdalbuildvrt $f'{path}/merged/range_offsets_raw.vrt' $f'{path}/merged/range_offsets_raw'\n",
    "    !looks.py -i $f'{path}/merged/range_offsets_raw' -r 7 -a 3 -o $f'{path}/merged/range_offsets_raw.lks'"
   ]
  },
  {
   "cell_type": "code",
   "execution_count": 10,
   "id": "99697a47-215d-4137-8b64-b6b77d64cfee",
   "metadata": {},
   "outputs": [],
   "source": [
    "def offsets_to_phase(path):\n",
    "    w_phase_path = glob(f'{path}/merged/filt_topophase.flat.vrt')[0]\n",
    "    range_offsets_path = glob(f'{path}/merged/range_offsets_raw.lks.vrt')[0]\n",
    "    \n",
    "    ds = rioxarray.open_rasterio(w_phase_path).to_dataset(name='w_phase').squeeze()\n",
    "    ds['w_phase'] = (('y', 'x'), np.angle(ds.w_phase.squeeze()))\n",
    "    \n",
    "    ro_da = rioxarray.open_rasterio(range_offsets_path).squeeze()\n",
    "    \n",
    "    # grab coord ranges from wrapped phase\n",
    "    ro_da = ro_da.assign_coords(x=np.linspace(ds.w_phase.x.min(), ds.w_phase.x.max(), num= len(ro_da.x)),\n",
    "                                y=np.linspace(ds.w_phase.y.min(), ds.w_phase.y.max(), num= len(ro_da.y)))\n",
    "    \n",
    "    ds['range_offsets'] = (('y', 'x'), ro_da.interp_like(ds.w_phase).values)\n",
    "    \n",
    "    # convert range offset to phase. pixel spacing=2.3\n",
    "    ds['range_offsets_phase'] = (ds.range_offsets*2.3*4*np.pi)/0.05546576\n",
    "    \n",
    "    \n",
    "    ds.assign_coords(y=np.flip(ds.y.values)).range_offsets_phase.rio.to_raster('./merged/range_offsets_phase', driver='ISCE')\n",
    "    !gdalbuildvrt $f'{path}/merged/range_offsets_phase.vrt' $f'{path}/merged/range_offsets_phase'"
   ]
  },
  {
   "cell_type": "markdown",
   "id": "4909e9c4-4bc4-4a36-958e-8c4704bc5962",
   "metadata": {},
   "source": [
    "## Data download"
   ]
  },
  {
   "cell_type": "code",
   "execution_count": null,
   "id": "f3fb739a-d4f6-4e75-a223-17de32f8feb3",
   "metadata": {},
   "outputs": [],
   "source": [
    "# all scenes from 2021\n",
    "# scene_list=['S1A_IW_SLC__1SDV_20200104T001127_20200104T001154_030643_0382F8_6A1D',\n",
    "#             'S1A_IW_SLC__1SDV_20200116T001126_20200116T001153_030818_038917_3062',\n",
    "#             'S1A_IW_SLC__1SDV_20200128T001126_20200128T001153_030993_038F41_DBA0',\n",
    "#             'S1A_IW_SLC__1SDV_20200209T001126_20200209T001153_031168_03955D_675E',\n",
    "#             'S1A_IW_SLC__1SDV_20200221T001125_20200221T001152_031343_039B60_5143',\n",
    "#             'S1A_IW_SLC__1SDV_20200304T001125_20200304T001152_031518_03A16E_C0D7',\n",
    "#             'S1A_IW_SLC__1SDV_20200316T001126_20200316T001153_031693_03A77D_F557',\n",
    "#             'S1A_IW_SLC__1SDV_20200328T001126_20200328T001153_031868_03ADA6_67A1',\n",
    "#             'S1A_IW_SLC__1SDV_20200409T001126_20200409T001153_032043_03B3D4_B4A4',\n",
    "#             'S1A_IW_SLC__1SDV_20200421T001126_20200421T001153_032218_03B9F9_6754',\n",
    "#             'S1A_IW_SLC__1SDV_20200503T001127_20200503T001154_032393_03C021_B585',\n",
    "#             'S1A_IW_SLC__1SDV_20200515T001128_20200515T001155_032568_03C5AC_BEB7',\n",
    "#             'S1A_IW_SLC__1SDV_20200527T001128_20200527T001155_032743_03CAFC_0FFF',\n",
    "#             'S1A_IW_SLC__1SDV_20200608T001129_20200608T001156_032918_03D024_6055',\n",
    "#             'S1A_IW_SLC__1SDV_20200620T001130_20200620T001157_033093_03D56E_D0A5',\n",
    "#             'S1A_IW_SLC__1SDV_20a200702T001130_20200702T001157_033268_03DABD_8873',\n",
    "#             'S1A_IW_SLC__1SDV_20200714T001131_20200714T001158_033443_03E012_0803',\n",
    "#             'S1A_IW_SLC__1SDV_20200726T001132_20200726T001159_033618_03E572_D723',\n",
    "#             'S1A_IW_SLC__1SDV_20200807T001133_20200807T001200_033793_03EAE9_EE4D',\n",
    "#             'S1A_IW_SLC__1SDV_20200819T001133_20200819T001200_033968_03F110_A161',\n",
    "#             'S1A_IW_SLC__1SDV_20200831T001134_20200831T001201_034143_03F73A_BA33',\n",
    "#             'S1A_IW_SLC__1SDV_20200912T001135_20200912T001201_034318_03FD5A_32AE',\n",
    "#             'S1A_IW_SLC__1SDV_20200924T001135_20200924T001202_034493_04038B_D1A6',\n",
    "#             'S1A_IW_SLC__1SDV_20201006T001135_20201006T001202_034668_0409B2_0D91',\n",
    "#             'S1A_IW_SLC__1SDV_20201018T001133_20201018T001159_034843_040FD6_7A19',\n",
    "#             'S1A_IW_SLC__1SDV_20201030T001133_20201030T001159_035018_0415C8_9680',\n",
    "#             'S1A_IW_SLC__1SDV_20201111T001132_20201111T001159_035193_041BE5_06B2',\n",
    "#             'S1A_IW_SLC__1SDV_20201123T001132_20201123T001159_035368_0421EE_C267',\n",
    "#             'S1A_IW_SLC__1SDV_20201205T001132_20201205T001158_035543_0427F0_9243',\n",
    "#             'S1A_IW_SLC__1SDV_20201217T001131_20201217T001158_035718_042E06_027E',\n",
    "#             'S1A_IW_SLC__1SDV_20201229T001131_20201229T001157_035893_04341E_E3B4'\n",
    "#            ]"
   ]
  },
  {
   "cell_type": "code",
   "execution_count": 11,
   "id": "c166486e-ede2-4c60-80df-fce2822e8f13",
   "metadata": {},
   "outputs": [],
   "source": [
    "scene_list=['S1A_IW_SLC__1SDV_20201006T001135_20201006T001202_034668_0409B2_0D91',\n",
    "            'S1A_IW_SLC__1SDV_20201018T001133_20201018T001159_034843_040FD6_7A19',\n",
    "            'S1A_IW_SLC__1SDV_20201030T001133_20201030T001159_035018_0415C8_9680',\n",
    "            'S1A_IW_SLC__1SDV_20201111T001132_20201111T001159_035193_041BE5_06B2',\n",
    "            'S1A_IW_SLC__1SDV_20201123T001132_20201123T001159_035368_0421EE_C267',\n",
    "            'S1A_IW_SLC__1SDV_20201205T001132_20201205T001158_035543_0427F0_9243',\n",
    "            'S1A_IW_SLC__1SDV_20201217T001131_20201217T001158_035718_042E06_027E',\n",
    "            'S1A_IW_SLC__1SDV_20201229T001131_20201229T001157_035893_04341E_E3B4'\n",
    "           ]"
   ]
  },
  {
   "cell_type": "code",
   "execution_count": 12,
   "id": "b1d1773a-c64a-4e34-9588-5b4633699bf5",
   "metadata": {},
   "outputs": [
    {
     "name": "stdout",
     "output_type": "stream",
     "text": [
      "number of pairs: 27\n"
     ]
    }
   ],
   "source": [
    "pair_dict, pair_scenes = select_pairs(scene_list, 80)"
   ]
  },
  {
   "cell_type": "code",
   "execution_count": 13,
   "id": "d0d590aa-efab-477e-83ab-3b9949c647b5",
   "metadata": {},
   "outputs": [],
   "source": [
    "proc_path = '/home/jovyan/ffits/nbs/imja/proc_DT121'\n",
    "\n",
    "for pair in pair_dict:\n",
    "    pair_path = f'{proc_path}/{pair}'\n",
    "    if not os.path.exists(pair_path):\n",
    "        os.makedirs(pair_path)"
   ]
  },
  {
   "cell_type": "code",
   "execution_count": null,
   "id": "d335d9cc-849c-4e19-b735-a0a9ea188068",
   "metadata": {},
   "outputs": [],
   "source": [
    "EARTHDATA_LOGIN = \"qbrencherUW\"\n",
    "EARTHDATA_PASSWORD = getpass.getpass()"
   ]
  },
  {
   "cell_type": "code",
   "execution_count": null,
   "id": "c7ce90aa-2bc5-4aac-8193-9c5bf93ee073",
   "metadata": {},
   "outputs": [],
   "source": [
    "# download slcs\n",
    "os.chdir(f'{proc_path}/slc')\n",
    "\n",
    "results = asf.granule_search(pair_scenes)\n",
    "session = asf.ASFSession().auth_with_creds(EARTHDATA_LOGIN, EARTHDATA_PASSWORD)\n",
    "results.download(path=f'{proc_path}/slc', processes=2, session=session)"
   ]
  },
  {
   "cell_type": "code",
   "execution_count": null,
   "id": "a5260215-aae9-4ac7-95ee-43a388ccaa15",
   "metadata": {},
   "outputs": [],
   "source": [
    "# download orbits\n",
    "os.chdir(f'{proc_path}/orbits')"
   ]
  },
  {
   "cell_type": "code",
   "execution_count": null,
   "id": "252b0cb3-ed60-40bf-803c-e030731e08ed",
   "metadata": {},
   "outputs": [],
   "source": [
    "%%bash\n",
    "wget -nc https://raw.githubusercontent.com/isce-framework/isce2/main/contrib/stack/topsStack/fetchOrbit.py\n",
    "chmod +x fetchOrbit.py"
   ]
  },
  {
   "cell_type": "code",
   "execution_count": null,
   "id": "1767904c-fd9b-46f3-97b2-c104a47e6361",
   "metadata": {},
   "outputs": [],
   "source": [
    "# grab orbital files with fetchOrbit.py\n",
    "for scene in pair_scenes:\n",
    "    os.system(f'./fetchOrbit.py -i {scene}')"
   ]
  },
  {
   "cell_type": "code",
   "execution_count": null,
   "id": "ce67d095-5efa-4123-962d-1cb202c23f77",
   "metadata": {},
   "outputs": [],
   "source": [
    "generate_configs(pair_dict=pair_dict,\n",
    "                proc_path=proc_path,\n",
    "                range_looks=7,\n",
    "                azimuth_looks=3,\n",
    "                aoi=[27.80, 28.13, 86.28, 87.32])"
   ]
  },
  {
   "cell_type": "markdown",
   "id": "d2bccb15-7b49-4251-b952-ffea764bb54d",
   "metadata": {},
   "source": [
    "## run isce and autorift"
   ]
  },
  {
   "cell_type": "code",
   "execution_count": 14,
   "id": "450591b1-67c5-49ce-895c-da904b90ed13",
   "metadata": {},
   "outputs": [],
   "source": [
    "def proc_pairs(pair_dict, proc_path):\n",
    "    for i, pair in enumerate(pair_dict):\n",
    "        print(f'###################### working on {pair}, {i+1}/{len(pair_dict)} ######################')\n",
    "        os.chdir(f'{proc_path}/{pair}')\n",
    "        if not os.path.exists(f'{proc_path}/{pair}/merged/filt_topophase.unw.geo'):\n",
    "            print('###################### running isce ######################')\n",
    "            !topsApp.py --start=preprocess --end=geocode\n",
    "        if not os.path.exists(f'{proc_path}/{pair}/merged/range_offsets_phase.vrt'):\n",
    "            ref, sec = isce_to_np(f'{proc_path}/{pair}')\n",
    "            obj = prep_autorift(ref, sec)\n",
    "            print('###################### running autorift ######################')\n",
    "            obj.runAutorift()\n",
    "            offsets_to_isce(obj, f'{proc_path}/{pair}')\n",
    "            offsets_to_phase(f'{proc_path}/{pair}')"
   ]
  },
  {
   "cell_type": "code",
   "execution_count": 15,
   "id": "b152d3c8-a38e-411f-944f-8579a53fa3d6",
   "metadata": {
    "scrolled": true,
    "tags": []
   },
   "outputs": [
    {
     "name": "stdout",
     "output_type": "stream",
     "text": [
      "###################### working on 20201006-20201018, 1/27 ######################\n",
      "###################### working on 20201006-20201030, 2/27 ######################\n",
      "###################### working on 20201006-20201111, 3/27 ######################\n",
      "###################### working on 20201006-20201123, 4/27 ######################\n",
      "###################### working on 20201006-20201205, 5/27 ######################\n",
      "###################### working on 20201006-20201217, 6/27 ######################\n",
      "###################### working on 20201018-20201030, 7/27 ######################\n",
      "###################### working on 20201018-20201111, 8/27 ######################\n",
      "###################### working on 20201018-20201123, 9/27 ######################\n",
      "###################### working on 20201018-20201205, 10/27 ######################\n",
      "###################### working on 20201018-20201217, 11/27 ######################\n",
      "###################### working on 20201018-20201229, 12/27 ######################\n",
      "###################### working on 20201030-20201111, 13/27 ######################\n",
      "###################### working on 20201030-20201123, 14/27 ######################\n",
      "###################### working on 20201030-20201205, 15/27 ######################\n",
      "###################### working on 20201030-20201217, 16/27 ######################\n",
      "###################### working on 20201030-20201229, 17/27 ######################\n",
      "###################### working on 20201111-20201123, 18/27 ######################\n",
      "###################### working on 20201111-20201205, 19/27 ######################\n",
      "###################### working on 20201111-20201217, 20/27 ######################\n",
      "###################### working on 20201111-20201229, 21/27 ######################\n",
      "###################### working on 20201123-20201205, 22/27 ######################\n",
      "###################### working on 20201123-20201217, 23/27 ######################\n",
      "###################### working on 20201123-20201229, 24/27 ######################\n",
      "###################### working on 20201205-20201217, 25/27 ######################\n",
      "###################### working on 20201205-20201229, 26/27 ######################\n",
      "###################### working on 20201217-20201229, 27/27 ######################\n"
     ]
    }
   ],
   "source": [
    "proc_pairs(pair_dict, proc_path)"
   ]
  }
 ],
 "metadata": {
  "kernelspec": {
   "display_name": "insar_analysis [conda env:.local-insar_analysis]",
   "language": "python",
   "name": "conda-env-.local-insar_analysis-py"
  },
  "language_info": {
   "codemirror_mode": {
    "name": "ipython",
    "version": 3
   },
   "file_extension": ".py",
   "mimetype": "text/x-python",
   "name": "python",
   "nbconvert_exporter": "python",
   "pygments_lexer": "ipython3",
   "version": "3.8.16"
  }
 },
 "nbformat": 4,
 "nbformat_minor": 5
}

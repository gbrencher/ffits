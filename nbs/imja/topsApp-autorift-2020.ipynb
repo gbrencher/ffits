{
 "cells": [
  {
   "cell_type": "code",
   "execution_count": 1,
   "id": "f23fef9d-a598-4cc7-8d28-3bbbead1cec0",
   "metadata": {},
   "outputs": [],
   "source": [
    "# Import required packages\n",
    "import os\n",
    "import sys\n",
    "import getpass\n",
    "import asf_search as asf\n",
    "import logging\n",
    "import isce\n",
    "root_logger = logging.getLogger()\n",
    "root_logger.setLevel('WARNING')\n",
    "import numpy as np\n",
    "import matplotlib.pyplot as plt\n",
    "from osgeo import gdal\n",
    "from datetime import datetime, timedelta\n",
    "import xarray as xr\n",
    "import rasterio as rio\n",
    "import rioxarray\n",
    "import geopandas as gpd\n",
    "import time\n",
    "from glob import glob\n",
    "import scipy.signal"
   ]
  },
  {
   "cell_type": "code",
   "execution_count": 2,
   "id": "1f2a1e75-c510-4a78-aeee-c1bc65b68ab7",
   "metadata": {
    "scrolled": true,
    "tags": []
   },
   "outputs": [
    {
     "name": "stdout",
     "output_type": "stream",
     "text": [
      "\n",
      "                  __    __    __    __\n",
      "                 /  \\  /  \\  /  \\  /  \\\n",
      "                /    \\/    \\/    \\/    \\\n",
      "███████████████/  /██/  /██/  /██/  /████████████████████████\n",
      "              /  / \\   / \\   / \\   / \\  \\____\n",
      "             /  /   \\_/   \\_/   \\_/   \\    o \\__,\n",
      "            / _/                       \\_____/  `\n",
      "            |/\n",
      "        ███╗   ███╗ █████╗ ███╗   ███╗██████╗  █████╗\n",
      "        ████╗ ████║██╔══██╗████╗ ████║██╔══██╗██╔══██╗\n",
      "        ██╔████╔██║███████║██╔████╔██║██████╔╝███████║\n",
      "        ██║╚██╔╝██║██╔══██║██║╚██╔╝██║██╔══██╗██╔══██║\n",
      "        ██║ ╚═╝ ██║██║  ██║██║ ╚═╝ ██║██████╔╝██║  ██║\n",
      "        ╚═╝     ╚═╝╚═╝  ╚═╝╚═╝     ╚═╝╚═════╝ ╚═╝  ╚═╝\n",
      "\n",
      "        mamba (1.4.2) supported by @QuantStack\n",
      "\n",
      "        GitHub:  https://github.com/mamba-org/mamba\n",
      "        Twitter: https://twitter.com/QuantStack\n",
      "\n",
      "█████████████████████████████████████████████████████████████\n",
      "\n",
      "\n",
      "Looking for: ['autorift']\n",
      "\n",
      "\u001b[?25l\u001b[2K\u001b[0G[+] 0.0s\n",
      "\u001b[2K\u001b[1A\u001b[2K\u001b[0G[+] 0.1s\n",
      "conda-forge/linux-64 \u001b[90m━━━━━╸\u001b[0m\u001b[33m━━━━━━━━━━━━━━━╸\u001b[0m\u001b[90m━\u001b[0m   0.0 B /  ??.?MB @  ??.?MB/s  0.1s\n",
      "conda-forge/noarch   \u001b[90m━╸\u001b[0m\u001b[33m━━━━━━━━━━━━━━━╸\u001b[0m\u001b[90m━━━━━\u001b[0m   0.0 B /  ??.?MB @  ??.?MB/s  0.1s\n",
      "pkgs/main/linux-64   \u001b[33m━━━━━━━━━━━━━━━╸\u001b[0m\u001b[90m━━━━━━━\u001b[0m   0.0 B /  ??.?MB @  ??.?MB/s  0.1s\n",
      "pkgs/main/noarch     \u001b[33m━━━━━━━╸\u001b[0m\u001b[90m━━━━━━━━━━━━━━━\u001b[0m   0.0 B /  ??.?MB @  ??.?MB/s  0.1s\n",
      "pkgs/r/linux-64      \u001b[90m━━━━━━━━━━━╸\u001b[0m\u001b[33m━━━━━━━━━━━\u001b[0m   0.0 B /  ??.?MB @  ??.?MB/s  0.1s\u001b[2K\u001b[1A\u001b[2K\u001b[1A\u001b[2K\u001b[1A\u001b[2K\u001b[1A\u001b[2K\u001b[1A\u001b[2K\u001b[0Gpkgs/r/linux-64                                               No change\n",
      "[+] 0.2s\n",
      "conda-forge/linux-64 \u001b[90m━━━━━━━━╸\u001b[0m\u001b[33m━━━━━━━━━━━━━━\u001b[0m   3.5kB /  ??.?MB @  18.6kB/s  0.2s\n",
      "conda-forge/noarch   \u001b[90m━━━╸\u001b[0m\u001b[33m━━━━━━━━━━━━━━━╸\u001b[0m\u001b[90m━━━\u001b[0m   6.9kB /  ??.?MB @  36.3kB/s  0.2s\n",
      "pkgs/main/linux-64   \u001b[90m━╸\u001b[0m\u001b[33m━━━━━━━━━━━━━━━╸\u001b[0m\u001b[90m━━━━━\u001b[0m   0.0 B /  ??.?MB @  ??.?MB/s  0.2s\n",
      "pkgs/main/noarch     \u001b[33m━━━━━━━━━╸\u001b[0m\u001b[90m━━━━━━━━━━━━━\u001b[0m   0.0 B /  ??.?MB @  ??.?MB/s  0.2s\n",
      "pkgs/r/noarch        \u001b[90m━━━━━━━╸\u001b[0m\u001b[33m━━━━━━━━━━━━━━━\u001b[0m   0.0 B /  ??.?MB @  ??.?MB/s  0.0s\u001b[2K\u001b[1A\u001b[2K\u001b[1A\u001b[2K\u001b[1A\u001b[2K\u001b[1A\u001b[2K\u001b[1A\u001b[2K\u001b[0Gpkgs/main/linux-64                                            No change\n",
      "pkgs/main/noarch                                              No change\n",
      "pkgs/r/noarch                                                 No change\n",
      "[+] 0.3s\n",
      "conda-forge/linux-64 \u001b[90m━━━━━━━━━━╸\u001b[0m\u001b[33m━━━━━━━━━━━━\u001b[0m 492.4kB /  ??.?MB @   1.7MB/s  0.3s\n",
      "conda-forge/noarch   \u001b[90m━━━━━╸\u001b[0m\u001b[33m━━━━━━━━━━━━━━━╸\u001b[0m\u001b[90m━\u001b[0m 379.7kB /  ??.?MB @   1.3MB/s  0.3s\u001b[2K\u001b[1A\u001b[2K\u001b[1A\u001b[2K\u001b[0G[+] 0.4s\n",
      "conda-forge/linux-64 \u001b[90m━━━━━━━━━━━━╸\u001b[0m\u001b[33m━━━━━━━━━━\u001b[0m 947.2kB /  ??.?MB @   2.4MB/s  0.4s\n",
      "conda-forge/noarch   \u001b[90m━━━━━━━╸\u001b[0m\u001b[33m━━━━━━━━━━━━━━━\u001b[0m 829.0kB /  ??.?MB @   2.1MB/s  0.4s\u001b[2K\u001b[1A\u001b[2K\u001b[1A\u001b[2K\u001b[0G[+] 0.5s\n",
      "conda-forge/linux-64 \u001b[33m━━━━━━━━╸\u001b[0m\u001b[90m━━━━━━━━━━━━━━\u001b[0m   1.4MB /  ??.?MB @   2.8MB/s  0.5s\n",
      "conda-forge/noarch   \u001b[90m━━━━━━━━━╸\u001b[0m\u001b[33m━━━━━━━━━━━━━\u001b[0m   1.4MB /  ??.?MB @   2.8MB/s  0.5s\u001b[2K\u001b[1A\u001b[2K\u001b[1A\u001b[2K\u001b[0G[+] 0.6s\n",
      "conda-forge/linux-64 \u001b[33m━━━━━━━━━━╸\u001b[0m\u001b[90m━━━━━━━━━━━━\u001b[0m   1.7MB /  ??.?MB @   2.8MB/s  0.6s\n",
      "conda-forge/noarch   \u001b[90m━━━━━━━━━━━━╸\u001b[0m\u001b[33m━━━━━━━━━━\u001b[0m   1.9MB /  ??.?MB @   3.2MB/s  0.6s\u001b[2K\u001b[1A\u001b[2K\u001b[1A\u001b[2K\u001b[0G[+] 0.7s\n",
      "conda-forge/linux-64 \u001b[33m━━━━━━━━━━━━━╸\u001b[0m\u001b[90m━━━━━━━━━\u001b[0m   2.0MB /  ??.?MB @   2.8MB/s  0.7s\n",
      "conda-forge/noarch   \u001b[33m━━━━━━━━╸\u001b[0m\u001b[90m━━━━━━━━━━━━━━\u001b[0m   2.4MB /  ??.?MB @   3.4MB/s  0.7s\u001b[2K\u001b[1A\u001b[2K\u001b[1A\u001b[2K\u001b[0G[+] 0.8s\n",
      "conda-forge/linux-64 \u001b[33m━━━━━━━━━━━━━━━╸\u001b[0m\u001b[90m━━━━━━━\u001b[0m   2.5MB /  ??.?MB @   3.1MB/s  0.8s\n",
      "conda-forge/noarch   \u001b[33m━━━━━━━━━━╸\u001b[0m\u001b[90m━━━━━━━━━━━━\u001b[0m   2.8MB /  ??.?MB @   3.6MB/s  0.8s\u001b[2K\u001b[1A\u001b[2K\u001b[1A\u001b[2K\u001b[0G[+] 0.9s\n",
      "conda-forge/linux-64 \u001b[90m━╸\u001b[0m\u001b[33m━━━━━━━━━━━━━━━╸\u001b[0m\u001b[90m━━━━━\u001b[0m   2.9MB /  ??.?MB @   3.2MB/s  0.9s\n",
      "conda-forge/noarch   \u001b[33m━━━━━━━━━━━━╸\u001b[0m\u001b[90m━━━━━━━━━━\u001b[0m   3.3MB /  ??.?MB @   3.7MB/s  0.9s\u001b[2K\u001b[1A\u001b[2K\u001b[1A\u001b[2K\u001b[0G[+] 1.0s\n",
      "conda-forge/linux-64 \u001b[90m━━━╸\u001b[0m\u001b[33m━━━━━━━━━━━━━━━╸\u001b[0m\u001b[90m━━━\u001b[0m   3.3MB /  ??.?MB @   3.3MB/s  1.0s\n",
      "conda-forge/noarch   \u001b[33m━━━━━━━━━━━━━━╸\u001b[0m\u001b[90m━━━━━━━━\u001b[0m   3.8MB /  ??.?MB @   3.8MB/s  1.0s\u001b[2K\u001b[1A\u001b[2K\u001b[1A\u001b[2K\u001b[0G[+] 1.1s\n",
      "conda-forge/linux-64 \u001b[90m━━━━━╸\u001b[0m\u001b[33m━━━━━━━━━━━━━━━╸\u001b[0m\u001b[90m━\u001b[0m   3.7MB /  ??.?MB @   3.4MB/s  1.1s\n",
      "conda-forge/noarch   \u001b[90m━╸\u001b[0m\u001b[33m━━━━━━━━━━━━━━━╸\u001b[0m\u001b[90m━━━━━\u001b[0m   4.3MB /  ??.?MB @   3.9MB/s  1.1s\u001b[2K\u001b[1A\u001b[2K\u001b[1A\u001b[2K\u001b[0G[+] 1.2s\n",
      "conda-forge/linux-64 \u001b[90m━━━━━━━━╸\u001b[0m\u001b[33m━━━━━━━━━━━━━━\u001b[0m   4.3MB /  ??.?MB @   3.6MB/s  1.2s\n",
      "conda-forge/noarch   \u001b[90m━━━╸\u001b[0m\u001b[33m━━━━━━━━━━━━━━━╸\u001b[0m\u001b[90m━━━\u001b[0m   4.8MB /  ??.?MB @   4.0MB/s  1.2s\u001b[2K\u001b[1A\u001b[2K\u001b[1A\u001b[2K\u001b[0G[+] 1.3s\n",
      "conda-forge/linux-64 \u001b[90m━━━━━━━━━━╸\u001b[0m\u001b[33m━━━━━━━━━━━━\u001b[0m   4.8MB /  ??.?MB @   3.7MB/s  1.3s\n",
      "conda-forge/noarch   \u001b[90m━━━━━╸\u001b[0m\u001b[33m━━━━━━━━━━━━━━━╸\u001b[0m\u001b[90m━\u001b[0m   5.2MB /  ??.?MB @   4.0MB/s  1.3s\u001b[2K\u001b[1A\u001b[2K\u001b[1A\u001b[2K\u001b[0G[+] 1.4s\n",
      "conda-forge/linux-64 \u001b[90m━━━━━━━━━━━━╸\u001b[0m\u001b[33m━━━━━━━━━━\u001b[0m   5.3MB /  ??.?MB @   3.8MB/s  1.4s\n",
      "conda-forge/noarch   \u001b[90m━━━━━━━╸\u001b[0m\u001b[33m━━━━━━━━━━━━━━━\u001b[0m   5.7MB /  ??.?MB @   4.1MB/s  1.4s\u001b[2K\u001b[1A\u001b[2K\u001b[1A\u001b[2K\u001b[0G[+] 1.5s\n",
      "conda-forge/linux-64 \u001b[33m━━━━━━━━╸\u001b[0m\u001b[90m━━━━━━━━━━━━━━\u001b[0m   5.8MB /  ??.?MB @   3.9MB/s  1.5s\n",
      "conda-forge/noarch   \u001b[90m━━━━━━━━━╸\u001b[0m\u001b[33m━━━━━━━━━━━━━\u001b[0m   6.1MB /  ??.?MB @   4.1MB/s  1.5s\u001b[2K\u001b[1A\u001b[2K\u001b[1A\u001b[2K\u001b[0G[+] 1.6s\n",
      "conda-forge/linux-64 \u001b[33m━━━━━━━━━╸\u001b[0m\u001b[90m━━━━━━━━━━━━━\u001b[0m   6.1MB /  ??.?MB @   3.9MB/s  1.6s\n",
      "conda-forge/noarch   \u001b[90m━━━━━━━━━━━━╸\u001b[0m\u001b[33m━━━━━━━━━━\u001b[0m   6.6MB /  ??.?MB @   4.1MB/s  1.6s\u001b[2K\u001b[1A\u001b[2K\u001b[1A\u001b[2K\u001b[0G[+] 1.7s\n",
      "conda-forge/linux-64 \u001b[33m━━━━━━━━━━━╸\u001b[0m\u001b[90m━━━━━━━━━━━\u001b[0m   6.6MB /  ??.?MB @   4.0MB/s  1.7s\n",
      "conda-forge/noarch   \u001b[90m━━━━━━━━━━━━━╸\u001b[0m\u001b[33m━━━━━━━━━\u001b[0m   6.8MB /  ??.?MB @   4.1MB/s  1.7s\u001b[2K\u001b[1A\u001b[2K\u001b[1A\u001b[2K\u001b[0G[+] 1.8s\n",
      "conda-forge/linux-64 \u001b[33m━━━━━━━━━━━━━━╸\u001b[0m\u001b[90m━━━━━━━━\u001b[0m   7.1MB /  ??.?MB @   4.1MB/s  1.8s\n",
      "conda-forge/noarch   \u001b[33m━━━━━━━━━╸\u001b[0m\u001b[90m━━━━━━━━━━━━━\u001b[0m   7.2MB /  ??.?MB @   4.1MB/s  1.8s\u001b[2K\u001b[1A\u001b[2K\u001b[1A\u001b[2K\u001b[0G[+] 1.9s\n",
      "conda-forge/linux-64 \u001b[90m╸\u001b[0m\u001b[33m━━━━━━━━━━━━━━━╸\u001b[0m\u001b[90m━━━━━━\u001b[0m   7.6MB /  ??.?MB @   4.1MB/s  1.9s\n",
      "conda-forge/noarch   \u001b[33m━━━━━━━━━━━╸\u001b[0m\u001b[90m━━━━━━━━━━━\u001b[0m   7.7MB /  ??.?MB @   4.2MB/s  1.9s\u001b[2K\u001b[1A\u001b[2K\u001b[1A\u001b[2K\u001b[0G[+] 2.0s\n",
      "conda-forge/linux-64 \u001b[90m━━╸\u001b[0m\u001b[33m━━━━━━━━━━━━━━━╸\u001b[0m\u001b[90m━━━━\u001b[0m   8.1MB /  ??.?MB @   4.1MB/s  2.0s\n",
      "conda-forge/noarch   \u001b[33m━━━━━━━━━━━━━╸\u001b[0m\u001b[90m━━━━━━━━━\u001b[0m   8.2MB /  ??.?MB @   4.2MB/s  2.0s\u001b[2K\u001b[1A\u001b[2K\u001b[1A\u001b[2K\u001b[0G[+] 2.1s\n",
      "conda-forge/linux-64 \u001b[90m━━━━╸\u001b[0m\u001b[33m━━━━━━━━━━━━━━━╸\u001b[0m\u001b[90m━━\u001b[0m   8.6MB /  ??.?MB @   4.2MB/s  2.1s\n",
      "conda-forge/noarch   \u001b[90m╸\u001b[0m\u001b[33m━━━━━━━━━━━━━━━╸\u001b[0m\u001b[90m━━━━━━\u001b[0m   8.6MB /  ??.?MB @   4.2MB/s  2.1s\u001b[2K\u001b[1A\u001b[2K\u001b[1A\u001b[2K\u001b[0G[+] 2.2s\n",
      "conda-forge/linux-64 \u001b[90m━━━━━━╸\u001b[0m\u001b[33m━━━━━━━━━━━━━━━━\u001b[0m   9.0MB /  ??.?MB @   4.2MB/s  2.2s\n",
      "conda-forge/noarch   \u001b[90m━━╸\u001b[0m\u001b[33m━━━━━━━━━━━━━━━╸\u001b[0m\u001b[90m━━━━\u001b[0m   9.1MB /  ??.?MB @   4.2MB/s  2.2s\u001b[2K\u001b[1A\u001b[2K\u001b[1A\u001b[2K\u001b[0G[+] 2.3s\n",
      "conda-forge/linux-64 \u001b[90m━━━━━━━━━╸\u001b[0m\u001b[33m━━━━━━━━━━━━━\u001b[0m   9.5MB /  ??.?MB @   4.2MB/s  2.3s\n",
      "conda-forge/noarch   \u001b[90m━━━━╸\u001b[0m\u001b[33m━━━━━━━━━━━━━━━╸\u001b[0m\u001b[90m━━\u001b[0m   9.5MB /  ??.?MB @   4.2MB/s  2.3s\u001b[2K\u001b[1A\u001b[2K\u001b[1A\u001b[2K\u001b[0G[+] 2.4s\n",
      "conda-forge/linux-64 \u001b[90m━━━━━━━━━━━╸\u001b[0m\u001b[33m━━━━━━━━━━━\u001b[0m  10.1MB /  ??.?MB @   4.3MB/s  2.4s\n",
      "conda-forge/noarch   \u001b[90m━━━━━━╸\u001b[0m\u001b[33m━━━━━━━━━━━━━━━━\u001b[0m  10.0MB /  ??.?MB @   4.2MB/s  2.4s\u001b[2K\u001b[1A\u001b[2K\u001b[1A\u001b[2K\u001b[0G[+] 2.5s\n",
      "conda-forge/linux-64 \u001b[33m━━━━━━━╸\u001b[0m\u001b[90m━━━━━━━━━━━━━━━\u001b[0m  10.6MB /  ??.?MB @   4.3MB/s  2.5s\n",
      "conda-forge/noarch   \u001b[90m━━━━━━━━╸\u001b[0m\u001b[33m━━━━━━━━━━━━━━\u001b[0m  10.5MB /  ??.?MB @   4.3MB/s  2.5s\u001b[2K\u001b[1A\u001b[2K\u001b[1A\u001b[2K\u001b[0G[+] 2.6s\n",
      "conda-forge/linux-64 \u001b[33m━━━━━━━━━╸\u001b[0m\u001b[90m━━━━━━━━━━━━━\u001b[0m  11.0MB /  ??.?MB @   4.3MB/s  2.6s\n",
      "conda-forge/noarch   \u001b[90m━━━━━━━━━━━╸\u001b[0m\u001b[33m━━━━━━━━━━━\u001b[0m  10.9MB /  ??.?MB @   4.3MB/s  2.6s\u001b[2K\u001b[1A\u001b[2K\u001b[1A\u001b[2K\u001b[0G[+] 2.7s\n",
      "conda-forge/linux-64 \u001b[33m━━━━━━━━━━━╸\u001b[0m\u001b[90m━━━━━━━━━━━\u001b[0m  11.5MB /  ??.?MB @   4.3MB/s  2.7s\n",
      "conda-forge/noarch   \u001b[90m━━━━━━━━━━━━━╸\u001b[0m\u001b[33m━━━━━━━━━\u001b[0m  11.3MB /  ??.?MB @   4.3MB/s  2.7s\u001b[2K\u001b[1A\u001b[2K\u001b[1A\u001b[2K\u001b[0G[+] 2.8s\n",
      "conda-forge/linux-64 \u001b[33m━━━━━━━━━━━━━━╸\u001b[0m\u001b[90m━━━━━━━━\u001b[0m  12.0MB /  ??.?MB @   4.4MB/s  2.8s\n",
      "conda-forge/noarch   \u001b[33m━━━━━━━━━╸\u001b[0m\u001b[90m━━━━━━━━━━━━━\u001b[0m  11.8MB /  ??.?MB @   4.3MB/s  2.8s\u001b[2K\u001b[1A\u001b[2K\u001b[1A\u001b[2K\u001b[0G[+] 2.9s\n",
      "conda-forge/linux-64 \u001b[90m╸\u001b[0m\u001b[33m━━━━━━━━━━━━━━━╸\u001b[0m\u001b[90m━━━━━━\u001b[0m  12.6MB /  ??.?MB @   4.4MB/s  2.9s\n",
      "conda-forge/noarch   \u001b[33m━━━━━━━━━━━╸\u001b[0m\u001b[90m━━━━━━━━━━━\u001b[0m  12.2MB /  ??.?MB @   4.3MB/s  2.9s\u001b[2K\u001b[1A\u001b[2K\u001b[1A\u001b[2K\u001b[0G[+] 3.0s\n",
      "conda-forge/linux-64 \u001b[90m━━╸\u001b[0m\u001b[33m━━━━━━━━━━━━━━━╸\u001b[0m\u001b[90m━━━━\u001b[0m  13.1MB /  ??.?MB @   4.4MB/s  3.0s\n",
      "conda-forge/noarch   \u001b[33m━━━━━━━━━━━━━╸\u001b[0m\u001b[90m━━━━━━━━━\u001b[0m  12.6MB /  ??.?MB @   4.3MB/s  3.0s\u001b[2K\u001b[1A\u001b[2K\u001b[1A\u001b[2K\u001b[0G[+] 3.1s\n",
      "conda-forge/linux-64 \u001b[90m━━━━╸\u001b[0m\u001b[33m━━━━━━━━━━━━━━━╸\u001b[0m\u001b[90m━━\u001b[0m  13.6MB /  ??.?MB @   4.4MB/s  3.1s\n",
      "conda-forge/noarch   \u001b[90m╸\u001b[0m\u001b[33m━━━━━━━━━━━━━━━╸\u001b[0m\u001b[90m━━━━━━\u001b[0m  13.1MB /  ??.?MB @   4.3MB/s  3.1s\u001b[2K\u001b[1A\u001b[2K\u001b[1A\u001b[2K\u001b[0G[+] 3.2s\n",
      "conda-forge/linux-64 \u001b[90m━━━━━╸\u001b[0m\u001b[33m━━━━━━━━━━━━━━━━\u001b[0m  13.8MB @   4.5MB/s             3.2s\n",
      "conda-forge/noarch   ━━━━━━━━━━━━━━━━━━━━━━  13.5MB @   4.3MB/s Finalizing  3.2s\u001b[2K\u001b[1A\u001b[2K\u001b[1A\u001b[2K\u001b[0G[+] 3.3s\n",
      "conda-forge/linux-64 \u001b[90m━━━━━╸\u001b[0m\u001b[33m━━━━━━━━━━━━━━━━\u001b[0m  13.8MB @   4.5MB/s             3.3s\n",
      "conda-forge/noarch   ━━━━━━━━━━━━━━━━━━━━━━  13.5MB @   4.3MB/s Finalizing  3.3s\u001b[2K\u001b[1A\u001b[2K\u001b[1A\u001b[2K\u001b[0G[+] 3.4s\n",
      "conda-forge/linux-64 \u001b[90m━━━━━╸\u001b[0m\u001b[33m━━━━━━━━━━━━━━━━\u001b[0m  13.8MB @   4.5MB/s             3.4s\n",
      "conda-forge/noarch   ━━━━━━━━━━━━━━━━━━━━━━  13.5MB @   4.3MB/s Finalizing  3.4s\u001b[2K\u001b[1A\u001b[2K\u001b[1A\u001b[2K\u001b[0G[+] 3.5s\n",
      "conda-forge/linux-64 \u001b[90m━━━━━╸\u001b[0m\u001b[33m━━━━━━━━━━━━━━━━\u001b[0m  13.8MB @   4.5MB/s             3.5s\n",
      "conda-forge/noarch   ━━━━━━━━━━━━━━━━━━━━━━  13.5MB @   4.3MB/s Finalizing  3.5s\u001b[2K\u001b[1A\u001b[2K\u001b[1A\u001b[2K\u001b[0G[+] 3.6s\n",
      "conda-forge/linux-64 \u001b[90m━━━━━╸\u001b[0m\u001b[33m━━━━━━━━━━━━━━━━\u001b[0m  13.8MB @   4.5MB/s             3.6s\n",
      "conda-forge/noarch   ━━━━━━━━━━━━━━━━━━━━━━  13.5MB @   4.3MB/s Finalizing  3.6s\u001b[2K\u001b[1A\u001b[2K\u001b[1A\u001b[2K\u001b[0G[+] 3.7s\n",
      "conda-forge/linux-64 \u001b[90m━━━━━╸\u001b[0m\u001b[33m━━━━━━━━━━━━━━━━\u001b[0m  13.8MB @   4.5MB/s             3.7s\n",
      "conda-forge/noarch   ━━━━━━━━━━━━━━━━━━━━━━  13.5MB @   4.3MB/s Finalizing  3.7s\u001b[2K\u001b[1A\u001b[2K\u001b[1A\u001b[2K\u001b[0G[+] 3.8s\n",
      "conda-forge/linux-64 \u001b[90m━━━━━╸\u001b[0m\u001b[33m━━━━━━━━━━━━━━━━\u001b[0m  13.8MB @   4.5MB/s             3.8s\n",
      "conda-forge/noarch   ━━━━━━━━━━━━━━━━━━━━━━  13.5MB @   4.3MB/s Finalizing  3.8s\u001b[2K\u001b[1A\u001b[2K\u001b[1A\u001b[2K\u001b[0G[+] 3.9s\n",
      "conda-forge/linux-64 \u001b[90m━━━━━╸\u001b[0m\u001b[33m━━━━━━━━━━━━━━━━\u001b[0m  13.8MB @   4.5MB/s             3.9s\n",
      "conda-forge/noarch   ━━━━━━━━━━━━━━━━━━━━━━  13.5MB @   4.3MB/s Finalizing  3.9s\u001b[2K\u001b[1A\u001b[2K\u001b[1A\u001b[2K\u001b[0G[+] 4.0s\n",
      "conda-forge/linux-64 \u001b[90m━━━━━╸\u001b[0m\u001b[33m━━━━━━━━━━━━━━━━\u001b[0m  13.8MB @   4.5MB/s             4.0s\n",
      "conda-forge/noarch   ━━━━━━━━━━━━━━━━━━━━━━  13.5MB @   4.3MB/s Finalizing  4.0s\u001b[2K\u001b[1A\u001b[2K\u001b[1A\u001b[2K\u001b[0G[+] 4.1s\n",
      "conda-forge/linux-64 \u001b[90m━━━━━╸\u001b[0m\u001b[33m━━━━━━━━━━━━━━━━\u001b[0m  13.8MB @   4.5MB/s             4.1s\n",
      "conda-forge/noarch   ━━━━━━━━━━━━━━━━━━━━━━  13.5MB @   4.3MB/s Finalizing  4.1s\u001b[2K\u001b[1A\u001b[2K\u001b[1A\u001b[2K\u001b[0G[+] 4.2s\n",
      "conda-forge/linux-64 \u001b[90m━━━━━╸\u001b[0m\u001b[33m━━━━━━━━━━━━━━━━\u001b[0m  13.8MB @   4.5MB/s             4.2s\n",
      "conda-forge/noarch   ━━━━━━━━━━━━━━━━━━━━━━  13.5MB @   4.3MB/s Finalizing  4.2s\u001b[2K\u001b[1A\u001b[2K\u001b[1A\u001b[2K\u001b[0G[+] 4.3s\n",
      "conda-forge/linux-64 \u001b[90m━━━━━╸\u001b[0m\u001b[33m━━━━━━━━━━━━━━━━\u001b[0m  13.8MB @   4.5MB/s             4.3s\n",
      "conda-forge/noarch   ━━━━━━━━━━━━━━━━━━━━━━  13.5MB @   4.3MB/s Finalizing  4.3s\u001b[2K\u001b[1A\u001b[2K\u001b[1A\u001b[2K\u001b[0G[+] 4.4s\n",
      "conda-forge/linux-64 \u001b[90m━━━━━╸\u001b[0m\u001b[33m━━━━━━━━━━━━━━━━\u001b[0m  13.8MB @   4.5MB/s             4.4s\n",
      "conda-forge/noarch   ━━━━━━━━━━━━━━━━━━━━━━  13.5MB @   4.3MB/s Finalizing  4.4s\u001b[2K\u001b[1A\u001b[2K\u001b[1A\u001b[2K\u001b[0G[+] 4.5s\n",
      "conda-forge/linux-64 \u001b[90m━━━━━╸\u001b[0m\u001b[33m━━━━━━━━━━━━━━━━\u001b[0m  13.8MB @   4.5MB/s             4.5s\n",
      "conda-forge/noarch   ━━━━━━━━━━━━━━━━━━━━━━  13.5MB @   4.3MB/s Finalizing  4.5s\u001b[2K\u001b[1A\u001b[2K\u001b[1A\u001b[2K\u001b[0G[+] 4.6s\n",
      "conda-forge/linux-64 \u001b[90m━━━━━╸\u001b[0m\u001b[33m━━━━━━━━━━━━━━━━\u001b[0m  13.8MB @   4.5MB/s             4.6s\n",
      "conda-forge/noarch   ━━━━━━━━━━━━━━━━━━━━━━  13.5MB @   4.3MB/s Finalizing  4.6s\u001b[2K\u001b[1A\u001b[2K\u001b[1A\u001b[2K\u001b[0G[+] 4.7s\n",
      "conda-forge/linux-64 \u001b[90m━━━━━╸\u001b[0m\u001b[33m━━━━━━━━━━━━━━━━\u001b[0m  13.8MB @   4.5MB/s             4.7s\n",
      "conda-forge/noarch   ━━━━━━━━━━━━━━━━━━━━━━  13.5MB @   4.3MB/s Finalizing  4.7s\u001b[2K\u001b[1A\u001b[2K\u001b[1A\u001b[2K\u001b[0G[+] 4.8s\n",
      "conda-forge/linux-64 \u001b[90m━━━━━╸\u001b[0m\u001b[33m━━━━━━━━━━━━━━━━\u001b[0m  13.8MB @   4.5MB/s             4.8s\n",
      "conda-forge/noarch   ━━━━━━━━━━━━━━━━━━━━━━  13.5MB @   4.3MB/s Finalizing  4.8s\u001b[2K\u001b[1A\u001b[2K\u001b[1A\u001b[2K\u001b[0G[+] 4.9s\n",
      "conda-forge/linux-64 \u001b[90m━━━━━╸\u001b[0m\u001b[33m━━━━━━━━━━━━━━━╸\u001b[0m\u001b[90m━\u001b[0m  13.8MB /  ??.?MB @   4.5MB/s  4.9s\u001b[2K\u001b[1A\u001b[2K\u001b[0Gconda-forge/noarch                                 @   4.3MB/s  4.9s\n",
      "[+] 5.0s\n",
      "conda-forge/linux-64 \u001b[90m━━━━━━━━╸\u001b[0m\u001b[33m━━━━━━━━━━━━━━\u001b[0m  15.1MB /  ??.?MB @   3.0MB/s  5.0s\u001b[2K\u001b[1A\u001b[2K\u001b[0G[+] 5.1s\n",
      "conda-forge/linux-64 \u001b[90m━━━━━━━━━━╸\u001b[0m\u001b[33m━━━━━━━━━━━━\u001b[0m  15.6MB /  ??.?MB @   3.1MB/s  5.1s\u001b[2K\u001b[1A\u001b[2K\u001b[0G[+] 5.2s\n",
      "conda-forge/linux-64 \u001b[90m━━━━━━━━━━━━╸\u001b[0m\u001b[33m━━━━━━━━━━\u001b[0m  16.1MB /  ??.?MB @   3.1MB/s  5.2s\u001b[2K\u001b[1A\u001b[2K\u001b[0G[+] 5.3s\n",
      "conda-forge/linux-64 \u001b[33m━━━━━━━━╸\u001b[0m\u001b[90m━━━━━━━━━━━━━━\u001b[0m  16.6MB /  ??.?MB @   3.1MB/s  5.3s\u001b[2K\u001b[1A\u001b[2K\u001b[0G[+] 5.4s\n",
      "conda-forge/linux-64 \u001b[33m━━━━━━━━━━╸\u001b[0m\u001b[90m━━━━━━━━━━━━\u001b[0m  17.1MB /  ??.?MB @   3.2MB/s  5.4s\u001b[2K\u001b[1A\u001b[2K\u001b[0G[+] 5.5s\n",
      "conda-forge/linux-64 \u001b[33m━━━━━━━━━━━━━╸\u001b[0m\u001b[90m━━━━━━━━━\u001b[0m  17.5MB /  ??.?MB @   3.2MB/s  5.5s\u001b[2K\u001b[1A\u001b[2K\u001b[0G[+] 5.6s\n",
      "conda-forge/linux-64 \u001b[33m━━━━━━━━━━━━━━━╸\u001b[0m\u001b[90m━━━━━━━\u001b[0m  18.1MB /  ??.?MB @   3.2MB/s  5.6s\u001b[2K\u001b[1A\u001b[2K\u001b[0G[+] 5.7s\n",
      "conda-forge/linux-64 \u001b[90m━╸\u001b[0m\u001b[33m━━━━━━━━━━━━━━━╸\u001b[0m\u001b[90m━━━━━\u001b[0m  18.6MB /  ??.?MB @   3.3MB/s  5.7s\u001b[2K\u001b[1A\u001b[2K\u001b[0G[+] 5.8s\n",
      "conda-forge/linux-64 \u001b[90m━━━╸\u001b[0m\u001b[33m━━━━━━━━━━━━━━━╸\u001b[0m\u001b[90m━━━\u001b[0m  19.1MB /  ??.?MB @   3.3MB/s  5.8s\u001b[2K\u001b[1A\u001b[2K\u001b[0G[+] 5.9s\n",
      "conda-forge/linux-64 \u001b[90m━━━━━╸\u001b[0m\u001b[33m━━━━━━━━━━━━━━━╸\u001b[0m\u001b[90m━\u001b[0m  19.6MB /  ??.?MB @   3.3MB/s  5.9s\u001b[2K\u001b[1A\u001b[2K\u001b[0G[+] 6.0s\n",
      "conda-forge/linux-64 \u001b[90m━━━━━━━━╸\u001b[0m\u001b[33m━━━━━━━━━━━━━━\u001b[0m  20.0MB /  ??.?MB @   3.3MB/s  6.0s\u001b[2K\u001b[1A\u001b[2K\u001b[0G[+] 6.1s\n",
      "conda-forge/linux-64 \u001b[90m━━━━━━━━━━╸\u001b[0m\u001b[33m━━━━━━━━━━━━\u001b[0m  20.4MB /  ??.?MB @   3.3MB/s  6.1s\u001b[2K\u001b[1A\u001b[2K\u001b[0G[+] 6.2s\n",
      "conda-forge/linux-64 \u001b[90m━━━━━━━━━━━━╸\u001b[0m\u001b[33m━━━━━━━━━━\u001b[0m  20.9MB /  ??.?MB @   3.4MB/s  6.2s\u001b[2K\u001b[1A\u001b[2K\u001b[0G[+] 6.3s\n",
      "conda-forge/linux-64 \u001b[33m━━━━━━━━╸\u001b[0m\u001b[90m━━━━━━━━━━━━━━\u001b[0m  21.3MB /  ??.?MB @   3.4MB/s  6.3s\u001b[2K\u001b[1A\u001b[2K\u001b[0G[+] 6.4s\n",
      "conda-forge/linux-64 \u001b[33m━━━━━━━━━━╸\u001b[0m\u001b[90m━━━━━━━━━━━━\u001b[0m  21.8MB /  ??.?MB @   3.4MB/s  6.4s\u001b[2K\u001b[1A\u001b[2K\u001b[0G[+] 6.5s\n",
      "conda-forge/linux-64 \u001b[33m━━━━━━━━━━━━━╸\u001b[0m\u001b[90m━━━━━━━━━\u001b[0m  22.2MB /  ??.?MB @   3.4MB/s  6.5s\u001b[2K\u001b[1A\u001b[2K\u001b[0G[+] 6.6s\n",
      "conda-forge/linux-64 \u001b[33m━━━━━━━━━━━━━━━╸\u001b[0m\u001b[90m━━━━━━━\u001b[0m  22.6MB /  ??.?MB @   3.4MB/s  6.6s\u001b[2K\u001b[1A\u001b[2K\u001b[0G[+] 6.7s\n",
      "conda-forge/linux-64 \u001b[90m━╸\u001b[0m\u001b[33m━━━━━━━━━━━━━━━╸\u001b[0m\u001b[90m━━━━━\u001b[0m  23.1MB /  ??.?MB @   3.4MB/s  6.7s\u001b[2K\u001b[1A\u001b[2K\u001b[0G[+] 6.8s\n",
      "conda-forge/linux-64 \u001b[90m━━━╸\u001b[0m\u001b[33m━━━━━━━━━━━━━━━╸\u001b[0m\u001b[90m━━━\u001b[0m  23.6MB /  ??.?MB @   3.5MB/s  6.8s\u001b[2K\u001b[1A\u001b[2K\u001b[0G[+] 6.9s\n",
      "conda-forge/linux-64 \u001b[90m━━━━━╸\u001b[0m\u001b[33m━━━━━━━━━━━━━━━╸\u001b[0m\u001b[90m━\u001b[0m  24.1MB /  ??.?MB @   3.5MB/s  6.9s\u001b[2K\u001b[1A\u001b[2K\u001b[0G[+] 7.0s\n",
      "conda-forge/linux-64 \u001b[90m━━━━━━╸\u001b[0m\u001b[33m━━━━━━━━━━━━━━━━\u001b[0m  24.3MB /  ??.?MB @   3.5MB/s  7.0s\u001b[2K\u001b[1A\u001b[2K\u001b[0G[+] 7.1s\n",
      "conda-forge/linux-64 \u001b[90m━━━━━━━━━╸\u001b[0m\u001b[33m━━━━━━━━━━━━━\u001b[0m  24.7MB /  ??.?MB @   3.5MB/s  7.1s\u001b[2K\u001b[1A\u001b[2K\u001b[0G[+] 7.2s\n",
      "conda-forge/linux-64 \u001b[90m━━━━━━━━━━━╸\u001b[0m\u001b[33m━━━━━━━━━━━\u001b[0m  25.2MB /  ??.?MB @   3.5MB/s  7.2s\u001b[2K\u001b[1A\u001b[2K\u001b[0G[+] 7.3s\n",
      "conda-forge/linux-64 \u001b[33m━━━━━━━╸\u001b[0m\u001b[90m━━━━━━━━━━━━━━━\u001b[0m  25.7MB /  ??.?MB @   3.5MB/s  7.3s\u001b[2K\u001b[1A\u001b[2K\u001b[0G[+] 7.4s\n",
      "conda-forge/linux-64 \u001b[33m━━━━━━━━━╸\u001b[0m\u001b[90m━━━━━━━━━━━━━\u001b[0m  26.2MB /  ??.?MB @   3.6MB/s  7.4s\u001b[2K\u001b[1A\u001b[2K\u001b[0G[+] 7.5s\n",
      "conda-forge/linux-64 \u001b[33m━━━━━━━━━━━╸\u001b[0m\u001b[90m━━━━━━━━━━━\u001b[0m  26.8MB /  ??.?MB @   3.6MB/s  7.5s\u001b[2K\u001b[1A\u001b[2K\u001b[0G[+] 7.6s\n",
      "conda-forge/linux-64 \u001b[33m━━━━━━━━━━━━━━╸\u001b[0m\u001b[90m━━━━━━━━\u001b[0m  27.3MB /  ??.?MB @   3.6MB/s  7.6s\u001b[2K\u001b[1A\u001b[2K\u001b[0G[+] 7.7s\n",
      "conda-forge/linux-64 \u001b[90m╸\u001b[0m\u001b[33m━━━━━━━━━━━━━━━╸\u001b[0m\u001b[90m━━━━━━\u001b[0m  27.8MB /  ??.?MB @   3.6MB/s  7.7s\u001b[2K\u001b[1A\u001b[2K\u001b[0G[+] 7.8s\n",
      "conda-forge/linux-64 \u001b[90m━━╸\u001b[0m\u001b[33m━━━━━━━━━━━━━━━╸\u001b[0m\u001b[90m━━━━\u001b[0m  28.3MB /  ??.?MB @   3.6MB/s  7.8s\u001b[2K\u001b[1A\u001b[2K\u001b[0G[+] 7.9s\n",
      "conda-forge/linux-64 \u001b[90m━━━━╸\u001b[0m\u001b[33m━━━━━━━━━━━━━━━╸\u001b[0m\u001b[90m━━\u001b[0m  28.8MB /  ??.?MB @   3.7MB/s  7.9s\u001b[2K\u001b[1A\u001b[2K\u001b[0G[+] 8.0s\n",
      "conda-forge/linux-64 \u001b[90m━━━━━━╸\u001b[0m\u001b[33m━━━━━━━━━━━━━━━━\u001b[0m  29.3MB /  ??.?MB @   3.7MB/s  8.0s\u001b[2K\u001b[1A\u001b[2K\u001b[0G[+] 8.1s\n",
      "conda-forge/linux-64 \u001b[90m━━━━━━━━━╸\u001b[0m\u001b[33m━━━━━━━━━━━━━\u001b[0m  29.8MB /  ??.?MB @   3.7MB/s  8.1s\u001b[2K\u001b[1A\u001b[2K\u001b[0G[+] 8.2s\n",
      "conda-forge/linux-64 \u001b[90m━━━━━━━━━━━╸\u001b[0m\u001b[33m━━━━━━━━━━━\u001b[0m  30.3MB /  ??.?MB @   3.7MB/s  8.2s\u001b[2K\u001b[1A\u001b[2K\u001b[0G[+] 8.3s\n",
      "conda-forge/linux-64 \u001b[33m━━━━━━━╸\u001b[0m\u001b[90m━━━━━━━━━━━━━━━\u001b[0m  30.7MB /  ??.?MB @   3.7MB/s  8.3s\u001b[2K\u001b[1A\u001b[2K\u001b[0G[+] 8.4s\n",
      "conda-forge/linux-64 \u001b[33m━━━━━━━━━╸\u001b[0m\u001b[90m━━━━━━━━━━━━━\u001b[0m  31.2MB /  ??.?MB @   3.7MB/s  8.4s\u001b[2K\u001b[1A\u001b[2K\u001b[0G[+] 8.5s\n",
      "conda-forge/linux-64 \u001b[33m━━━━━━━━━━━╸\u001b[0m\u001b[90m━━━━━━━━━━━\u001b[0m  31.8MB /  ??.?MB @   3.7MB/s  8.5s\u001b[2K\u001b[1A\u001b[2K\u001b[0G[+] 8.6s\n",
      "conda-forge/linux-64 \u001b[33m━━━━━━━━━━━━━━╸\u001b[0m\u001b[90m━━━━━━━━\u001b[0m  32.2MB /  ??.?MB @   3.8MB/s  8.6s\u001b[2K\u001b[1A\u001b[2K\u001b[0G[+] 8.7s\n",
      "conda-forge/linux-64 \u001b[90m╸\u001b[0m\u001b[33m━━━━━━━━━━━━━━━╸\u001b[0m\u001b[90m━━━━━━\u001b[0m  32.6MB /  ??.?MB @   3.7MB/s  8.7s\u001b[2K\u001b[1A\u001b[2K\u001b[0G[+] 8.8s\n",
      "conda-forge/linux-64 \u001b[90m━━╸\u001b[0m\u001b[33m━━━━━━━━━━━━━━━╸\u001b[0m\u001b[90m━━━━\u001b[0m  33.0MB /  ??.?MB @   3.8MB/s  8.8s\u001b[2K\u001b[1A\u001b[2K\u001b[0G[+] 8.9s\n",
      "conda-forge/linux-64 ━━━━━━━━━━━━━━━━━━━━━━  33.3MB @   3.8MB/s Finalizing  8.9s\u001b[2K\u001b[1A\u001b[2K\u001b[0G[+] 9.0s\n",
      "conda-forge/linux-64 ━━━━━━━━━━━━━━━━━━━━━━  33.3MB @   3.8MB/s Finalizing  9.0s\u001b[2K\u001b[1A\u001b[2K\u001b[0G[+] 9.1s\n",
      "conda-forge/linux-64 ━━━━━━━━━━━━━━━━━━━━━━  33.3MB @   3.8MB/s Finalizing  9.1s\u001b[2K\u001b[1A\u001b[2K\u001b[0G[+] 9.2s\n",
      "conda-forge/linux-64 ━━━━━━━━━━━━━━━━━━━━━━  33.3MB @   3.8MB/s Finalizing  9.2s\u001b[2K\u001b[1A\u001b[2K\u001b[0G[+] 9.3s\n",
      "conda-forge/linux-64 ━━━━━━━━━━━━━━━━━━━━━━  33.3MB @   3.8MB/s Finalizing  9.3s\u001b[2K\u001b[1A\u001b[2K\u001b[0G[+] 9.4s\n",
      "conda-forge/linux-64 ━━━━━━━━━━━━━━━━━━━━━━  33.3MB @   3.8MB/s Finalizing  9.4s\u001b[2K\u001b[1A\u001b[2K\u001b[0G[+] 9.5s\n",
      "conda-forge/linux-64 ━━━━━━━━━━━━━━━━━━━━━━  33.3MB @   3.8MB/s Finalizing  9.5s\u001b[2K\u001b[1A\u001b[2K\u001b[0G[+] 9.6s\n",
      "conda-forge/linux-64 ━━━━━━━━━━━━━━━━━━━━━━  33.3MB @   3.8MB/s Finalizing  9.6s\u001b[2K\u001b[1A\u001b[2K\u001b[0G[+] 9.7s\n",
      "conda-forge/linux-64 ━━━━━━━━━━━━━━━━━━━━━━  33.3MB @   3.8MB/s Finalizing  9.7s\u001b[2K\u001b[1A\u001b[2K\u001b[0G[+] 9.8s\n",
      "conda-forge/linux-64 ━━━━━━━━━━━━━━━━━━━━━━  33.3MB @   3.8MB/s Finalizing  9.8s\u001b[2K\u001b[1A\u001b[2K\u001b[0G[+] 9.9s\n",
      "conda-forge/linux-64 ━━━━━━━━━━━━━━━━━━━━━━  33.3MB @   3.8MB/s Finalizing  9.9s\u001b[2K\u001b[1A\u001b[2K\u001b[0G[+] 10.0s\n",
      "conda-forge/linux-64 ━━━━━━━━━━━━━━━━━━━━━━  33.3MB @   3.8MB/s Finalizing 10.0s\u001b[2K\u001b[1A\u001b[2K\u001b[0G[+] 10.1s\n",
      "conda-forge/linux-64 ━━━━━━━━━━━━━━━━━━━━━━  33.3MB @   3.8MB/s Finalizing 10.1s\u001b[2K\u001b[1A\u001b[2K\u001b[0G[+] 10.2s\n",
      "conda-forge/linux-64 ━━━━━━━━━━━━━━━━━━━━━━  33.3MB @   3.8MB/s Finalizing 10.2s\u001b[2K\u001b[1A\u001b[2K\u001b[0G[+] 10.3s\n",
      "conda-forge/linux-64 ━━━━━━━━━━━━━━━━━━━━━━  33.3MB @   3.8MB/s Finalizing 10.3s\u001b[2K\u001b[1A\u001b[2K\u001b[0G[+] 10.4s\n",
      "conda-forge/linux-64 ━━━━━━━━━━━━━━━━━━━━━━  33.3MB @   3.8MB/s Finalizing 10.4s\u001b[2K\u001b[1A\u001b[2K\u001b[0G[+] 10.5s\n",
      "conda-forge/linux-64 ━━━━━━━━━━━━━━━━━━━━━━  33.3MB @   3.8MB/s Finalizing 10.5s\u001b[2K\u001b[1A\u001b[2K\u001b[0G[+] 10.6s\n",
      "conda-forge/linux-64 ━━━━━━━━━━━━━━━━━━━━━━  33.3MB @   3.8MB/s Finalizing 10.6s\u001b[2K\u001b[1A\u001b[2K\u001b[0G[+] 10.7s\n",
      "conda-forge/linux-64 ━━━━━━━━━━━━━━━━━━━━━━  33.3MB @   3.8MB/s Finalizing 10.7s\u001b[2K\u001b[1A\u001b[2K\u001b[0G[+] 10.8s\n",
      "conda-forge/linux-64 ━━━━━━━━━━━━━━━━━━━━━━  33.3MB @   3.8MB/s Finalizing 10.8s\u001b[2K\u001b[1A\u001b[2K\u001b[0G[+] 10.9s\n",
      "conda-forge/linux-64 ━━━━━━━━━━━━━━━━━━━━━━  33.3MB @   3.8MB/s Finalizing 10.9s\u001b[2K\u001b[1A\u001b[2K\u001b[0G[+] 11.0s\n",
      "conda-forge/linux-64 ━━━━━━━━━━━━━━━━━━━━━━  33.3MB @   3.8MB/s Finalizing 11.0s\u001b[2K\u001b[1A\u001b[2K\u001b[0G[+] 11.1s\n",
      "conda-forge/linux-64 ━━━━━━━━━━━━━━━━━━━━━━  33.3MB @   3.8MB/s Finalizing 11.1s\u001b[2K\u001b[1A\u001b[2K\u001b[0G[+] 11.2s\n",
      "conda-forge/linux-64 ━━━━━━━━━━━━━━━━━━━━━━  33.3MB @   3.8MB/s Finalizing 11.2s\u001b[2K\u001b[1A\u001b[2K\u001b[0G[+] 11.3s\n",
      "conda-forge/linux-64 ━━━━━━━━━━━━━━━━━━━━━━  33.3MB @   3.8MB/s Finalizing 11.3s\u001b[2K\u001b[1A\u001b[2K\u001b[0G[+] 11.4s\n",
      "conda-forge/linux-64 ━━━━━━━━━━━━━━━━━━━━━━  33.3MB @   3.8MB/s Finalizing 11.4s\u001b[2K\u001b[1A\u001b[2K\u001b[0G[+] 11.5s\n",
      "conda-forge/linux-64 ━━━━━━━━━━━━━━━━━━━━━━  33.3MB @   3.8MB/s Finalizing 11.5s\u001b[2K\u001b[1A\u001b[2K\u001b[0G[+] 11.6s\n",
      "conda-forge/linux-64 ━━━━━━━━━━━━━━━━━━━━━━  33.3MB @   3.8MB/s Finalizing 11.6s\u001b[2K\u001b[1A\u001b[2K\u001b[0G[+] 11.7s\n",
      "conda-forge/linux-64 ━━━━━━━━━━━━━━━━━━━━━━  33.3MB @   3.8MB/s Finalizing 11.7s\u001b[2K\u001b[1A\u001b[2K\u001b[0G[+] 11.8s\n",
      "conda-forge/linux-64 ━━━━━━━━━━━━━━━━━━━━━━  33.3MB @   3.8MB/s Finalizing 11.8s\u001b[2K\u001b[1A\u001b[2K\u001b[0G[+] 11.9s\n",
      "conda-forge/linux-64 ━━━━━━━━━━━━━━━━━━━━━━  33.3MB @   3.8MB/s Finalizing 11.9s\u001b[2K\u001b[1A\u001b[2K\u001b[0G[+] 12.0s\n",
      "conda-forge/linux-64 ━━━━━━━━━━━━━━━━━━━━━━  33.3MB @   3.8MB/s Finalizing 12.0s\u001b[2K\u001b[1A\u001b[2K\u001b[0G[+] 12.1s\n",
      "conda-forge/linux-64 ━━━━━━━━━━━━━━━━━━━━━━  33.3MB @   3.8MB/s Finalizing 12.1s\u001b[2K\u001b[1A\u001b[2K\u001b[0G[+] 12.2s\n",
      "conda-forge/linux-64 ━━━━━━━━━━━━━━━━━━━━━━  33.3MB @   3.8MB/s Finalizing 12.2s\u001b[2K\u001b[1A\u001b[2K\u001b[0G[+] 12.3s\n",
      "conda-forge/linux-64 ━━━━━━━━━━━━━━━━━━━━━━  33.3MB @   3.8MB/s Finalizing 12.3s\u001b[2K\u001b[1A\u001b[2K\u001b[0G[+] 12.4s\n",
      "conda-forge/linux-64 ━━━━━━━━━━━━━━━━━━━━━━  33.3MB @   3.8MB/s Finalizing 12.4s\u001b[2K\u001b[1A\u001b[2K\u001b[0G[+] 12.5s\n",
      "conda-forge/linux-64 ━━━━━━━━━━━━━━━━━━━━━━  33.3MB @   3.8MB/s Finalizing 12.5s\u001b[2K\u001b[1A\u001b[2K\u001b[0G[+] 12.6s\n",
      "conda-forge/linux-64 ━━━━━━━━━━━━━━━━━━━━━━  33.3MB @   3.8MB/s Finalizing 12.6s\u001b[2K\u001b[1A\u001b[2K\u001b[0G[+] 12.7s\n",
      "conda-forge/linux-64 ━━━━━━━━━━━━━━━━━━━━━━  33.3MB @   3.8MB/s Finalizing 12.7s\u001b[2K\u001b[1A\u001b[2K\u001b[0G[+] 12.8s\n",
      "conda-forge/linux-64 ━━━━━━━━━━━━━━━━━━━━━━  33.3MB @   3.8MB/s Finalizing 12.8s\u001b[2K\u001b[1A\u001b[2K\u001b[0G[+] 12.9s\n",
      "conda-forge/linux-64 ━━━━━━━━━━━━━━━━━━━━━━  33.3MB @   3.8MB/s Finalizing 12.9s\u001b[2K\u001b[1A\u001b[2K\u001b[0G[+] 13.0s\n",
      "conda-forge/linux-64 ━━━━━━━━━━━━━━━━━━━━━━  33.3MB @   3.8MB/s Finalizing 13.0s\u001b[2K\u001b[1A\u001b[2K\u001b[0G[+] 13.1s\n",
      "conda-forge/linux-64 ━━━━━━━━━━━━━━━━━━━━━━  33.3MB @   3.8MB/s Finalizing 13.1s\u001b[2K\u001b[1A\u001b[2K\u001b[0G[+] 13.2s\n",
      "conda-forge/linux-64 ━━━━━━━━━━━━━━━━━━━━━━  33.3MB @   3.8MB/s Finalizing 13.2s\u001b[2K\u001b[1A\u001b[2K\u001b[0G[+] 13.3s\n",
      "conda-forge/linux-64 ━━━━━━━━━━━━━━━━━━━━━━  33.3MB @   3.8MB/s Finalizing 13.3s\u001b[2K\u001b[1A\u001b[2K\u001b[0G[+] 13.4s\n",
      "conda-forge/linux-64 ━━━━━━━━━━━━━━━━━━━━━━  33.3MB @   3.8MB/s Finalizing 13.4s\u001b[2K\u001b[1A\u001b[2K\u001b[0G[+] 13.5s\n",
      "conda-forge/linux-64 ━━━━━━━━━━━━━━━━━━━━━━  33.3MB @   3.8MB/s Finalizing 13.5s\u001b[2K\u001b[1A\u001b[2K\u001b[0G[+] 13.6s\n",
      "conda-forge/linux-64 ━━━━━━━━━━━━━━━━━━━━━━  33.3MB @   3.8MB/s Finalizing 13.6s\u001b[2K\u001b[1A\u001b[2K\u001b[0G[+] 13.7s\n",
      "conda-forge/linux-64 ━━━━━━━━━━━━━━━━━━━━━━  33.3MB @   3.8MB/s Finalizing 13.7s\u001b[2K\u001b[1A\u001b[2K\u001b[0G[+] 13.8s\n",
      "conda-forge/linux-64 ━━━━━━━━━━━━━━━━━━━━━━  33.3MB @   3.8MB/s Finalizing 13.8s\u001b[2K\u001b[1A\u001b[2K\u001b[0G[+] 13.9s\n",
      "conda-forge/linux-64 ━━━━━━━━━━━━━━━━━━━━━━  33.3MB @   3.8MB/s Finalizing 13.9s\u001b[2K\u001b[1A\u001b[2K\u001b[0G[+] 14.0s\n",
      "conda-forge/linux-64 ━━━━━━━━━━━━━━━━━━━━━━  33.3MB @   3.8MB/s Finalizing 14.0s\u001b[2K\u001b[1A\u001b[2K\u001b[0G[+] 14.1s\n",
      "conda-forge/linux-64 ━━━━━━━━━━━━━━━━━━━━━━  33.3MB @   3.8MB/s Finalizing 14.1s\u001b[2K\u001b[1A\u001b[2K\u001b[0G[+] 14.2s\n",
      "conda-forge/linux-64 ━━━━━━━━━━━━━━━━━━━━━━  33.3MB @   3.8MB/s Finalizing 14.2s\u001b[2K\u001b[1A\u001b[2K\u001b[0G[+] 14.3s\n",
      "conda-forge/linux-64 ━━━━━━━━━━━━━━━━━━━━━━  33.3MB @   3.8MB/s Finalizing 14.3s\u001b[2K\u001b[1A\u001b[2K\u001b[0G[+] 14.4s\n",
      "conda-forge/linux-64 ━━━━━━━━━━━━━━━━━━━━━━  33.3MB @   3.8MB/s Finalizing 14.4s\u001b[2K\u001b[1A\u001b[2K\u001b[0G[+] 14.5s\n",
      "conda-forge/linux-64 ━━━━━━━━━━━━━━━━━━━━━━  33.3MB @   3.8MB/s Finalizing 14.5s\u001b[2K\u001b[1A\u001b[2K\u001b[0G[+] 14.6s\n",
      "conda-forge/linux-64 ━━━━━━━━━━━━━━━━━━━━━━  33.3MB @   3.8MB/s Finalizing 14.6s\u001b[2K\u001b[1A\u001b[2K\u001b[0G[+] 14.7s\n",
      "conda-forge/linux-64 ━━━━━━━━━━━━━━━━━━━━━━  33.3MB @   3.8MB/s Finalizing 14.7s\u001b[2K\u001b[1A\u001b[2K\u001b[0G[+] 14.8s\n",
      "conda-forge/linux-64 ━━━━━━━━━━━━━━━━━━━━━━  33.3MB @   3.8MB/s Finalizing 14.8s\u001b[2K\u001b[1A\u001b[2K\u001b[0G[+] 14.9s\n",
      "conda-forge/linux-64 ━━━━━━━━━━━━━━━━━━━━━━  33.3MB @   3.8MB/s Finalizing 14.9s\u001b[2K\u001b[1A\u001b[2K\u001b[0G[+] 15.0s\n",
      "conda-forge/linux-64 ━━━━━━━━━━━━━━━━━━━━━━  33.3MB @   3.8MB/s Finalizing 15.0s\u001b[2K\u001b[1A\u001b[2K\u001b[0Gconda-forge/linux-64                               @   3.8MB/s 15.0s\n",
      "\u001b[?25h\n",
      "Pinned packages:\n",
      "  - python 3.8.*\n",
      "\n",
      "\n",
      "Transaction\n",
      "\n",
      "  Prefix: /home/jovyan/.local/envs/insar_analysis\n",
      "\n",
      "  All requested packages already installed\n",
      "\n",
      "\u001b[?25l\u001b[2K\u001b[0G\u001b[?25hRequirement already satisfied: opencv-python-headless in /home/jovyan/.local/envs/insar_analysis/lib/python3.8/site-packages (4.8.0.74)\n",
      "Requirement already satisfied: numpy>=1.17.0 in /home/jovyan/.local/envs/insar_analysis/lib/python3.8/site-packages (from opencv-python-headless) (1.23.4)\n"
     ]
    }
   ],
   "source": [
    "# install autoRIFT in notebook environment\n",
    "!mamba install --yes --prefix {sys.prefix} autorift\n",
    "!{sys.executable} -m pip install opencv-python-headless"
   ]
  },
  {
   "cell_type": "code",
   "execution_count": 3,
   "id": "f6d963f3-00fc-440f-8f69-c3d879527b77",
   "metadata": {},
   "outputs": [],
   "source": [
    "from autoRIFT import autoRIFT"
   ]
  },
  {
   "cell_type": "code",
   "execution_count": 4,
   "id": "38e61672-4320-444a-8b5c-13b972b16693",
   "metadata": {},
   "outputs": [],
   "source": [
    "# Set environment variables so that you can call ISCE from the command line\n",
    "os.environ['ISCE_HOME'] = os.path.dirname(isce.__file__)\n",
    "os.environ['ISCE_ROOT'] = os.path.dirname(os.environ['ISCE_HOME'])\n",
    "os.environ['PATH']+='{ISCE_HOME}/bin:{ISCE_HOME}/applications'.format(**os.environ)"
   ]
  },
  {
   "cell_type": "markdown",
   "id": "ef4dcba5-8db1-4d9f-99d3-e6e26362a42e",
   "metadata": {},
   "source": [
    "## Define utilities"
   ]
  },
  {
   "cell_type": "code",
   "execution_count": 5,
   "id": "fcc984d3-3e4d-4cff-8ec6-921dfec54873",
   "metadata": {},
   "outputs": [],
   "source": [
    "# select pairs from pair list\n",
    "def select_pairs(scene_list, max_temp_bline):\n",
    "    scene_dates = {}\n",
    "    for scene in scene_list:\n",
    "        date = scene[17:25]\n",
    "        scene_dates[date] = scene\n",
    "        \n",
    "    pair_dict = {}\n",
    "    pair_scenes = []\n",
    "    for date1 in scene_dates:\n",
    "        for date2 in scene_dates:\n",
    "            if datetime.strptime(date2, '%Y%m%d')-datetime.strptime(date1, '%Y%m%d') < timedelta(days=max_temp_bline) and not date1 >= date2 :\n",
    "                pair_dict[f'{date1}-{date2}'] = [scene_dates[date1], scene_dates[date2]]\n",
    "                pair_scenes.append(scene_dates[date1])\n",
    "                pair_scenes.append(scene_dates[date2])\n",
    "    pair_scenes = [*set(pair_scenes)]\n",
    "    \n",
    "    print(f'number of pairs: {len(pair_dict)}')\n",
    "    \n",
    "    return pair_dict, pair_scenes"
   ]
  },
  {
   "cell_type": "code",
   "execution_count": 6,
   "id": "0eaa1b68-bb76-4710-b90b-94284d2f6c2c",
   "metadata": {},
   "outputs": [],
   "source": [
    "def generate_configs(pair_dict,\n",
    "                     proc_path,\n",
    "                     range_looks,\n",
    "                     azimuth_looks,\n",
    "                     aoi):\n",
    "    \n",
    "    for pair in pair_dict:\n",
    "        os.chdir(f'{proc_path}/{pair}')\n",
    "\n",
    "        reference = pair_dict[pair][0]\n",
    "        secondary = pair_dict[pair][1]\n",
    "\n",
    "        cmd_topsApp_config =f'''<?xml version=\"1.0\" encoding=\"UTF-8\"?>\n",
    "        <topsApp>\n",
    "          <component name=\"topsinsar\">\n",
    "            <property name=\"Sensor name\">SENTINEL1</property>\n",
    "            <component name=\"reference\">\n",
    "                <catalog>reference.xml</catalog>\n",
    "            </component>\n",
    "            <component name=\"secondary\">\n",
    "                <catalog>secondary.xml</catalog>\n",
    "            </component>\n",
    "            <property name=\"range looks\">{range_looks}</property>\n",
    "            <property name=\"azimuth looks\">{azimuth_looks}</property>\n",
    "            <property name=\"region of interest\">{aoi}</property>\n",
    "            <property name=\"do unwrap\">True</property>\n",
    "            <property name=\"unwrapper name\">snaphu_mcf</property>\n",
    "            <property name=\"do denseoffsets\">True</property>\n",
    "            <property name=\"geocode list\">['merged/phsig.cor', 'merged/filt_topophase.unw', 'merged/los.rdr', 'merged/topophase.flat', 'merged/filt_topophase.flat','merged/topophase.cor','merged/filt_topophase.unw.conncomp']</property>\n",
    "          </component>\n",
    "        </topsApp>'''\n",
    "        print(\"writing topsApp.xml\")\n",
    "        with open(\"topsApp.xml\", \"w\") as fid:\n",
    "            fid.write(cmd_topsApp_config)\n",
    "\n",
    "        cmd_reference_config = f'''<component name=\"reference\">\n",
    "            <property name=\"orbit directory\">{proc_path}/orbits</property>\n",
    "            <property name=\"output directory\">reference</property>\n",
    "            <property name=\"safe\">['{proc_path}/slc/{reference}.zip']</property>\n",
    "        </component>'''\n",
    "        print(\"writing reference.xml\")\n",
    "        with open(\"reference.xml\", \"w\") as fid:\n",
    "            fid.write(cmd_reference_config)\n",
    "\n",
    "            cmd_secondary_config = f'''<component name=\"secondary\">\n",
    "            <property name=\"orbit directory\">{proc_path}/orbits</property>\n",
    "            <property name=\"output directory\">secondary</property>\n",
    "            <property name=\"safe\">['{proc_path}/slc/{secondary}.zip']</property>\n",
    "        </component>'''\n",
    "        print(\"writing secondary.xml\")\n",
    "        with open(\"secondary.xml\", \"w\") as fid:\n",
    "            fid.write(cmd_secondary_config)"
   ]
  },
  {
   "cell_type": "code",
   "execution_count": 7,
   "id": "8d4656f5-863c-4de6-b2bf-8bdd561bdcff",
   "metadata": {},
   "outputs": [],
   "source": [
    "def isce_to_ds(path):\n",
    "    \n",
    "    unw_phase_path = glob(f'{path}/merged/filt_topophase.unw.geo.vrt')[0]\n",
    "    dem_path = glob(f'{path}/merged/dem.crop.vrt')[0]\n",
    "    w_phase_path = glob(f'{path}/merged/filt_topophase.flat.geo.vrt')[0]\n",
    "    corr_path = glob(f'{path}/merged/topophase.cor.geo.vrt')[0]\n",
    "    conncomp_path = glob(f'{path}/merged/filt_topophase.unw.conncomp.geo.vrt')[0]\n",
    "    \n",
    "    ds = rioxarray.open_rasterio(unw_phase_path).isel(band=1).to_dataset(name='unw_phase')\n",
    "    dem_da = rioxarray.open_rasterio(dem_path)\n",
    "    w_phase_da = rioxarray.open_rasterio(w_phase_path)\n",
    "    corr_da = rioxarray.open_rasterio(corr_path).isel(band=1)\n",
    "    conncomp_da = rioxarray.open_rasterio(conncomp_path)\n",
    "    \n",
    "    ds['elevation'] = (('y', 'x'), dem_da.squeeze().values)\n",
    "    ds['w_phase'] = (('y', 'x'), np.angle(w_phase_da.squeeze()))\n",
    "    ds['coherence'] = (('y', 'x'), corr_da.squeeze().values)\n",
    "    ds['conncomp'] = (('y', 'x'), conncomp_da.squeeze().values)\n",
    "    \n",
    "    ds = ds.rio.reproject(ds.rio.estimate_utm_crs())\n",
    "    \n",
    "    return ds"
   ]
  },
  {
   "cell_type": "code",
   "execution_count": 8,
   "id": "7b102d27-a404-4a9d-981a-726014633bd8",
   "metadata": {},
   "outputs": [],
   "source": [
    "# open coregistered SLCs\n",
    "def isce_to_np(path):\n",
    "    unw_phase_path = glob(f'{path}/merged/reference.slc.full.vrt')[0]\n",
    "    dem_path = glob(f'{path}/merged/secondary.slc.full.vrt')[0]\n",
    "    \n",
    "    ref_np = np.abs(rioxarray.open_rasterio(unw_phase_path).squeeze().values)\n",
    "    sec_np = np.abs(rioxarray.open_rasterio(dem_path).squeeze().values)\n",
    "    \n",
    "    return ref_np, sec_np"
   ]
  },
  {
   "cell_type": "code",
   "execution_count": 23,
   "id": "2325a157-d0b8-4c59-8b40-3b436030c474",
   "metadata": {},
   "outputs": [],
   "source": [
    "def prep_autorift(ref, sec):\n",
    "    # setup autoRIFT parameters\n",
    "    obj = autoRIFT()\n",
    "    obj.I1 = ref\n",
    "    obj.I2 = sec\n",
    "\n",
    "    # define chip size ranges\n",
    "    ## Kernel sizes to use for correlation\n",
    "    obj.ChipSizeMinX = 16\n",
    "    obj.ChipSizeMaxX = 128\n",
    "\n",
    "    # check and refine this\n",
    "    obj.ChipSize0X = 16\n",
    "\n",
    "    # skip rate setup\n",
    "    # Produce output at a grid x time the input resolution \n",
    "    obj.SkipSampleX = 4\n",
    "    obj.SkipSampleY = 4\n",
    "\n",
    "    # preprocess to bring out edges in the image\n",
    "    prefilter_choice = 'lap'\n",
    "    obj.WallisFilterWidth = 3\n",
    "    obj.preprocess_filt_wal()\n",
    "    \n",
    "    # downcast to 8 bit\n",
    "    obj.uniform_data_type()\n",
    "\n",
    "    # create the grid if it does not exist (from test_autoRIFT.py)\n",
    "    m,n = obj.I1.shape\n",
    "    xGrid = np.arange(obj.SkipSampleX+10,n-obj.SkipSampleX,obj.SkipSampleX)\n",
    "    yGrid = np.arange(obj.SkipSampleY+10,m-obj.SkipSampleY,obj.SkipSampleY) \n",
    "    nd = xGrid.__len__()\n",
    "    md = yGrid.__len__()\n",
    "    obj.xGrid = np.int32(np.dot(np.ones((md,1)),np.reshape(xGrid,(1,xGrid.__len__()))))\n",
    "    obj.yGrid = np.int32(np.dot(np.reshape(yGrid,(yGrid.__len__(),1)),np.ones((1,nd))))\n",
    "    noDataMask = np.logical_not(obj.xGrid)\n",
    "    \n",
    "    return obj"
   ]
  },
  {
   "cell_type": "code",
   "execution_count": 10,
   "id": "309e6595-75c8-4177-8b74-4b441974d684",
   "metadata": {},
   "outputs": [],
   "source": [
    "def offsets_to_isce(obj, path):\n",
    "    \n",
    "    # save to isce rasters\n",
    "    azimuth_offsets = xr.DataArray(obj.Dy,\n",
    "                                   coords={'y':np.arange(obj.Dy.shape[0], 0, -1), 'x':np.arange(0, obj.Dy.shape[1])},\n",
    "                                   dims=['y', 'x'])\n",
    "\n",
    "    range_offsets = xr.DataArray(obj.Dx,\n",
    "                                 coords={'y':np.arange(obj.Dx.shape[0], 0, -1), 'x':np.arange(0, obj.Dx.shape[1])},\n",
    "                                 dims=['y', 'x'])\n",
    "\n",
    "    azimuth_offsets.rio.to_raster('./merged/azimuth_offsets_raw', driver='ISCE')\n",
    "    range_offsets.rio.to_raster('./merged/range_offsets_raw', driver='ISCE')\n",
    "    \n",
    "    # build vrts and multilook offsets\n",
    "    !gdalbuildvrt $f'{path}/merged/azimuth_offsets_raw.vrt' $f'{path}/merged/azimuth_offsets_raw'\n",
    "    !looks.py -i $f'{path}/merged/azimuth_offsets_raw' -r 7 -a 3 -o $f'{path}/merged/azimuth_offsets_raw.lks'\n",
    "    !gdalbuildvrt $f'{path}/merged/range_offsets_raw.vrt' $f'{path}/merged/range_offsets_raw'\n",
    "    !looks.py -i $f'{path}/merged/range_offsets_raw' -r 7 -a 3 -o $f'{path}/merged/range_offsets_raw.lks'"
   ]
  },
  {
   "cell_type": "code",
   "execution_count": 11,
   "id": "99697a47-215d-4137-8b64-b6b77d64cfee",
   "metadata": {},
   "outputs": [],
   "source": [
    "def offsets_to_phase(path):\n",
    "    w_phase_path = glob(f'{path}/merged/filt_topophase.flat.vrt')[0]\n",
    "    range_offsets_path = glob(f'{path}/merged/range_offsets_raw.lks.vrt')[0]\n",
    "    \n",
    "    ds = rioxarray.open_rasterio(w_phase_path).to_dataset(name='w_phase').squeeze()\n",
    "    ds['w_phase'] = (('y', 'x'), np.angle(ds.w_phase.squeeze()))\n",
    "    \n",
    "    ro_da = rioxarray.open_rasterio(range_offsets_path).squeeze()\n",
    "    \n",
    "    # grab coord ranges from wrapped phase\n",
    "    ro_da = ro_da.assign_coords(x=np.linspace(ds.w_phase.x.min(), ds.w_phase.x.max(), num= len(ro_da.x)),\n",
    "                                y=np.linspace(ds.w_phase.y.min(), ds.w_phase.y.max(), num= len(ro_da.y)))\n",
    "    \n",
    "    ds['range_offsets'] = (('y', 'x'), ro_da.interp_like(ds.w_phase).values)\n",
    "    \n",
    "    # convert range offset to phase. pixel spacing=2.3\n",
    "    ds['range_offsets_phase'] = (ds.range_offsets*2.3*4*np.pi)/0.05546576\n",
    "    \n",
    "    ds.range_offsets_phase.rio.to_raster('./merged/range_offsets_phase', driver='ISCE')\n",
    "    !gdalbuildvrt $f'{path}/merged/range_offsets_phase.vrt' $f'{path}/merged/range_offsets_phase'"
   ]
  },
  {
   "cell_type": "markdown",
   "id": "4909e9c4-4bc4-4a36-958e-8c4704bc5962",
   "metadata": {},
   "source": [
    "## Data download"
   ]
  },
  {
   "cell_type": "code",
   "execution_count": null,
   "id": "f3fb739a-d4f6-4e75-a223-17de32f8feb3",
   "metadata": {},
   "outputs": [],
   "source": [
    "scene_list=['S1A_IW_SLC__1SDV_20200104T001127_20200104T001154_030643_0382F8_6A1D',\n",
    "            'S1A_IW_SLC__1SDV_20200116T001126_20200116T001153_030818_038917_3062',\n",
    "            'S1A_IW_SLC__1SDV_20200128T001126_20200128T001153_030993_038F41_DBA0',\n",
    "            'S1A_IW_SLC__1SDV_20200209T001126_20200209T001153_031168_03955D_675E',\n",
    "            'S1A_IW_SLC__1SDV_20200221T001125_20200221T001152_031343_039B60_5143',\n",
    "            'S1A_IW_SLC__1SDV_20200304T001125_20200304T001152_031518_03A16E_C0D7',\n",
    "            'S1A_IW_SLC__1SDV_20200316T001126_20200316T001153_031693_03A77D_F557',\n",
    "            'S1A_IW_SLC__1SDV_20200328T001126_20200328T001153_031868_03ADA6_67A1',\n",
    "            'S1A_IW_SLC__1SDV_20200409T001126_20200409T001153_032043_03B3D4_B4A4',\n",
    "            'S1A_IW_SLC__1SDV_20200421T001126_20200421T001153_032218_03B9F9_6754',\n",
    "            'S1A_IW_SLC__1SDV_20200503T001127_20200503T001154_032393_03C021_B585',\n",
    "            'S1A_IW_SLC__1SDV_20200515T001128_20200515T001155_032568_03C5AC_BEB7',\n",
    "            'S1A_IW_SLC__1SDV_20200527T001128_20200527T001155_032743_03CAFC_0FFF',\n",
    "            'S1A_IW_SLC__1SDV_20200608T001129_20200608T001156_032918_03D024_6055',\n",
    "            'S1A_IW_SLC__1SDV_20200620T001130_20200620T001157_033093_03D56E_D0A5',\n",
    "            'S1A_IW_SLC__1SDV_20200702T001130_20200702T001157_033268_03DABD_8873',\n",
    "            'S1A_IW_SLC__1SDV_20200714T001131_20200714T001158_033443_03E012_0803',\n",
    "            'S1A_IW_SLC__1SDV_20200726T001132_20200726T001159_033618_03E572_D723',\n",
    "            'S1A_IW_SLC__1SDV_20200807T001133_20200807T001200_033793_03EAE9_EE4D',\n",
    "            'S1A_IW_SLC__1SDV_20200819T001133_20200819T001200_033968_03F110_A161',\n",
    "            'S1A_IW_SLC__1SDV_20200831T001134_20200831T001201_034143_03F73A_BA33',\n",
    "            'S1A_IW_SLC__1SDV_20200912T001135_20200912T001201_034318_03FD5A_32AE',\n",
    "            'S1A_IW_SLC__1SDV_20200924T001135_20200924T001202_034493_04038B_D1A6',\n",
    "            'S1A_IW_SLC__1SDV_20201006T001135_20201006T001202_034668_0409B2_0D91',\n",
    "            'S1A_IW_SLC__1SDV_20201018T001133_20201018T001159_034843_040FD6_7A19',\n",
    "            'S1A_IW_SLC__1SDV_20201030T001133_20201030T001159_035018_0415C8_9680',\n",
    "            'S1A_IW_SLC__1SDV_20201111T001132_20201111T001159_035193_041BE5_06B2',\n",
    "            'S1A_IW_SLC__1SDV_20201123T001132_20201123T001159_035368_0421EE_C267',\n",
    "            'S1A_IW_SLC__1SDV_20201205T001132_20201205T001158_035543_0427F0_9243',\n",
    "            'S1A_IW_SLC__1SDV_20201217T001131_20201217T001158_035718_042E06_027E',\n",
    "            'S1A_IW_SLC__1SDV_20201229T001131_20201229T001157_035893_04341E_E3B4'\n",
    "           ]"
   ]
  },
  {
   "cell_type": "code",
   "execution_count": 12,
   "id": "66699d17-99c3-401f-910e-4ded2f1ff88f",
   "metadata": {},
   "outputs": [],
   "source": [
    "# scene_list=['S1A_IW_SLC__1SDV_20210122T001129_20210122T001156_036243_044051_C4B5',\n",
    "#             'S1A_IW_SLC__1SDV_20201205T001132_20201205T001158_035543_0427F0_9243']"
   ]
  },
  {
   "cell_type": "code",
   "execution_count": 13,
   "id": "b1d1773a-c64a-4e34-9588-5b4633699bf5",
   "metadata": {},
   "outputs": [
    {
     "name": "stdout",
     "output_type": "stream",
     "text": [
      "number of pairs: 1\n"
     ]
    }
   ],
   "source": [
    "pair_dict, pair_scenes = select_pairs(scene_list, 80)"
   ]
  },
  {
   "cell_type": "code",
   "execution_count": 14,
   "id": "d0d590aa-efab-477e-83ab-3b9949c647b5",
   "metadata": {},
   "outputs": [],
   "source": [
    "proc_path = '/home/jovyan/ffits/nbs/imja/proc_DT121'\n",
    "\n",
    "for pair in pair_dict:\n",
    "    pair_path = f'{proc_path}/{pair}'\n",
    "    if not os.path.exists(pair_path):\n",
    "        os.makedirs(pair_path)"
   ]
  },
  {
   "cell_type": "code",
   "execution_count": 15,
   "id": "d335d9cc-849c-4e19-b735-a0a9ea188068",
   "metadata": {},
   "outputs": [
    {
     "name": "stdin",
     "output_type": "stream",
     "text": [
      " ········\n"
     ]
    }
   ],
   "source": [
    "EARTHDATA_LOGIN = \"qbrencherUW\"\n",
    "EARTHDATA_PASSWORD = getpass.getpass()"
   ]
  },
  {
   "cell_type": "code",
   "execution_count": 16,
   "id": "c7ce90aa-2bc5-4aac-8193-9c5bf93ee073",
   "metadata": {},
   "outputs": [
    {
     "name": "stderr",
     "output_type": "stream",
     "text": [
      "/home/jovyan/.local/envs/insar_analysis/lib/python3.8/site-packages/asf_search/download/download.py:62: UserWarning: File already exists, skipping download: /home/jovyan/ffits/nbs/imja/proc_DT121/slc/S1A_IW_SLC__1SDV_20210122T001129_20210122T001156_036243_044051_C4B5.zip\n",
      "  warnings.warn(f'File already exists, skipping download: {os.path.join(path, filename)}')\n",
      "/home/jovyan/.local/envs/insar_analysis/lib/python3.8/site-packages/asf_search/download/download.py:62: UserWarning: File already exists, skipping download: /home/jovyan/ffits/nbs/imja/proc_DT121/slc/S1A_IW_SLC__1SDV_20210122T001129_20210122T001156_036243_044051_C4B5.iso.xml\n",
      "  warnings.warn(f'File already exists, skipping download: {os.path.join(path, filename)}')\n",
      "/home/jovyan/.local/envs/insar_analysis/lib/python3.8/site-packages/asf_search/download/download.py:62: UserWarning: File already exists, skipping download: /home/jovyan/ffits/nbs/imja/proc_DT121/slc/S1A_IW_SLC__1SDV_20201205T001132_20201205T001158_035543_0427F0_9243.zip\n",
      "  warnings.warn(f'File already exists, skipping download: {os.path.join(path, filename)}')\n",
      "/home/jovyan/.local/envs/insar_analysis/lib/python3.8/site-packages/asf_search/download/download.py:62: UserWarning: File already exists, skipping download: /home/jovyan/ffits/nbs/imja/proc_DT121/slc/S1A_IW_SLC__1SDV_20201205T001132_20201205T001158_035543_0427F0_9243.iso.xml\n",
      "  warnings.warn(f'File already exists, skipping download: {os.path.join(path, filename)}')\n"
     ]
    }
   ],
   "source": [
    "# download slcs\n",
    "os.chdir(f'{proc_path}/slc')\n",
    "\n",
    "results = asf.granule_search(pair_scenes)\n",
    "session = asf.ASFSession().auth_with_creds(EARTHDATA_LOGIN, EARTHDATA_PASSWORD)\n",
    "results.download(path=f'{proc_path}/slc', processes=2, session=session)"
   ]
  },
  {
   "cell_type": "code",
   "execution_count": 17,
   "id": "a5260215-aae9-4ac7-95ee-43a388ccaa15",
   "metadata": {},
   "outputs": [],
   "source": [
    "# download orbits\n",
    "os.chdir(f'{proc_path}/orbits')"
   ]
  },
  {
   "cell_type": "code",
   "execution_count": 18,
   "id": "252b0cb3-ed60-40bf-803c-e030731e08ed",
   "metadata": {},
   "outputs": [
    {
     "name": "stderr",
     "output_type": "stream",
     "text": [
      "File ‘fetchOrbit.py’ already there; not retrieving.\n",
      "\n"
     ]
    }
   ],
   "source": [
    "%%bash\n",
    "wget -nc https://raw.githubusercontent.com/isce-framework/isce2/main/contrib/stack/topsStack/fetchOrbit.py\n",
    "chmod +x fetchOrbit.py"
   ]
  },
  {
   "cell_type": "code",
   "execution_count": 19,
   "id": "1767904c-fd9b-46f3-97b2-c104a47e6361",
   "metadata": {},
   "outputs": [
    {
     "name": "stdout",
     "output_type": "stream",
     "text": [
      "Reference time:  2021-01-22 00:11:56\n",
      "Satellite name:  S1A\n",
      "Downloading URL:  https://scihub.copernicus.eu/gnss/odata/v1/Products('064b0901-20c4-4e12-8c11-9e6e1e2fb62e')/$value\n",
      "Reference time:  2020-12-05 00:11:58\n",
      "Satellite name:  S1A\n",
      "Downloading URL:  https://scihub.copernicus.eu/gnss/odata/v1/Products('3bcc88d3-8e43-4f85-ac74-f01c011dbc33')/$value\n"
     ]
    }
   ],
   "source": [
    "# grab orbital files with fetchOrbit.py\n",
    "for scene in pair_scenes:\n",
    "    os.system(f'./fetchOrbit.py -i {scene}')"
   ]
  },
  {
   "cell_type": "code",
   "execution_count": 20,
   "id": "ce67d095-5efa-4123-962d-1cb202c23f77",
   "metadata": {},
   "outputs": [
    {
     "name": "stdout",
     "output_type": "stream",
     "text": [
      "writing topsApp.xml\n",
      "writing reference.xml\n",
      "writing secondary.xml\n"
     ]
    }
   ],
   "source": [
    "generate_configs(pair_dict=pair_dict,\n",
    "                proc_path=proc_path,\n",
    "                range_looks=7,\n",
    "                azimuth_looks=3,\n",
    "                aoi=[27.80, 28.13, 86.28, 87.32])"
   ]
  },
  {
   "cell_type": "markdown",
   "id": "d2bccb15-7b49-4251-b952-ffea764bb54d",
   "metadata": {},
   "source": [
    "## run isce and autorift"
   ]
  },
  {
   "cell_type": "code",
   "execution_count": null,
   "id": "450591b1-67c5-49ce-895c-da904b90ed13",
   "metadata": {},
   "outputs": [],
   "source": [
    "def proc_pairs(pair_dict, proc_path):\n",
    "    for i, pair in enumerate(pair_dict):\n",
    "        print(f'###################### working on {pair}, {i+1}/{len(pair_dict)} ######################')\n",
    "        os.chdir(f'{proc_path}/{pair}')\n",
    "        #if not os.path.exists(f'{proc_path}/{pair}/merged/filt_topophase.unw.geo'):\n",
    "        print('###################### running isce ######################')\n",
    "        !topsApp.py --start=preprocess --end=geocode\n",
    "        ref, sec = isce_to_np(f'{proc_path}/{pair}')\n",
    "        obj = prep_autorift(ref, sec)\n",
    "        print('###################### running autorift ######################')\n",
    "        obj.runAutorift()\n",
    "        offsets_to_isce(obj, f'{proc_path}/{pair}')\n",
    "        offsets_to_phase(f'{proc_path}/{pair}')"
   ]
  },
  {
   "cell_type": "code",
   "execution_count": null,
   "id": "b152d3c8-a38e-411f-944f-8579a53fa3d6",
   "metadata": {},
   "outputs": [],
   "source": [
    "proc_pairs(pair_dict, proc_path)"
   ]
  },
  {
   "cell_type": "code",
   "execution_count": 24,
   "id": "e6e9086d-76df-4704-958f-76e686db9651",
   "metadata": {
    "scrolled": true,
    "tags": []
   },
   "outputs": [
    {
     "name": "stdout",
     "output_type": "stream",
     "text": [
      "###################### working on 20201205-20210122, 1/1 ######################\n",
      "###################### running isce ######################\n"
     ]
    },
    {
     "name": "stderr",
     "output_type": "stream",
     "text": [
      "/home/jovyan/.local/envs/insar_analysis/lib/python3.8/site-packages/rioxarray/_io.py:924: NotGeoreferencedWarning: Dataset has no geotransform, gcps, or rpcs. The identity matrix will be returned.\n",
      "  warnings.warn(str(rio_warning.message), type(rio_warning.message))  # type: ignore\n",
      "/home/jovyan/.local/envs/insar_analysis/lib/python3.8/site-packages/rioxarray/_io.py:924: NotGeoreferencedWarning: Dataset has no geotransform, gcps, or rpcs. The identity matrix will be returned.\n",
      "  warnings.warn(str(rio_warning.message), type(rio_warning.message))  # type: ignore\n"
     ]
    },
    {
     "name": "stdout",
     "output_type": "stream",
     "text": [
      "Wallis filter width is 5\n",
      "###################### running autorift ######################\n"
     ]
    },
    {
     "name": "stderr",
     "output_type": "stream",
     "text": [
      "/home/jovyan/.local/envs/insar_analysis/lib/python3.8/site-packages/numpy/lib/nanfunctions.py:1217: RuntimeWarning: All-NaN slice encountered\n",
      "  r, k = function_base._ureduce(a, func=_nanmedian, axis=axis, out=out,\n",
      "/home/jovyan/.local/envs/insar_analysis/lib/python3.8/site-packages/autoRIFT/autoRIFT.py:1824: RuntimeWarning: divide by zero encountered in divide\n",
      "  DxMadmin = np.ones(Dx.shape) / OverSampleRatio / SearchLimitX * 2\n",
      "/home/jovyan/.local/envs/insar_analysis/lib/python3.8/site-packages/autoRIFT/autoRIFT.py:1825: RuntimeWarning: divide by zero encountered in divide\n",
      "  DyMadmin = np.ones(Dy.shape) / OverSampleRatio / SearchLimitY * 2\n",
      "/home/jovyan/.local/envs/insar_analysis/lib/python3.8/site-packages/autoRIFT/autoRIFT.py:1758: RuntimeWarning: Mean of empty slice\n",
      "  C = np.nanmean(B, axis=0)\n"
     ]
    },
    {
     "name": "stdout",
     "output_type": "stream",
     "text": [
      "0...10...20...30...40...50...60...70...80...90...100 - done.\n",
      "Output filename : /home/jovyan/ffits/nbs/imja/proc_DT121/20201205-20210122/merged/azimuth_offsets_raw.lks\n",
      "GDAL open (R): /home/jovyan/ffits/nbs/imja/proc_DT121/20201205-20210122/merged/azimuth_offsets_raw.vrt\n",
      "API open (WR): /home/jovyan/ffits/nbs/imja/proc_DT121/20201205-20210122/merged/azimuth_offsets_raw.lks\n",
      "GDAL close: /home/jovyan/ffits/nbs/imja/proc_DT121/20201205-20210122/merged/azimuth_offsets_raw.vrt\n",
      "API close:  /home/jovyan/ffits/nbs/imja/proc_DT121/20201205-20210122/merged/azimuth_offsets_raw.lks\n",
      "API open (R): /home/jovyan/ffits/nbs/imja/proc_DT121/20201205-20210122/merged/azimuth_offsets_raw.lks\n",
      "API close:  /home/jovyan/ffits/nbs/imja/proc_DT121/20201205-20210122/merged/azimuth_offsets_raw.lks\n",
      "Writing geotrans to VRT for /home/jovyan/ffits/nbs/imja/proc_DT121/20201205-20210122/merged/azimuth_offsets_raw.lks\n",
      "0...10...20...30...40...50...60...70...80...90...100 - done.\n",
      "Output filename : /home/jovyan/ffits/nbs/imja/proc_DT121/20201205-20210122/merged/range_offsets_raw.lks\n",
      "GDAL open (R): /home/jovyan/ffits/nbs/imja/proc_DT121/20201205-20210122/merged/range_offsets_raw.vrt\n",
      "API open (WR): /home/jovyan/ffits/nbs/imja/proc_DT121/20201205-20210122/merged/range_offsets_raw.lks\n",
      "GDAL close: /home/jovyan/ffits/nbs/imja/proc_DT121/20201205-20210122/merged/range_offsets_raw.vrt\n",
      "API close:  /home/jovyan/ffits/nbs/imja/proc_DT121/20201205-20210122/merged/range_offsets_raw.lks\n",
      "API open (R): /home/jovyan/ffits/nbs/imja/proc_DT121/20201205-20210122/merged/range_offsets_raw.lks\n",
      "API close:  /home/jovyan/ffits/nbs/imja/proc_DT121/20201205-20210122/merged/range_offsets_raw.lks\n",
      "Writing geotrans to VRT for /home/jovyan/ffits/nbs/imja/proc_DT121/20201205-20210122/merged/range_offsets_raw.lks\n"
     ]
    },
    {
     "name": "stderr",
     "output_type": "stream",
     "text": [
      "/home/jovyan/.local/envs/insar_analysis/lib/python3.8/site-packages/rioxarray/_io.py:924: NotGeoreferencedWarning: Dataset has no geotransform, gcps, or rpcs. The identity matrix will be returned.\n",
      "  warnings.warn(str(rio_warning.message), type(rio_warning.message))  # type: ignore\n",
      "/home/jovyan/.local/envs/insar_analysis/lib/python3.8/site-packages/rasterio/__init__.py:314: NotGeoreferencedWarning: The given matrix is equal to Affine.identity or its flipped counterpart. GDAL may ignore this matrix and save no geotransform without raising an error. This behavior is somewhat driver-specific.\n",
      "  dataset = writer(\n"
     ]
    },
    {
     "name": "stdout",
     "output_type": "stream",
     "text": [
      "0...10...20...30...40...50...60...70...80...90...100 - done.\n",
      "Warning 1: gdalbuildvrt does not support positive NS resolution. Skipping /home/jovyan/ffits/nbs/imja/proc_DT121/20201205-20210122/merged/range_offsets_phase\n",
      "CPU times: user 1h 45min 57s, sys: 2min 59s, total: 1h 48min 57s\n",
      "Wall time: 1h 47min 5s\n"
     ]
    }
   ],
   "source": [
    "%%time\n",
    "for i, pair in enumerate(pair_dict):\n",
    "    print(f'###################### working on {pair}, {i+1}/{len(pair_dict)} ######################')\n",
    "    os.chdir(f'{proc_path}/{pair}')\n",
    "    #if not os.path.exists(f'{proc_path}/{pair}/merged/filt_topophase.unw.geo'):\n",
    "    print('###################### running isce ######################')\n",
    "    !topsApp.py --start=preprocess --end=geocode\n",
    "    ref, sec = isce_to_np(f'{proc_path}/{pair}')\n",
    "    obj = prep_autorift(ref, sec)\n",
    "    print('###################### running autorift ######################')\n",
    "    obj.runAutorift()\n",
    "    offsets_to_isce(obj, f'{proc_path}/{pair}')\n",
    "    offsets_to_phase(f'{proc_path}/{pair}')"
   ]
  }
 ],
 "metadata": {
  "kernelspec": {
   "display_name": "insar_analysis [conda env:.local-insar_analysis]",
   "language": "python",
   "name": "conda-env-.local-insar_analysis-py"
  },
  "language_info": {
   "codemirror_mode": {
    "name": "ipython",
    "version": 3
   },
   "file_extension": ".py",
   "mimetype": "text/x-python",
   "name": "python",
   "nbconvert_exporter": "python",
   "pygments_lexer": "ipython3",
   "version": "3.8.16"
  }
 },
 "nbformat": 4,
 "nbformat_minor": 5
}

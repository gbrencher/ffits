{
 "cells": [
  {
   "cell_type": "code",
   "execution_count": 5,
   "id": "a33b187f-2057-4a4d-8cda-fb7c1e56cd6d",
   "metadata": {},
   "outputs": [],
   "source": [
    "import xarray as xr\n",
    "import rasterio as rio\n",
    "import rioxarray\n",
    "import numpy as np\n",
    "import matplotlib.pyplot as plt\n",
    "from osgeo import gdal, gdal_array\n",
    "import os\n",
    "import shutil\n",
    "from glob import glob"
   ]
  },
  {
   "cell_type": "code",
   "execution_count": 8,
   "id": "97ad69f0-d648-4c2e-ae34-43fa34ccf345",
   "metadata": {},
   "outputs": [],
   "source": [
    "igram_list = glob('/mnt/Backups/gbrench/repos/fusits/nbs/imja/agu_push/AT12/work/merged/interferograms/*')\n",
    "range_offset_list = glob('/mnt/Backups/gbrench/repos/fusits/nbs/imja/agu_push/AT12/offsets/*.tif')\n",
    "fusion_pair_path = '/mnt/Backups/gbrench/repos/fusits/nbs/imja/agu_push/AT12/fusion_pairs'"
   ]
  },
  {
   "cell_type": "code",
   "execution_count": 10,
   "id": "8c1ebb27-5b37-455c-acd8-b3ff33619ce4",
   "metadata": {},
   "outputs": [],
   "source": [
    "# copy all igram pairs to fuse folder\n",
    "for igram_dir in igram_list:\n",
    "    shutil.copytree(igram_dir, f'{fusion_pair_path}/{os.path.basename(igram_dir)}_interferogram')"
   ]
  },
  {
   "cell_type": "code",
   "execution_count": null,
   "id": "eae1a41b-d23e-400e-929e-f64c30727443",
   "metadata": {},
   "outputs": [],
   "source": [
    "# copy all offset pairs to fuse folder\n",
    "for range_offset in range_offset_list:\n",
    "    dates = f'{os.path.basename(igram_dir)[5:13]}_{os.path.basename(igram_dir)[14:22]}'\n",
    "    os.makedir(f'{fusion_pair_path}/{dates}_offset')\n",
    "    shutil.copy(range_offset, f'{fusion_pair_path}/{dates}_offset/range_offset.tif')"
   ]
  },
  {
   "cell_type": "code",
   "execution_count": null,
   "id": "f630737c-a68b-40d8-8b31-0902117ace53",
   "metadata": {},
   "outputs": [],
   "source": [
    "# crop offsets and convert to isce format"
   ]
  },
  {
   "cell_type": "code",
   "execution_count": null,
   "id": "3190e161-c391-4cd5-9aa7-3a68f8d6cdf2",
   "metadata": {},
   "outputs": [],
   "source": [
    "# generate false connected components and coherence for long pairs "
   ]
  },
  {
   "cell_type": "code",
   "execution_count": null,
   "id": "a6bb8f40-c5cb-4868-aeac-5f362eac1a11",
   "metadata": {},
   "outputs": [],
   "source": [
    "# mask areas of high temporal coherence in offsets"
   ]
  },
  {
   "cell_type": "code",
   "execution_count": null,
   "id": "ff6b22ac-4b9d-4b6f-81b9-c910ef4a55ea",
   "metadata": {},
   "outputs": [],
   "source": [
    "# mask areas outside connected components in interferograms"
   ]
  },
  {
   "cell_type": "code",
   "execution_count": null,
   "id": "7634676e-d80e-4467-bf2c-e85a4544e2ea",
   "metadata": {},
   "outputs": [],
   "source": []
  }
 ],
 "metadata": {
  "kernelspec": {
   "display_name": "Python 3 (ipykernel)",
   "language": "python",
   "name": "python3"
  },
  "language_info": {
   "codemirror_mode": {
    "name": "ipython",
    "version": 3
   },
   "file_extension": ".py",
   "mimetype": "text/x-python",
   "name": "python",
   "nbconvert_exporter": "python",
   "pygments_lexer": "ipython3",
   "version": "3.11.6"
  }
 },
 "nbformat": 4,
 "nbformat_minor": 5
}

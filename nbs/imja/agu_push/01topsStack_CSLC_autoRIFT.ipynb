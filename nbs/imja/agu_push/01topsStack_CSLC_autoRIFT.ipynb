{
 "cells": [
  {
   "cell_type": "markdown",
   "id": "433aa893-34ac-4881-9eab-c4162ee9c463",
   "metadata": {},
   "source": [
    "# Speckle tracking coregistered SLCs with autoRIFT"
   ]
  },
  {
   "cell_type": "code",
   "execution_count": 2,
   "id": "a530ecc8-99bf-4a81-9a6c-9bfefebe37c0",
   "metadata": {},
   "outputs": [],
   "source": [
    "# Import required packages\n",
    "import os\n",
    "import sys\n",
    "import getpass\n",
    "#import asf_search as asf\n",
    "import logging\n",
    "import isce\n",
    "root_logger = logging.getLogger()\n",
    "root_logger.setLevel('WARNING')\n",
    "import numpy as np\n",
    "import matplotlib.pyplot as plt\n",
    "from osgeo import gdal\n",
    "from datetime import datetime, timedelta\n",
    "import time\n",
    "from glob import glob\n",
    "import asf_search as asf\n",
    "from contrib.geo_autoRIFT.autoRIFT import autoRIFT_ISCE"
   ]
  },
  {
   "cell_type": "markdown",
   "id": "727d6c02-6fd4-49d9-a053-dd891e8c1941",
   "metadata": {},
   "source": [
    "## Coregister stack of SLCs"
   ]
  },
  {
   "cell_type": "code",
   "execution_count": 3,
   "id": "492de750-b048-42e9-944b-a55eff9cfaf9",
   "metadata": {},
   "outputs": [],
   "source": [
    "# Set environment variables to call ISCE from the command line\n",
    "os.environ['ISCE_HOME'] = os.path.dirname(isce.__file__)\n",
    "os.environ['ISCE_ROOT'] = os.path.dirname(os.environ['ISCE_HOME'])\n",
    "os.environ['ISCE_STACK'] = '/mnt/Backups/gbrench/sw/insar_tools/isce2/src/isce2/contrib/stack'\n",
    "os.environ['AUTORIFT'] = '/mnt/Backups/gbrench/sw/insar_tools/isce2/src/isce2/contrib/geo_autoRIFT'\n",
    "os.environ['PYTHONPATH'] = os.environ['ISCE_STACK']\n",
    "os.environ['PYTHONPATH'] = os.environ['AUTORIFT']\n",
    "os.environ['PATH'] += f\":{os.environ['ISCE_STACK']}/topsStack\"\n",
    "os.environ['PATH'] += f\":{os.environ['AUTORIFT']}\""
   ]
  },
  {
   "cell_type": "code",
   "execution_count": 4,
   "id": "0c1f345f-7f70-4db3-994a-d803e9b05c45",
   "metadata": {},
   "outputs": [],
   "source": [
    "scene_list=[\n",
    "'S1A_IW_SLC__1SDV_20191004T121345_20191004T121412_029309_0354B0_F48E',\n",
    "'S1A_IW_SLC__1SDV_20191016T121345_20191016T121412_029484_035ABB_373F',\n",
    "'S1A_IW_SLC__1SDV_20191028T121345_20191028T121412_029659_0360C3_574E',\n",
    "'S1A_IW_SLC__1SDV_20191109T121345_20191109T121412_029834_0366F3_462C',\n",
    "'S1A_IW_SLC__1SDV_20191121T121344_20191121T121411_030009_036CFD_787C',\n",
    "'S1A_IW_SLC__1SDV_20191203T121344_20191203T121411_030184_03730F_4C1A',\n",
    "'S1A_IW_SLC__1SDV_20191215T121344_20191215T121411_030359_03791A_4B57',\n",
    "'S1A_IW_SLC__1SDV_20191227T121343_20191227T121410_030534_037F23_3C47',\n",
    "'S1A_IW_SLC__1SDV_20200108T121343_20200108T121410_030709_038533_C53D',\n",
    "'S1A_IW_SLC__1SDV_20200120T121342_20200120T121409_030884_038B59_8828',\n",
    "'S1A_IW_SLC__1SDV_20200201T121342_20200201T121409_031059_039174_1908',\n",
    "'S1A_IW_SLC__1SDV_20200213T121341_20200213T121408_031234_039785_41EB',\n",
    "'S1A_IW_SLC__1SDV_20200225T121341_20200225T121408_031409_039D91_8F87',\n",
    "'S1A_IW_SLC__1SDV_20200308T121341_20200308T121408_031584_03A39B_6624',\n",
    "'S1A_IW_SLC__1SDV_20200320T121342_20200320T121409_031759_03A9BC_08F7',\n",
    "'S1A_IW_SLC__1SDV_20200401T121342_20200401T121409_031934_03AFE6_E721',\n",
    "'S1A_IW_SLC__1SDV_20200413T121342_20200413T121409_032109_03B610_2EA6',\n",
    "'S1A_IW_SLC__1SDV_20200425T121343_20200425T121410_032284_03BC35_898C'\n",
    "           ]"
   ]
  },
  {
   "cell_type": "code",
   "execution_count": 5,
   "id": "ad068404-617b-44b1-b68d-4f514be0e850",
   "metadata": {},
   "outputs": [],
   "source": [
    "proc_path = '/mnt/Backups/gbrench/repos/fusits/nbs/imja/agu_push/AT12'"
   ]
  },
  {
   "cell_type": "code",
   "execution_count": null,
   "id": "47e4cfd0-6dfc-49e3-bc64-c07c593dc617",
   "metadata": {
    "scrolled": true,
    "tags": []
   },
   "outputs": [],
   "source": [
    "# download slcs\n",
    "results = asf.granule_search(scene_list)\n",
    "results.download(path=f'{proc_path}/slc', processes=2)"
   ]
  },
  {
   "cell_type": "code",
   "execution_count": null,
   "id": "ebb4af79-6c90-43fc-a6d0-4fd61b458f6a",
   "metadata": {
    "scrolled": true
   },
   "outputs": [],
   "source": [
    "# download dem\n",
    "os.chdir(f'{proc_path}/dem')\n",
    "!sardem --bbox 85.9 27.1 87.6 28.6 --xrate 3 --yrate 3 --data-source COP -isce"
   ]
  },
  {
   "cell_type": "code",
   "execution_count": null,
   "id": "f06b3817-b45c-4809-8093-6ec8d6496a6c",
   "metadata": {
    "scrolled": true
   },
   "outputs": [],
   "source": [
    "# stacksentinel to generate run files\n",
    "os.chdir(proc_path)\n",
    "!stackSentinel.py -s ./slc -o ./orbits -a ./aux -d ./dem/elevation.dem -w ./work -C geometry --bbox '27.3 28.3 86.1 87.4' -W slc -C geometry --num_proc 2"
   ]
  },
  {
   "cell_type": "code",
   "execution_count": null,
   "id": "5e6ec6e7-14fe-41c0-b3c1-7e52a33edc76",
   "metadata": {
    "scrolled": true
   },
   "outputs": [],
   "source": [
    "%%time\n",
    "!sh ./work/run_files/run_01_unpack_topo_reference"
   ]
  },
  {
   "cell_type": "code",
   "execution_count": null,
   "id": "f60424cf-8edd-437c-a88a-16abb4ac4c73",
   "metadata": {
    "scrolled": true
   },
   "outputs": [],
   "source": [
    "%%time\n",
    "!sh ./work/run_files/run_02_unpack_secondary_slc"
   ]
  },
  {
   "cell_type": "code",
   "execution_count": null,
   "id": "f1191602-3ab2-426b-8568-55da51b44aa1",
   "metadata": {
    "scrolled": true
   },
   "outputs": [],
   "source": [
    "%%time\n",
    "!sh ./work/run_files/run_03_average_baseline"
   ]
  },
  {
   "cell_type": "code",
   "execution_count": null,
   "id": "e379b162-8b49-4799-8e8e-17f0ebc22fa0",
   "metadata": {
    "scrolled": true
   },
   "outputs": [],
   "source": [
    "%%time\n",
    "!sh ./work/run_files/run_04_fullBurst_geo2rdr"
   ]
  },
  {
   "cell_type": "code",
   "execution_count": null,
   "id": "3e4c4540-15d3-4f43-81ab-3b3c9853e688",
   "metadata": {
    "scrolled": true
   },
   "outputs": [],
   "source": [
    "%%time\n",
    "!sh ./work/run_files/run_05_fullBurst_resample"
   ]
  },
  {
   "cell_type": "code",
   "execution_count": null,
   "id": "f80d1bb8-4729-494f-b064-7a9a7a395d34",
   "metadata": {
    "scrolled": true
   },
   "outputs": [],
   "source": [
    "%%time\n",
    "!sh ./work/run_files/run_06_extract_stack_valid_region"
   ]
  },
  {
   "cell_type": "code",
   "execution_count": null,
   "id": "c586c58b-0f7d-4b07-8f11-bd0f08e6d48f",
   "metadata": {
    "scrolled": true
   },
   "outputs": [],
   "source": [
    "%%time\n",
    "!sh ./work/run_files/run_07_merge_reference_secondary_slc"
   ]
  },
  {
   "cell_type": "code",
   "execution_count": null,
   "id": "1d0e6048-55e2-4e9e-a38e-e6b684e658a7",
   "metadata": {
    "scrolled": true
   },
   "outputs": [],
   "source": [
    "%%time\n",
    "!sh ./work/run_files/run_08_grid_baseline"
   ]
  },
  {
   "cell_type": "code",
   "execution_count": null,
   "id": "af8344e8-8e86-47e3-9c15-7cdd781b13d7",
   "metadata": {},
   "outputs": [],
   "source": [
    "# examine slcs\n",
    "fn = '/mnt/Backups/gbrench/repos/fusits/nbs/imja/agu_push/AT12/work/merged/SLC/20191004/20191004.slc.full'\n",
    "def plotcomplexdata(GDALfilename,\n",
    "                    aspect=1,\n",
    "                    datamin=None, datamax=None,\n",
    "                    interpolation='nearest',\n",
    "                    draw_colorbar=None, colorbar_orientation=\"horizontal\"):\n",
    "    # Load the data into numpy array\n",
    "    ds = gdal.Open(GDALfilename, gdal.GA_ReadOnly)\n",
    "    slc = ds.GetRasterBand(1).ReadAsArray()\n",
    "    transform = ds.GetGeoTransform()\n",
    "    ds = None\n",
    "    \n",
    "    # getting the min max of the axes\n",
    "    firstx = transform[0]\n",
    "    firsty = transform[3]\n",
    "    deltay = transform[5]\n",
    "    deltax = transform[1]\n",
    "    lastx = firstx+slc.shape[1]*deltax\n",
    "    lasty = firsty+slc.shape[0]*deltay\n",
    "    ymin = np.min([lasty,firsty])\n",
    "    ymax = np.max([lasty,firsty])\n",
    "    xmin = np.min([lastx,firstx])\n",
    "    xmax = np.max([lastx,firstx])\n",
    "\n",
    "    # put all zero values to nan and do not plot nan\n",
    "    try:\n",
    "        slc[slc==0]=np.nan\n",
    "    except:\n",
    "        pass\n",
    "\n",
    "    \n",
    "    f, ax = plt.subplots(2, 1, figsize=(10, 8))\n",
    "    cax1=ax[0].imshow(np.abs(slc), vmin = datamin, vmax=datamax,\n",
    "                   cmap='Greys_r', extent=[xmin,xmax,ymin,ymax],\n",
    "                   interpolation=interpolation)\n",
    "    ax[0].set_title('amplitude')\n",
    "    if draw_colorbar is not None:\n",
    "        cbar1 = f.colorbar(cax1, shrink=0.4)\n",
    "    ax[0].set_aspect(aspect)\n",
    "\n",
    "    cax2 =ax[1].imshow(np.angle(slc), cmap='rainbow',\n",
    "                    vmin=-np.pi, vmax=np.pi,\n",
    "                    extent=[xmin,xmax,ymin,ymax],\n",
    "                    interpolation=interpolation)\n",
    "    ax[1].set_title('phase [rad])')\n",
    "    if draw_colorbar is not None:\n",
    "        cbar2 = f.colorbar(cax2, shrink=0.4)\n",
    "    ax[1].set_aspect(aspect)\n",
    "    f.tight_layout()\n",
    "    \n",
    "    # clearing the data\n",
    "    slc = None"
   ]
  },
  {
   "cell_type": "code",
   "execution_count": null,
   "id": "6cea0309-dc91-4f15-af35-32cff99d1d51",
   "metadata": {},
   "outputs": [],
   "source": [
    "plotcomplexdata(fn, datamin=0, datamax=250, draw_colorbar=True, aspect=4)"
   ]
  },
  {
   "cell_type": "markdown",
   "id": "205c1cc9-9929-4845-ad31-fc0eaa909ccc",
   "metadata": {},
   "source": [
    "# speckle tracking with autoRIFT"
   ]
  },
  {
   "cell_type": "code",
   "execution_count": 6,
   "id": "2d24de91-cc99-4377-bddf-5e5f5dc14225",
   "metadata": {},
   "outputs": [],
   "source": [
    "def select_pairs(scene_list, max_temp_bline):\n",
    "    scene_dates = {}\n",
    "    for scene in scene_list:\n",
    "        date = scene[17:25]\n",
    "        scene_dates[date] = scene\n",
    "\n",
    "    pairs = []\n",
    "    for date1 in scene_dates:\n",
    "        for date2 in scene_dates:\n",
    "            if datetime.strptime(date2, '%Y%m%d')-datetime.strptime(date1, '%Y%m%d') < timedelta(days=max_temp_bline) and not date1 >= date2 :\n",
    "                pairs.append([date1, date2])\n",
    "    \n",
    "    print(f'number of pairs: {len(pairs)}')\n",
    "    \n",
    "    return pairs"
   ]
  },
  {
   "cell_type": "code",
   "execution_count": 7,
   "id": "cf7f3864-e28a-4d34-a841-c13eec0ecf9e",
   "metadata": {},
   "outputs": [
    {
     "name": "stdout",
     "output_type": "stream",
     "text": [
      "number of pairs: 153\n"
     ]
    }
   ],
   "source": [
    "pairs = select_pairs(scene_list, 365)"
   ]
  },
  {
   "cell_type": "code",
   "execution_count": null,
   "id": "3bc24be7-0745-40ef-9041-b2c4f7b9e7bd",
   "metadata": {
    "scrolled": true
   },
   "outputs": [
    {
     "name": "stdout",
     "output_type": "stream",
     "text": [
      "2023-10-12 23:54:39,212 - root - DEBUG - Creating readonly ISCE mmap with \n",
      "file = /mnt/Backups/gbrench/repos/fusits/nbs/imja/agu_push/AT12/work/merged/SLC/20191004/20191004.slc.full \n",
      "bands = 1 \n",
      "width = 45746 \n",
      "length = 7746 \n",
      "scheme = BIP \n",
      "dtype = CFLOAT \n",
      "\n",
      "2023-10-12 23:54:39,220 - root - DEBUG - Creating readonly ISCE mmap with \n",
      "file = /mnt/Backups/gbrench/repos/fusits/nbs/imja/agu_push/AT12/work/merged/SLC/20200401/20200401.slc.full \n",
      "bands = 1 \n",
      "width = 45746 \n",
      "length = 7746 \n",
      "scheme = BIP \n",
      "dtype = CFLOAT \n",
      "\n",
      "Preprocessing filter width 21\n",
      "Using preprocessing methods ['hps', 'hps']\n"
     ]
    }
   ],
   "source": [
    "os.makedirs(f'{proc_path}/offsets', exist_ok=True)\n",
    "reference_fn = f'{proc_path}/work/merged/SLC/{pairs[14][0]}/{pairs[14][0]}.slc.full'\n",
    "secondary_fn = f'{proc_path}/work/merged/SLC/{pairs[14][1]}/{pairs[14][1]}.slc.full'\n",
    "out_fn = f'{proc_path}/offsets/{pairs[14][0]}_{pairs[14][1]}.nc'\n",
    "!testautoRIFT_ISCE.py -m {reference_fn} -s{secondary_fn} -mpflag 8 -nc S1 -ncname {out_fn}"
   ]
  }
 ],
 "metadata": {
  "kernelspec": {
   "display_name": "Python 3 (ipykernel)",
   "language": "python",
   "name": "python3"
  },
  "language_info": {
   "codemirror_mode": {
    "name": "ipython",
    "version": 3
   },
   "file_extension": ".py",
   "mimetype": "text/x-python",
   "name": "python",
   "nbconvert_exporter": "python",
   "pygments_lexer": "ipython3",
   "version": "3.11.6"
  }
 },
 "nbformat": 4,
 "nbformat_minor": 5
}

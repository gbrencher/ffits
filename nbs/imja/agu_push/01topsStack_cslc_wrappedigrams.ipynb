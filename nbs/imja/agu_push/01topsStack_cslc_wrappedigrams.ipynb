{
 "cells": [
  {
   "cell_type": "code",
   "execution_count": 1,
   "id": "4ab84470-a04d-44c1-b18f-60855efb7d82",
   "metadata": {},
   "outputs": [],
   "source": [
    "# Import required packages\n",
    "import os\n",
    "import sys\n",
    "#import asf_search as asf\n",
    "import logging\n",
    "import isce\n",
    "root_logger = logging.getLogger()\n",
    "root_logger.setLevel('WARNING')\n",
    "import numpy as np\n",
    "import matplotlib.pyplot as plt\n",
    "from osgeo import gdal\n",
    "from datetime import datetime, timedelta\n",
    "import time\n",
    "from glob import glob\n",
    "import asf_search as asf"
   ]
  },
  {
   "cell_type": "code",
   "execution_count": 2,
   "id": "55cf254d-3b68-48d6-a88d-5be4416fe00c",
   "metadata": {},
   "outputs": [],
   "source": [
    "# Set environment variables to call ISCE from the command line\n",
    "os.environ['ISCE_HOME'] = os.path.dirname(isce.__file__)\n",
    "os.environ['ISCE_ROOT'] = os.path.dirname(os.environ['ISCE_HOME'])\n",
    "os.environ['ISCE_STACK'] = '/mnt/Backups/gbrench/sw/insar_tools/isce2/src/isce2/contrib/stack'\n",
    "os.environ['PYTHONPATH'] = os.environ['ISCE_STACK']\n",
    "os.environ['PATH'] += f\":{os.environ['ISCE_STACK']}/topsStack\""
   ]
  },
  {
   "cell_type": "code",
   "execution_count": 3,
   "id": "96e9356b-7712-421b-b13b-e6917042031f",
   "metadata": {},
   "outputs": [],
   "source": [
    "scene_list=[\n",
    "'S1A_IW_SLC__1SDV_20191004T121345_20191004T121412_029309_0354B0_F48E',\n",
    "'S1A_IW_SLC__1SDV_20191016T121345_20191016T121412_029484_035ABB_373F',\n",
    "'S1A_IW_SLC__1SDV_20191028T121345_20191028T121412_029659_0360C3_574E',\n",
    "'S1A_IW_SLC__1SDV_20191109T121345_20191109T121412_029834_0366F3_462C',\n",
    "'S1A_IW_SLC__1SDV_20191121T121344_20191121T121411_030009_036CFD_787C',\n",
    "'S1A_IW_SLC__1SDV_20191203T121344_20191203T121411_030184_03730F_4C1A',\n",
    "'S1A_IW_SLC__1SDV_20191215T121344_20191215T121411_030359_03791A_4B57',\n",
    "'S1A_IW_SLC__1SDV_20191227T121343_20191227T121410_030534_037F23_3C47',\n",
    "'S1A_IW_SLC__1SDV_20200108T121343_20200108T121410_030709_038533_C53D',\n",
    "'S1A_IW_SLC__1SDV_20200120T121342_20200120T121409_030884_038B59_8828',\n",
    "'S1A_IW_SLC__1SDV_20200201T121342_20200201T121409_031059_039174_1908',\n",
    "'S1A_IW_SLC__1SDV_20200213T121341_20200213T121408_031234_039785_41EB',\n",
    "'S1A_IW_SLC__1SDV_20200225T121341_20200225T121408_031409_039D91_8F87',\n",
    "'S1A_IW_SLC__1SDV_20200308T121341_20200308T121408_031584_03A39B_6624',\n",
    "'S1A_IW_SLC__1SDV_20200320T121342_20200320T121409_031759_03A9BC_08F7',\n",
    "'S1A_IW_SLC__1SDV_20200401T121342_20200401T121409_031934_03AFE6_E721',\n",
    "'S1A_IW_SLC__1SDV_20200413T121342_20200413T121409_032109_03B610_2EA6'\n",
    "           ]"
   ]
  },
  {
   "cell_type": "code",
   "execution_count": 4,
   "id": "6f948722-0fad-47ca-8b7e-de01aafb4fc4",
   "metadata": {},
   "outputs": [],
   "source": [
    "proc_path = '/mnt/Backups/gbrench/repos/fusits/nbs/imja/agu_push/AT12'"
   ]
  },
  {
   "cell_type": "code",
   "execution_count": null,
   "id": "c009990b-8a2e-4bc0-bf99-fa74f79606e2",
   "metadata": {},
   "outputs": [],
   "source": [
    "# download slcs\n",
    "results = asf.granule_search(scene_list)\n",
    "results.download(path=f'{proc_path}/slc', processes=2)"
   ]
  },
  {
   "cell_type": "code",
   "execution_count": null,
   "id": "e1c6cc94-3102-44b7-963d-09da22581c25",
   "metadata": {},
   "outputs": [],
   "source": [
    "# # download dem\n",
    "# os.chdir(f'{proc_path}/dem')\n",
    "# !sardem --bbox 85.9 27.1 87.6 28.6 --xrate 3 --yrate 3 --data-source COP -isce"
   ]
  },
  {
   "cell_type": "markdown",
   "id": "5aac16f7-155a-42ca-b3ce-d956448e8a0b",
   "metadata": {},
   "source": [
    "## first run to CSLCs"
   ]
  },
  {
   "cell_type": "code",
   "execution_count": null,
   "id": "e193ff66-273a-436c-a1cc-73e59e0a6e5d",
   "metadata": {},
   "outputs": [],
   "source": [
    "# stacksentinel to generate run files\n",
    "os.chdir(proc_path)\n",
    "!stackSentinel.py -s ./slc -o ./orbits -a ./aux -d ./dem/elevation.dem -w ./work -C geometry --bbox '27.3 28.3 86.1 87.4' -W slc -C geometry --num_proc 4"
   ]
  },
  {
   "cell_type": "code",
   "execution_count": null,
   "id": "56126856-1941-40fa-8eee-7b9f6eb5135e",
   "metadata": {},
   "outputs": [],
   "source": [
    "%%time\n",
    "!sh ./work/run_files/run_01_unpack_topo_reference"
   ]
  },
  {
   "cell_type": "code",
   "execution_count": null,
   "id": "11bf21af-e2db-4219-8f6f-ff799e1721b6",
   "metadata": {},
   "outputs": [],
   "source": [
    "%%time\n",
    "!sh ./work/run_files/run_02_unpack_secondary_slc"
   ]
  },
  {
   "cell_type": "code",
   "execution_count": null,
   "id": "85cc3fde-be0c-48b6-9d81-256ad2816a1c",
   "metadata": {},
   "outputs": [],
   "source": [
    "%%time\n",
    "!sh ./work/run_files/run_03_average_baseline"
   ]
  },
  {
   "cell_type": "code",
   "execution_count": null,
   "id": "1fa9132e-acd7-47cf-95c1-efa770ddbe1e",
   "metadata": {},
   "outputs": [],
   "source": [
    "%%time\n",
    "!sh ./work/run_files/run_04_fullBurst_geo2rdr"
   ]
  },
  {
   "cell_type": "code",
   "execution_count": null,
   "id": "2191bd7b-5d86-4d50-b5a9-6d11c008b38c",
   "metadata": {},
   "outputs": [],
   "source": [
    "%%time\n",
    "!sh ./work/run_files/run_05_fullBurst_resample"
   ]
  },
  {
   "cell_type": "code",
   "execution_count": null,
   "id": "635ef9c8-9b35-4ac8-961b-d6716ed591e2",
   "metadata": {},
   "outputs": [],
   "source": [
    "%%time\n",
    "!sh ./work/run_files/run_06_extract_stack_valid_region"
   ]
  },
  {
   "cell_type": "code",
   "execution_count": null,
   "id": "87f3ef2b-f685-452c-98ab-5e409b779f9d",
   "metadata": {},
   "outputs": [],
   "source": [
    "%%time\n",
    "!sh ./work/run_files/run_07_merge_reference_secondary_slc"
   ]
  },
  {
   "cell_type": "code",
   "execution_count": null,
   "id": "76aed8b1-ecdf-480f-a299-0f7068878d50",
   "metadata": {},
   "outputs": [],
   "source": [
    "%%time\n",
    "!sh ./work/run_files/run_08_grid_baseline"
   ]
  },
  {
   "cell_type": "code",
   "execution_count": null,
   "id": "bad5ddd9-9267-41c8-941b-627c332d7d31",
   "metadata": {},
   "outputs": [],
   "source": [
    "# remove run files\n",
    "!rm -r ./work/run_files"
   ]
  },
  {
   "cell_type": "code",
   "execution_count": null,
   "id": "9420bafd-a0e6-470e-be12-c27dddf473c1",
   "metadata": {},
   "outputs": [],
   "source": [
    "!mv ./work/coreg_secondarys ./work/coreg_secondarys_tmp\n",
    "!mv ./work/merged ./work/merged_cslcs"
   ]
  },
  {
   "cell_type": "markdown",
   "id": "7bd460ef-f2c9-4bc5-ba16-2c1a6c1cb09b",
   "metadata": {},
   "source": [
    "## run to wrapped interferograms "
   ]
  },
  {
   "cell_type": "code",
   "execution_count": null,
   "id": "e4e238f8-6238-4d15-b1e0-c40804f000fa",
   "metadata": {},
   "outputs": [],
   "source": [
    "# stacksentinel to generate run files\n",
    "# NOTE: do not change work directory name to anything other than \"work\" or things will break\n",
    "os.chdir(proc_path)\n",
    "!stackSentinel.py -s ./slc -o ./work/orbits -a ./aux -d ./dem/elevation.dem -w ./work -C geometry --bbox '27.3 28.3 86.1 87.4' -W interferogram -C geometry --num_proc 4 -c 5 -z 1 -r 5  "
   ]
  },
  {
   "cell_type": "code",
   "execution_count": null,
   "id": "24638f69-0408-4fc7-a8b2-bd32aa3dfe14",
   "metadata": {},
   "outputs": [],
   "source": [
    "!mv ./work/coreg_secondarys_tmp ./work/coreg_secondarys"
   ]
  },
  {
   "cell_type": "code",
   "execution_count": null,
   "id": "1531c0dc-bf90-4cea-92b1-388c59f195b4",
   "metadata": {},
   "outputs": [],
   "source": [
    "%%time\n",
    "!sh ./work/run_files/run_07_merge_reference_secondary_slc"
   ]
  },
  {
   "cell_type": "code",
   "execution_count": null,
   "id": "61bb43f8-eaee-40d3-8814-07c110996723",
   "metadata": {},
   "outputs": [],
   "source": [
    "%%time\n",
    "!sh ./work/run_files/run_08_generate_burst_igram"
   ]
  },
  {
   "cell_type": "code",
   "execution_count": null,
   "id": "eab8e611-eeff-4727-906c-de01df4bf7fc",
   "metadata": {},
   "outputs": [],
   "source": [
    "%%time\n",
    "!sh ./work/run_files/run_09_merge_burst_igram"
   ]
  },
  {
   "cell_type": "code",
   "execution_count": null,
   "id": "a6371dfb-95ec-458f-a657-3b258d290001",
   "metadata": {},
   "outputs": [],
   "source": [
    "%%time\n",
    "!sh ./work/run_files/run_10_filter_coherence"
   ]
  }
 ],
 "metadata": {
  "kernelspec": {
   "display_name": "Python 3 (ipykernel)",
   "language": "python",
   "name": "python3"
  },
  "language_info": {
   "codemirror_mode": {
    "name": "ipython",
    "version": 3
   },
   "file_extension": ".py",
   "mimetype": "text/x-python",
   "name": "python",
   "nbconvert_exporter": "python",
   "pygments_lexer": "ipython3",
   "version": "3.11.6"
  }
 },
 "nbformat": 4,
 "nbformat_minor": 5
}

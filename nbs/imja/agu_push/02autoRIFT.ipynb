{
 "cells": [
  {
   "cell_type": "code",
   "execution_count": 2,
   "id": "4f6bdc1b-9e6f-4f1a-a827-f4f93272f845",
   "metadata": {},
   "outputs": [],
   "source": [
    "# Import required packages\n",
    "import os\n",
    "import sys\n",
    "import numpy as np\n",
    "import matplotlib.pyplot as plt\n",
    "from osgeo import gdal\n",
    "from datetime import datetime, timedelta\n",
    "import time\n",
    "import rasterio as rio\n",
    "import xarray as xr\n",
    "import rioxarray\n",
    "import isce\n",
    "import logging\n",
    "root_logger = logging.getLogger()\n",
    "root_logger.setLevel('WARNING')\n",
    "import logging\n",
    "from imageMath import IML\n",
    "from components.contrib.geo_autoRIFT.autoRIFT import autoRIFT_ISCE\n",
    "import isceobj\n",
    "import time"
   ]
  },
  {
   "cell_type": "code",
   "execution_count": 3,
   "id": "c20355f3-b5a8-4fb0-86e8-e6958a3ed445",
   "metadata": {},
   "outputs": [],
   "source": [
    "os.environ['AUTORIFT'] = '/mnt/Backups/gbrench/sw/insar_tools/isce2/src/isce2/contrib/geo_autoRIFT'\n",
    "os.environ['PYTHONPATH'] = os.environ['AUTORIFT']\n",
    "os.environ['PATH'] += f\":{os.environ['AUTORIFT']}\""
   ]
  },
  {
   "cell_type": "code",
   "execution_count": 4,
   "id": "ab0cb7ba-a3dc-42e1-95c5-e96632eef2ed",
   "metadata": {},
   "outputs": [],
   "source": [
    "scene_list=[\n",
    "'S1A_IW_SLC__1SDV_20191004T121345_20191004T121412_029309_0354B0_F48E',\n",
    "'S1A_IW_SLC__1SDV_20191016T121345_20191016T121412_029484_035ABB_373F',\n",
    "'S1A_IW_SLC__1SDV_20191028T121345_20191028T121412_029659_0360C3_574E',\n",
    "'S1A_IW_SLC__1SDV_20191109T121345_20191109T121412_029834_0366F3_462C',\n",
    "'S1A_IW_SLC__1SDV_20191121T121344_20191121T121411_030009_036CFD_787C',\n",
    "'S1A_IW_SLC__1SDV_20191203T121344_20191203T121411_030184_03730F_4C1A',\n",
    "'S1A_IW_SLC__1SDV_20191215T121344_20191215T121411_030359_03791A_4B57',\n",
    "'S1A_IW_SLC__1SDV_20191227T121343_20191227T121410_030534_037F23_3C47',\n",
    "'S1A_IW_SLC__1SDV_20200108T121343_20200108T121410_030709_038533_C53D',\n",
    "'S1A_IW_SLC__1SDV_20200120T121342_20200120T121409_030884_038B59_8828',\n",
    "'S1A_IW_SLC__1SDV_20200201T121342_20200201T121409_031059_039174_1908',\n",
    "'S1A_IW_SLC__1SDV_20200213T121341_20200213T121408_031234_039785_41EB',\n",
    "'S1A_IW_SLC__1SDV_20200225T121341_20200225T121408_031409_039D91_8F87',\n",
    "'S1A_IW_SLC__1SDV_20200308T121341_20200308T121408_031584_03A39B_6624',\n",
    "'S1A_IW_SLC__1SDV_20200320T121342_20200320T121409_031759_03A9BC_08F7',\n",
    "'S1A_IW_SLC__1SDV_20200401T121342_20200401T121409_031934_03AFE6_E721',\n",
    "'S1A_IW_SLC__1SDV_20200413T121342_20200413T121409_032109_03B610_2EA6',\n",
    "'S1A_IW_SLC__1SDV_20200425T121343_20200425T121410_032284_03BC35_898C'\n",
    "           ]"
   ]
  },
  {
   "cell_type": "code",
   "execution_count": 5,
   "id": "9763ac20-4229-44a5-8f91-03de1e73f7fb",
   "metadata": {},
   "outputs": [],
   "source": [
    "proc_path = '/mnt/Backups/gbrench/repos/fusits/nbs/imja/agu_push/AT12'"
   ]
  },
  {
   "cell_type": "code",
   "execution_count": 6,
   "id": "02eb8f55-a5c0-4f29-b9b9-35a55860fd43",
   "metadata": {},
   "outputs": [],
   "source": [
    "def select_pairs(scene_list, min_temp_bline, max_temp_bline):\n",
    "    scene_dates = {}\n",
    "    for scene in scene_list:\n",
    "        date = scene[17:25]\n",
    "        scene_dates[date] = scene\n",
    "\n",
    "    pairs = []\n",
    "    for date1 in scene_dates:\n",
    "        for date2 in scene_dates:\n",
    "            if datetime.strptime(date2, '%Y%m%d')-datetime.strptime(date1, '%Y%m%d') < timedelta(days=max_temp_bline) and not datetime.strptime(date2, '%Y%m%d')-datetime.strptime(date1, '%Y%m%d') < timedelta(days=min_temp_bline) and not date1 >= date2 :\n",
    "                pairs.append([date1, date2])\n",
    "    \n",
    "    print(f'number of pairs: {len(pairs)}')\n",
    "    \n",
    "    return pairs"
   ]
  },
  {
   "cell_type": "code",
   "execution_count": 7,
   "id": "b9041e5d-393e-4ea8-beb9-d652d5087cd8",
   "metadata": {},
   "outputs": [
    {
     "name": "stdout",
     "output_type": "stream",
     "text": [
      "number of pairs: 66\n"
     ]
    }
   ],
   "source": [
    "pairs = select_pairs(scene_list, 80, 360)"
   ]
  },
  {
   "cell_type": "code",
   "execution_count": 8,
   "id": "5db08e9b-1831-47d6-980c-848be80237c4",
   "metadata": {},
   "outputs": [],
   "source": [
    "def open_SLCs(pair):\n",
    "    reference_fn = f'{proc_path}/work/merged/SLC/{pair[0]}/{pair[0]}.slc.full'\n",
    "    secondary_fn = f'{proc_path}/work/merged/SLC/{pair[1]}/{pair[1]}.slc.full'\n",
    "\n",
    "    ds1 = gdal.Open(reference_fn, gdal.GA_ReadOnly)\n",
    "    slc1 = ds1.GetRasterBand(1).ReadAsArray()\n",
    "\n",
    "    ds2 = gdal.Open(secondary_fn, gdal.GA_ReadOnly)\n",
    "    slc2 = ds2.GetRasterBand(1).ReadAsArray()\n",
    "\n",
    "    I1 = np.abs(slc1)\n",
    "    I2 = np.abs(slc2)\n",
    "\n",
    "    return I1, I2"
   ]
  },
  {
   "cell_type": "code",
   "execution_count": 17,
   "id": "a46869ba-3cde-48e1-a91a-88ce7fd2b1bb",
   "metadata": {},
   "outputs": [],
   "source": [
    "def run_autoRIFT(pair, preproc_filter_width=5, multithread_count=12, min_chip=8, max_chip=32, skip_x=31, skip_y=5):\n",
    "\n",
    "    print(f'working on  {pair}')\n",
    "    \n",
    "    I1, I2 = open_SLCs(pair)\n",
    "\n",
    "    obj = autoRIFT_ISCE()\n",
    "    obj.configure()\n",
    "\n",
    "    obj.WallisFilterWidth = preproc_filter_width\n",
    "\n",
    "    obj.MultiThread = multithread_count\n",
    "\n",
    "    obj.I1 = I1\n",
    "    obj.I2 = I2\n",
    "\n",
    "    obj.ChipSizeMinX = min_chip\n",
    "    obj.ChipSizeMaxX = max_chip\n",
    "    obj.ChipSize0X = min_chip\n",
    "    obj.SkipSampleX = skip_x\n",
    "    obj.SkipSampleY = skip_y\n",
    "\n",
    "    m,n = obj.I1.shape\n",
    "    xGrid = np.arange(obj.SkipSampleX+10,n-obj.SkipSampleX,obj.SkipSampleX)\n",
    "    yGrid = np.arange(obj.SkipSampleY+10,m-obj.SkipSampleY,obj.SkipSampleY)\n",
    "    nd = xGrid.__len__()\n",
    "    md = yGrid.__len__()\n",
    "    obj.xGrid = np.int32(np.dot(np.ones((md,1)),np.reshape(xGrid,(1,xGrid.__len__()))))\n",
    "    obj.yGrid = np.int32(np.dot(np.reshape(yGrid,(yGrid.__len__(),1)),np.ones((1,nd))))\n",
    "    noDataMask = np.logical_not(obj.xGrid)\n",
    "    \n",
    "    obj.SearchLimitX = obj.SearchLimitX * np.logical_not(noDataMask)\n",
    "    obj.SearchLimitY = obj.SearchLimitY * np.logical_not(noDataMask)\n",
    "    obj.Dx0 = obj.Dx0 * np.logical_not(noDataMask)\n",
    "    obj.Dy0 = obj.Dy0 * np.logical_not(noDataMask)\n",
    "\n",
    "    obj.xGrid[noDataMask] = 0\n",
    "    obj.yGrid[noDataMask] = 0\n",
    "    obj.Dx0[noDataMask] = 0\n",
    "    obj.Dy0[noDataMask] = 0\n",
    "    obj.SearchLimitX[noDataMask] = 0\n",
    "    obj.SearchLimitY[noDataMask] = 0\n",
    "    \n",
    "    # convert az \n",
    "    obj.Dy0 = -1 * obj.Dy0\n",
    "\n",
    "    print(f'preprocessing')\n",
    "    obj.preprocess_filt_wal()\n",
    "    obj.uniform_data_type()\n",
    "\n",
    "    # not totally sure what this does yet\n",
    "    #obj.OverSampleRatio = {obj.ChipSize0X:32,obj.ChipSize0X*2:64,obj.ChipSize0X*4:128,obj.ChipSize0X*8:128}\n",
    "\n",
    "    print('running autoRIFT')\n",
    "    obj.runAutorift()\n",
    "\n",
    "    return obj #.Dx, obj.Dy, obj.InterpMask, obj.ChipSizeX, obj.GridSpacingX, obj.ScaleChipSizeY, obj.origSize, noDataMask"
   ]
  },
  {
   "cell_type": "code",
   "execution_count": 18,
   "id": "fd7c9097-785e-49eb-8297-725f949a8357",
   "metadata": {
    "scrolled": true
   },
   "outputs": [
    {
     "name": "stdout",
     "output_type": "stream",
     "text": [
      "working on  ['20191004', '20200225']\n",
      "preprocessing\n"
     ]
    },
    {
     "name": "stderr",
     "output_type": "stream",
     "text": [
      "/mnt/Backups/gbrench/sw/miniconda3/envs/insar/lib/python3.11/site-packages/isce/components/contrib/geo_autoRIFT/autoRIFT/autoRIFT.py:71: RuntimeWarning: invalid value encountered in divide\n",
      "  self.I1 = (self.I1 - m) / s\n",
      "/mnt/Backups/gbrench/sw/miniconda3/envs/insar/lib/python3.11/site-packages/isce/components/contrib/geo_autoRIFT/autoRIFT/autoRIFT.py:83: RuntimeWarning: invalid value encountered in divide\n",
      "  self.I2 = (self.I2 - m) / s\n",
      "/mnt/Backups/gbrench/sw/miniconda3/envs/insar/lib/python3.11/site-packages/isce/components/contrib/geo_autoRIFT/autoRIFT/autoRIFT.py:225: RuntimeWarning: invalid value encountered in cast\n",
      "  self.I1 = np.round(np.clip(self.I1, 0, 255)).astype(np.uint8)\n",
      "/mnt/Backups/gbrench/sw/miniconda3/envs/insar/lib/python3.11/site-packages/isce/components/contrib/geo_autoRIFT/autoRIFT/autoRIFT.py:238: RuntimeWarning: invalid value encountered in cast\n",
      "  self.I2 = np.round(np.clip(self.I2, 0, 255)).astype(np.uint8)\n"
     ]
    },
    {
     "name": "stdout",
     "output_type": "stream",
     "text": [
      "running autoRIFT\n"
     ]
    },
    {
     "name": "stderr",
     "output_type": "stream",
     "text": [
      "/mnt/Backups/gbrench/sw/miniconda3/envs/insar/lib/python3.11/site-packages/isce/components/contrib/geo_autoRIFT/autoRIFT/autoRIFT.py:1413: RuntimeWarning: All-NaN slice encountered\n",
      "  D = np.nanmedian(B,axis=0)\n",
      "/mnt/Backups/gbrench/sw/miniconda3/envs/insar/lib/python3.11/site-packages/isce/components/contrib/geo_autoRIFT/autoRIFT/autoRIFT.py:1416: RuntimeWarning: All-NaN slice encountered\n",
      "  C = np.nanmedian(D,axis=0, overwrite_input=True)\n",
      "/mnt/Backups/gbrench/sw/miniconda3/envs/insar/lib/python3.11/site-packages/isce/components/contrib/geo_autoRIFT/autoRIFT/autoRIFT.py:1403: RuntimeWarning: All-NaN slice encountered\n",
      "  C = np.nanmedian(B,axis=0, overwrite_input=True)\n",
      "/mnt/Backups/gbrench/sw/miniconda3/envs/insar/lib/python3.11/site-packages/isce/components/contrib/geo_autoRIFT/autoRIFT/autoRIFT.py:1468: RuntimeWarning: divide by zero encountered in divide\n",
      "  DxMadmin = np.ones(Dx.shape) / OverSampleRatio / SearchLimitX * 2;\n",
      "/mnt/Backups/gbrench/sw/miniconda3/envs/insar/lib/python3.11/site-packages/isce/components/contrib/geo_autoRIFT/autoRIFT/autoRIFT.py:1469: RuntimeWarning: divide by zero encountered in divide\n",
      "  DyMadmin = np.ones(Dy.shape) / OverSampleRatio / SearchLimitY * 2;\n",
      "/mnt/Backups/gbrench/sw/miniconda3/envs/insar/lib/python3.11/site-packages/isce/components/contrib/geo_autoRIFT/autoRIFT/autoRIFT.py:1399: RuntimeWarning: Mean of empty slice\n",
      "  C = np.nanmean(B,axis=0)\n"
     ]
    }
   ],
   "source": [
    "obj = run_autoRIFT(pairs[5])"
   ]
  },
  {
   "cell_type": "code",
   "execution_count": 20,
   "id": "26d6b1f0-7a4e-44c9-bca7-cf9e6e0f010e",
   "metadata": {},
   "outputs": [
    {
     "data": {
      "text/plain": [
       "<matplotlib.image.AxesImage at 0x7f9214146cd0>"
      ]
     },
     "execution_count": 20,
     "metadata": {},
     "output_type": "execute_result"
    },
    {
     "data": {
      "image/png": "[encoded data removed]",
      "text/plain": [
       "<Figure size 640x480 with 1 Axes>"
      ]
     },
     "metadata": {},
     "output_type": "display_data"
    }
   ],
   "source": [
    "f, ax = plt.subplots()\n",
    "ax.imshow(obj.Dx)"
   ]
  },
  {
   "cell_type": "code",
   "execution_count": null,
   "id": "51ad33a0-0e77-4370-a719-b4e5344fe366",
   "metadata": {
    "scrolled": true
   },
   "outputs": [],
   "source": [
    "os.makedirs(f'{proc_path}/offsets', exist_ok=True)\n",
    "reference_fn = f'{proc_path}/work/merged/SLC/{pairs[14][0]}/{pairs[14][0]}.slc.full'\n",
    "secondary_fn = f'{proc_path}/work/merged/SLC/{pairs[14][1]}/{pairs[14][1]}.slc.full'\n",
    "#out_fn = f'{proc_path}/offsets/{pairs[14][0]}_{pairs[14][1]}.nc'\n",
    "!testautoRIFT_ISCE.py -m {reference_fn} -s{secondary_fn} -mpflag 12 -nc S1"
   ]
  },
  {
   "cell_type": "code",
   "execution_count": null,
   "id": "cf60e65c-cb0d-4ce8-a756-b3b28d8174c8",
   "metadata": {},
   "outputs": [],
   "source": [
    "ds = xr.open_dataset('autoRIFT_intermediate.nc')"
   ]
  },
  {
   "cell_type": "code",
   "execution_count": null,
   "id": "220525af-a536-4ac3-bfa9-2b6a97ea884e",
   "metadata": {},
   "outputs": [],
   "source": [
    "dem_fn = f'{proc_path}/work/merged/geom_reference/hgt.rdr.full'\n",
    "dem_ds = gdal.Open(dem_fn, gdal.GA_ReadOnly)\n",
    "dem = dem_ds.GetRasterBand(1).ReadAsArray()"
   ]
  },
  {
   "cell_type": "code",
   "execution_count": null,
   "id": "7d3e63da-c1b8-459e-9a75-695aa444a598",
   "metadata": {},
   "outputs": [],
   "source": [
    "f, ax = plt.subplots(1, 2, figsize=(10, 10))\n",
    "ax[0].imshow(np.flip(ds.Dx.values, (0))[30:280, 350:750], cmap='RdBu_r', vmin=-3, vmax=3, interpolation='none')\n",
    "ax[0].set_title(f'slant range offsets, {pairs[14][0]}-{pairs[14][1]}, 5 skip az 31 skip rg')\n",
    "ax[0].set_aspect(1)\n",
    "\n",
    "ax[1].imshow(np.flip(dem, (0))[0:1500, 10000:25000], vmin=3000, vmax=8000)\n",
    "ax[1].set_title(f'COP30 DEM')\n",
    "ax[1].set_aspect(6.13)\n",
    "\n",
    "f.tight_layout()"
   ]
  }
 ],
 "metadata": {
  "kernelspec": {
   "display_name": "Python 3 (ipykernel)",
   "language": "python",
   "name": "python3"
  },
  "language_info": {
   "codemirror_mode": {
    "name": "ipython",
    "version": 3
   },
   "file_extension": ".py",
   "mimetype": "text/x-python",
   "name": "python",
   "nbconvert_exporter": "python",
   "pygments_lexer": "ipython3",
   "version": "3.11.6"
  }
 },
 "nbformat": 4,
 "nbformat_minor": 5
}

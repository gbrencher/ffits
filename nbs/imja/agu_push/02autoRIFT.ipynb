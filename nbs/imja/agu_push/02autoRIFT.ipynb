{
 "cells": [
  {
   "cell_type": "markdown",
   "id": "a5fef152-f05a-4f5c-92c4-7790875f2f79",
   "metadata": {},
   "source": [
    "# Run autoRIFT for coregistered SLCs"
   ]
  },
  {
   "cell_type": "code",
   "execution_count": 1,
   "id": "4f6bdc1b-9e6f-4f1a-a827-f4f93272f845",
   "metadata": {},
   "outputs": [],
   "source": [
    "# Import required packages\n",
    "import os\n",
    "import sys\n",
    "import numpy as np\n",
    "import matplotlib.pyplot as plt\n",
    "from osgeo import gdal\n",
    "from datetime import datetime, timedelta\n",
    "import time\n",
    "import rasterio as rio\n",
    "import xarray as xr\n",
    "import rioxarray\n",
    "import isce\n",
    "import logging\n",
    "root_logger = logging.getLogger()\n",
    "root_logger.setLevel('WARNING')\n",
    "import logging\n",
    "from imageMath import IML\n",
    "import isce\n",
    "from components.contrib.geo_autoRIFT.autoRIFT import autoRIFT_ISCE\n",
    "from components.contrib.geo_autoRIFT.autoRIFT import __version__ as version\n",
    "import isceobj\n",
    "import subprocess\n",
    "from scipy.interpolate import interpn"
   ]
  },
  {
   "cell_type": "code",
   "execution_count": 2,
   "id": "c20355f3-b5a8-4fb0-86e8-e6958a3ed445",
   "metadata": {},
   "outputs": [],
   "source": [
    "os.environ['AUTORIFT'] = '/mnt/Backups/gbrench/sw/insar_tools/isce2/src/isce2/contrib/geo_autoRIFT'\n",
    "os.environ['PYTHONPATH'] = os.environ['AUTORIFT']\n",
    "os.environ['PATH'] += f\":{os.environ['AUTORIFT']}\""
   ]
  },
  {
   "cell_type": "code",
   "execution_count": 3,
   "id": "ab0cb7ba-a3dc-42e1-95c5-e96632eef2ed",
   "metadata": {},
   "outputs": [],
   "source": [
    "scene_list=[\n",
    "'S1A_IW_SLC__1SDV_20191004T121345_20191004T121412_029309_0354B0_F48E',\n",
    "'S1A_IW_SLC__1SDV_20191016T121345_20191016T121412_029484_035ABB_373F',\n",
    "'S1A_IW_SLC__1SDV_20191028T121345_20191028T121412_029659_0360C3_574E',\n",
    "'S1A_IW_SLC__1SDV_20191109T121345_20191109T121412_029834_0366F3_462C',\n",
    "'S1A_IW_SLC__1SDV_20191121T121344_20191121T121411_030009_036CFD_787C',\n",
    "'S1A_IW_SLC__1SDV_20191203T121344_20191203T121411_030184_03730F_4C1A',\n",
    "'S1A_IW_SLC__1SDV_20191215T121344_20191215T121411_030359_03791A_4B57',\n",
    "'S1A_IW_SLC__1SDV_20191227T121343_20191227T121410_030534_037F23_3C47',\n",
    "'S1A_IW_SLC__1SDV_20200108T121343_20200108T121410_030709_038533_C53D',\n",
    "'S1A_IW_SLC__1SDV_20200120T121342_20200120T121409_030884_038B59_8828',\n",
    "'S1A_IW_SLC__1SDV_20200201T121342_20200201T121409_031059_039174_1908',\n",
    "'S1A_IW_SLC__1SDV_20200213T121341_20200213T121408_031234_039785_41EB',\n",
    "'S1A_IW_SLC__1SDV_20200225T121341_20200225T121408_031409_039D91_8F87',\n",
    "'S1A_IW_SLC__1SDV_20200308T121341_20200308T121408_031584_03A39B_6624',\n",
    "'S1A_IW_SLC__1SDV_20200320T121342_20200320T121409_031759_03A9BC_08F7',\n",
    "'S1A_IW_SLC__1SDV_20200401T121342_20200401T121409_031934_03AFE6_E721',\n",
    "'S1A_IW_SLC__1SDV_20200413T121342_20200413T121409_032109_03B610_2EA6',\n",
    "           ]"
   ]
  },
  {
   "cell_type": "code",
   "execution_count": 4,
   "id": "9763ac20-4229-44a5-8f91-03de1e73f7fb",
   "metadata": {},
   "outputs": [],
   "source": [
    "proc_path = '/mnt/Backups/gbrench/repos/fusits/nbs/imja/agu_push/AT12'"
   ]
  },
  {
   "cell_type": "code",
   "execution_count": 5,
   "id": "02eb8f55-a5c0-4f29-b9b9-35a55860fd43",
   "metadata": {},
   "outputs": [],
   "source": [
    "def select_pairs(scene_list, min_temp_bline, max_temp_bline):\n",
    "    scene_dates = {}\n",
    "    for scene in scene_list:\n",
    "        date = scene[17:25]\n",
    "        scene_dates[date] = scene\n",
    "\n",
    "    pairs = []\n",
    "    for date1 in scene_dates:\n",
    "        for date2 in scene_dates:\n",
    "            if datetime.strptime(date2, '%Y%m%d')-datetime.strptime(date1, '%Y%m%d') < timedelta(days=max_temp_bline) and not datetime.strptime(date2, '%Y%m%d')-datetime.strptime(date1, '%Y%m%d') < timedelta(days=min_temp_bline) and not date1 >= date2 :\n",
    "                pairs.append([date1, date2])\n",
    "    \n",
    "    print(f'number of pairs: {len(pairs)}')\n",
    "    \n",
    "    return pairs"
   ]
  },
  {
   "cell_type": "code",
   "execution_count": 6,
   "id": "b9041e5d-393e-4ea8-beb9-d652d5087cd8",
   "metadata": {},
   "outputs": [
    {
     "name": "stdout",
     "output_type": "stream",
     "text": [
      "number of pairs: 55\n"
     ]
    }
   ],
   "source": [
    "pairs = select_pairs(scene_list, 80, 360)"
   ]
  },
  {
   "cell_type": "code",
   "execution_count": 7,
   "id": "a46869ba-3cde-48e1-a91a-88ce7fd2b1bb",
   "metadata": {},
   "outputs": [],
   "source": [
    "def run_autoRIFT(pair, skip_x=3, skip_y=18, scale_y_chip=6, min_azm_chip=16, max_azm_chip=64,\n",
    "                 preproc_filter_width=21, mpflag=10, search_limit_x=4, search_limit_y=20):\n",
    "\n",
    "    print(f'opening pair: {pair[0]}-{pair[1]}')\n",
    "\n",
    "    reference_fn = f'{proc_path}/work/merged_cslcs/SLC/{pair[0]}/{pair[0]}.slc.full'\n",
    "    secondary_fn = f'{proc_path}/work/merged_cslcs/SLC/{pair[1]}/{pair[1]}.slc.full'\n",
    "\n",
    "    ds1 = gdal.Open(reference_fn, gdal.GA_ReadOnly)\n",
    "    slc1 = ds1.GetRasterBand(1).ReadAsArray()\n",
    "\n",
    "    ds2 = gdal.Open(secondary_fn, gdal.GA_ReadOnly)\n",
    "    slc2 = ds2.GetRasterBand(1).ReadAsArray()\n",
    "\n",
    "    I1 = np.abs(slc1)\n",
    "    I2 = np.abs(slc2)\n",
    "        \n",
    "    obj = autoRIFT_ISCE()\n",
    "    obj.configure()\n",
    "    obj.MultiThread = mpflag\n",
    "\n",
    "    # rotate to take advantage of chip size scaling\n",
    "    I1 = np.rot90(I1)\n",
    "    I2 = np.rot90(I2)\n",
    "    # scale range chip size to get nearly square chip in cartesian coordinates\n",
    "    obj.ScaleChipSizeY = scale_y_chip\n",
    "\n",
    "    obj.I1 = I1\n",
    "    obj.I2 = I2\n",
    "\n",
    "    obj.SkipSampleX = skip_x\n",
    "    obj.SkipSampleY = skip_y\n",
    "\n",
    "    # Kernel sizes to use for correlation\n",
    "    obj.ChipSizeMinX = min_azm_chip\n",
    "    obj.ChipSizeMaxX = max_azm_chip\n",
    "    obj.ChipSize0X = min_azm_chip\n",
    "    # oversample ratio, balancing precision and performance for different chip sizes\n",
    "    obj.OverSampleRatio = {obj.ChipSize0X:32,obj.ChipSize0X*2:64,obj.ChipSize0X*4:128}\n",
    "\n",
    "    # generate grid\n",
    "    m,n = obj.I1.shape\n",
    "    xGrid = np.arange(obj.SkipSampleX+10,n-obj.SkipSampleX,obj.SkipSampleX)\n",
    "    yGrid = np.arange(obj.SkipSampleY+10,m-obj.SkipSampleY,obj.SkipSampleY)\n",
    "    nd = xGrid.__len__()\n",
    "    md = yGrid.__len__()\n",
    "    obj.xGrid = np.int32(np.dot(np.ones((md,1)),np.reshape(xGrid,(1,xGrid.__len__()))))\n",
    "    obj.yGrid = np.int32(np.dot(np.reshape(yGrid,(yGrid.__len__(),1)),np.ones((1,nd))))\n",
    "    noDataMask = np.invert(np.logical_and(obj.I1[:, xGrid-1][yGrid-1, ] > 0, obj.I2[:, xGrid-1][yGrid-1, ] > 0))\n",
    "\n",
    "    # set search limits\n",
    "    obj.SearchLimitX = np.full_like(obj.xGrid, search_limit_x)\n",
    "    obj.SearchLimitY = np.full_like(obj.xGrid, search_limit_y)\n",
    "\n",
    "    # set search limit and offsets in nodata areas\n",
    "    obj.SearchLimitX = obj.SearchLimitX * np.logical_not(noDataMask)\n",
    "    obj.SearchLimitY = obj.SearchLimitY * np.logical_not(noDataMask)\n",
    "    obj.Dx0 = obj.Dx0 * np.logical_not(noDataMask)\n",
    "    obj.Dy0 = obj.Dy0 * np.logical_not(noDataMask)\n",
    "    obj.Dx0[noDataMask] = 0\n",
    "    obj.Dy0[noDataMask] = 0\n",
    "    obj.NoDataMask = noDataMask\n",
    "\n",
    "    print(\"preprocessing\")\n",
    "    obj.WallisFilterWidth = preproc_filter_width\n",
    "    obj.preprocess_filt_hps()\n",
    "    obj.uniform_data_type()\n",
    "\n",
    "    print(\"starting autoRIFT\")\n",
    "    obj.runAutorift()\n",
    "    print(\"autoRIFT complete\")\n",
    "\n",
    "    # return outputs to original orientation\n",
    "    tmpDx = np.rot90(obj.Dx, axes=(1, 0))\n",
    "    obj.Dx = np.rot90(obj.Dy, axes=(1, 0))\n",
    "    obj.Dy = tmpDx\n",
    "    tmpxGrid = np.rot90(obj.xGrid, axes=(1, 0))\n",
    "    obj.xGrid = np.rot90(obj.yGrid, axes=(1, 0))\n",
    "    obj.yGrid = tmpxGrid\n",
    "    obj.InterpMask = np.rot90(obj.InterpMask, axes=(1, 0))\n",
    "    obj.ChipSizeX = np.rot90(obj.ChipSizeX, axes=(1, 0))\n",
    "    obj.NoDataMask = np.rot90(obj.NoDataMask, axes=(1, 0))\n",
    "\n",
    "    # convert displacement to m\n",
    "    obj.Dx_m = obj.Dx * 2.3\n",
    "    obj.Dy_m = obj.Dy * 12.1\n",
    "        \n",
    "    return obj"
   ]
  },
  {
   "cell_type": "code",
   "execution_count": 8,
   "id": "b98e0302-7baf-42ca-b5f0-e23842ccd04a",
   "metadata": {},
   "outputs": [],
   "source": [
    "os.makedirs(f'{proc_path}/offsets', exist_ok=True)"
   ]
  },
  {
   "cell_type": "code",
   "execution_count": 9,
   "id": "0a4a16be-8d4f-4809-80a4-e5967785f526",
   "metadata": {
    "scrolled": true
   },
   "outputs": [],
   "source": [
    "# for i, pair in enumerate(pairs):\n",
    "#     print(f'working on {i+1}/{len(pairs)}')\n",
    "#     if not os.path.exists(f'{proc_path}/offsets/{pair[0]}-{pair[1]}.nc'):\n",
    "#         obj = run_autoRIFT(pair)\n",
    "#         # mask nodata:\n",
    "#         obj.Dx_m[obj.NoDataMask[0:-1, 1:-1]] = np.nan\n",
    "#         obj.Dy_m[obj.NoDataMask[0:-1, 1:-1]] = np.nan\n",
    "    \n",
    "#         # load to xarray \n",
    "#         ds = xr.Dataset({'Dx_m':(['y', 'x'], obj.Dx_m),\n",
    "#                          'Dy_m':(['y', 'x'], obj.Dy_m),\n",
    "#                          'chip_size_azm':(['y', 'x'], obj.ChipSizeX),\n",
    "#                          'interpMask':(['y', 'x'], obj.InterpMask)},\n",
    "#                         {'range':obj.xGrid[0, :],\n",
    "#                          'azimuth':obj.yGrid[:, 0]})\n",
    "        \n",
    "#         # save tif for mintpy\n",
    "#         ds.Dx_m.rio.to_raster(f'{proc_path}/offsets/dx_m_{pair[0]}-{pair[1]}.tif')\n",
    "#         ds.to_netcdf(f'{proc_path}/offsets/{pair[0]}-{pair[1]}.nc')\n",
    "#     else:\n",
    "#         print('autoRIFT outputs exist, skipping')\n",
    "#     print('--------------------------------')"
   ]
  },
  {
   "cell_type": "code",
   "execution_count": 10,
   "id": "8b385c59-e80b-4335-8925-e7666e80799c",
   "metadata": {
    "scrolled": true
   },
   "outputs": [
    {
     "name": "stdout",
     "output_type": "stream",
     "text": [
      "working on 1/55\n",
      "opening pair: 20191004-20191227\n",
      "preprocessing\n",
      "starting autoRIFT\n"
     ]
    },
    {
     "name": "stderr",
     "output_type": "stream",
     "text": [
      "/mnt/Backups/gbrench/sw/miniconda3/envs/insar/lib/python3.11/site-packages/isce/components/contrib/geo_autoRIFT/autoRIFT/autoRIFT.py:1468: RuntimeWarning: divide by zero encountered in divide\n",
      "  DxMadmin = np.ones(Dx.shape) / OverSampleRatio / SearchLimitX * 2;\n",
      "/mnt/Backups/gbrench/sw/miniconda3/envs/insar/lib/python3.11/site-packages/isce/components/contrib/geo_autoRIFT/autoRIFT/autoRIFT.py:1469: RuntimeWarning: divide by zero encountered in divide\n",
      "  DyMadmin = np.ones(Dy.shape) / OverSampleRatio / SearchLimitY * 2;\n",
      "/mnt/Backups/gbrench/sw/miniconda3/envs/insar/lib/python3.11/site-packages/isce/components/contrib/geo_autoRIFT/autoRIFT/autoRIFT.py:1413: RuntimeWarning: All-NaN slice encountered\n",
      "  D = np.nanmedian(B,axis=0)\n",
      "/mnt/Backups/gbrench/sw/miniconda3/envs/insar/lib/python3.11/site-packages/isce/components/contrib/geo_autoRIFT/autoRIFT/autoRIFT.py:1416: RuntimeWarning: All-NaN slice encountered\n",
      "  C = np.nanmedian(D,axis=0, overwrite_input=True)\n",
      "/mnt/Backups/gbrench/sw/miniconda3/envs/insar/lib/python3.11/site-packages/isce/components/contrib/geo_autoRIFT/autoRIFT/autoRIFT.py:1403: RuntimeWarning: All-NaN slice encountered\n",
      "  C = np.nanmedian(B,axis=0, overwrite_input=True)\n",
      "/mnt/Backups/gbrench/sw/miniconda3/envs/insar/lib/python3.11/site-packages/isce/components/contrib/geo_autoRIFT/autoRIFT/autoRIFT.py:1399: RuntimeWarning: Mean of empty slice\n",
      "  C = np.nanmean(B,axis=0)\n"
     ]
    },
    {
     "name": "stdout",
     "output_type": "stream",
     "text": [
      "autoRIFT complete\n"
     ]
    },
    {
     "name": "stderr",
     "output_type": "stream",
     "text": [
      "/mnt/Backups/gbrench/sw/miniconda3/envs/insar/lib/python3.11/site-packages/rasterio/__init__.py:314: NotGeoreferencedWarning: The given matrix is equal to Affine.identity or its flipped counterpart. GDAL may ignore this matrix and save no geotransform without raising an error. This behavior is somewhat driver-specific.\n",
      "  dataset = writer(\n"
     ]
    },
    {
     "name": "stdout",
     "output_type": "stream",
     "text": [
      "--------------------------------\n",
      "working on 2/55\n",
      "opening pair: 20191004-20200108\n",
      "preprocessing\n",
      "starting autoRIFT\n"
     ]
    },
    {
     "name": "stderr",
     "output_type": "stream",
     "text": [
      "/mnt/Backups/gbrench/sw/miniconda3/envs/insar/lib/python3.11/site-packages/isce/components/contrib/geo_autoRIFT/autoRIFT/autoRIFT.py:1468: RuntimeWarning: divide by zero encountered in divide\n",
      "  DxMadmin = np.ones(Dx.shape) / OverSampleRatio / SearchLimitX * 2;\n",
      "/mnt/Backups/gbrench/sw/miniconda3/envs/insar/lib/python3.11/site-packages/isce/components/contrib/geo_autoRIFT/autoRIFT/autoRIFT.py:1469: RuntimeWarning: divide by zero encountered in divide\n",
      "  DyMadmin = np.ones(Dy.shape) / OverSampleRatio / SearchLimitY * 2;\n",
      "/mnt/Backups/gbrench/sw/miniconda3/envs/insar/lib/python3.11/site-packages/isce/components/contrib/geo_autoRIFT/autoRIFT/autoRIFT.py:1413: RuntimeWarning: All-NaN slice encountered\n",
      "  D = np.nanmedian(B,axis=0)\n",
      "/mnt/Backups/gbrench/sw/miniconda3/envs/insar/lib/python3.11/site-packages/isce/components/contrib/geo_autoRIFT/autoRIFT/autoRIFT.py:1416: RuntimeWarning: All-NaN slice encountered\n",
      "  C = np.nanmedian(D,axis=0, overwrite_input=True)\n",
      "/mnt/Backups/gbrench/sw/miniconda3/envs/insar/lib/python3.11/site-packages/isce/components/contrib/geo_autoRIFT/autoRIFT/autoRIFT.py:1403: RuntimeWarning: All-NaN slice encountered\n",
      "  C = np.nanmedian(B,axis=0, overwrite_input=True)\n",
      "/mnt/Backups/gbrench/sw/miniconda3/envs/insar/lib/python3.11/site-packages/isce/components/contrib/geo_autoRIFT/autoRIFT/autoRIFT.py:1399: RuntimeWarning: Mean of empty slice\n",
      "  C = np.nanmean(B,axis=0)\n"
     ]
    },
    {
     "name": "stdout",
     "output_type": "stream",
     "text": [
      "autoRIFT complete\n"
     ]
    },
    {
     "name": "stderr",
     "output_type": "stream",
     "text": [
      "/mnt/Backups/gbrench/sw/miniconda3/envs/insar/lib/python3.11/site-packages/rasterio/__init__.py:314: NotGeoreferencedWarning: The given matrix is equal to Affine.identity or its flipped counterpart. GDAL may ignore this matrix and save no geotransform without raising an error. This behavior is somewhat driver-specific.\n",
      "  dataset = writer(\n"
     ]
    },
    {
     "name": "stdout",
     "output_type": "stream",
     "text": [
      "--------------------------------\n",
      "working on 3/55\n",
      "opening pair: 20191004-20200120\n",
      "preprocessing\n",
      "starting autoRIFT\n"
     ]
    },
    {
     "name": "stderr",
     "output_type": "stream",
     "text": [
      "/mnt/Backups/gbrench/sw/miniconda3/envs/insar/lib/python3.11/site-packages/isce/components/contrib/geo_autoRIFT/autoRIFT/autoRIFT.py:1468: RuntimeWarning: divide by zero encountered in divide\n",
      "  DxMadmin = np.ones(Dx.shape) / OverSampleRatio / SearchLimitX * 2;\n",
      "/mnt/Backups/gbrench/sw/miniconda3/envs/insar/lib/python3.11/site-packages/isce/components/contrib/geo_autoRIFT/autoRIFT/autoRIFT.py:1469: RuntimeWarning: divide by zero encountered in divide\n",
      "  DyMadmin = np.ones(Dy.shape) / OverSampleRatio / SearchLimitY * 2;\n",
      "/mnt/Backups/gbrench/sw/miniconda3/envs/insar/lib/python3.11/site-packages/isce/components/contrib/geo_autoRIFT/autoRIFT/autoRIFT.py:1413: RuntimeWarning: All-NaN slice encountered\n",
      "  D = np.nanmedian(B,axis=0)\n",
      "/mnt/Backups/gbrench/sw/miniconda3/envs/insar/lib/python3.11/site-packages/isce/components/contrib/geo_autoRIFT/autoRIFT/autoRIFT.py:1416: RuntimeWarning: All-NaN slice encountered\n",
      "  C = np.nanmedian(D,axis=0, overwrite_input=True)\n",
      "/mnt/Backups/gbrench/sw/miniconda3/envs/insar/lib/python3.11/site-packages/isce/components/contrib/geo_autoRIFT/autoRIFT/autoRIFT.py:1403: RuntimeWarning: All-NaN slice encountered\n",
      "  C = np.nanmedian(B,axis=0, overwrite_input=True)\n",
      "/mnt/Backups/gbrench/sw/miniconda3/envs/insar/lib/python3.11/site-packages/isce/components/contrib/geo_autoRIFT/autoRIFT/autoRIFT.py:1399: RuntimeWarning: Mean of empty slice\n",
      "  C = np.nanmean(B,axis=0)\n"
     ]
    },
    {
     "name": "stdout",
     "output_type": "stream",
     "text": [
      "autoRIFT complete\n"
     ]
    },
    {
     "name": "stderr",
     "output_type": "stream",
     "text": [
      "/mnt/Backups/gbrench/sw/miniconda3/envs/insar/lib/python3.11/site-packages/rasterio/__init__.py:314: NotGeoreferencedWarning: The given matrix is equal to Affine.identity or its flipped counterpart. GDAL may ignore this matrix and save no geotransform without raising an error. This behavior is somewhat driver-specific.\n",
      "  dataset = writer(\n"
     ]
    },
    {
     "name": "stdout",
     "output_type": "stream",
     "text": [
      "--------------------------------\n",
      "working on 4/55\n",
      "opening pair: 20191004-20200201\n",
      "preprocessing\n",
      "starting autoRIFT\n"
     ]
    },
    {
     "name": "stderr",
     "output_type": "stream",
     "text": [
      "/mnt/Backups/gbrench/sw/miniconda3/envs/insar/lib/python3.11/site-packages/isce/components/contrib/geo_autoRIFT/autoRIFT/autoRIFT.py:1468: RuntimeWarning: divide by zero encountered in divide\n",
      "  DxMadmin = np.ones(Dx.shape) / OverSampleRatio / SearchLimitX * 2;\n",
      "/mnt/Backups/gbrench/sw/miniconda3/envs/insar/lib/python3.11/site-packages/isce/components/contrib/geo_autoRIFT/autoRIFT/autoRIFT.py:1469: RuntimeWarning: divide by zero encountered in divide\n",
      "  DyMadmin = np.ones(Dy.shape) / OverSampleRatio / SearchLimitY * 2;\n",
      "/mnt/Backups/gbrench/sw/miniconda3/envs/insar/lib/python3.11/site-packages/isce/components/contrib/geo_autoRIFT/autoRIFT/autoRIFT.py:1413: RuntimeWarning: All-NaN slice encountered\n",
      "  D = np.nanmedian(B,axis=0)\n",
      "/mnt/Backups/gbrench/sw/miniconda3/envs/insar/lib/python3.11/site-packages/isce/components/contrib/geo_autoRIFT/autoRIFT/autoRIFT.py:1416: RuntimeWarning: All-NaN slice encountered\n",
      "  C = np.nanmedian(D,axis=0, overwrite_input=True)\n",
      "/mnt/Backups/gbrench/sw/miniconda3/envs/insar/lib/python3.11/site-packages/isce/components/contrib/geo_autoRIFT/autoRIFT/autoRIFT.py:1403: RuntimeWarning: All-NaN slice encountered\n",
      "  C = np.nanmedian(B,axis=0, overwrite_input=True)\n",
      "/mnt/Backups/gbrench/sw/miniconda3/envs/insar/lib/python3.11/site-packages/isce/components/contrib/geo_autoRIFT/autoRIFT/autoRIFT.py:1399: RuntimeWarning: Mean of empty slice\n",
      "  C = np.nanmean(B,axis=0)\n"
     ]
    },
    {
     "name": "stdout",
     "output_type": "stream",
     "text": [
      "autoRIFT complete\n"
     ]
    },
    {
     "name": "stderr",
     "output_type": "stream",
     "text": [
      "/mnt/Backups/gbrench/sw/miniconda3/envs/insar/lib/python3.11/site-packages/rasterio/__init__.py:314: NotGeoreferencedWarning: The given matrix is equal to Affine.identity or its flipped counterpart. GDAL may ignore this matrix and save no geotransform without raising an error. This behavior is somewhat driver-specific.\n",
      "  dataset = writer(\n"
     ]
    },
    {
     "name": "stdout",
     "output_type": "stream",
     "text": [
      "--------------------------------\n",
      "working on 5/55\n",
      "opening pair: 20191004-20200213\n",
      "preprocessing\n",
      "starting autoRIFT\n"
     ]
    },
    {
     "name": "stderr",
     "output_type": "stream",
     "text": [
      "/mnt/Backups/gbrench/sw/miniconda3/envs/insar/lib/python3.11/site-packages/isce/components/contrib/geo_autoRIFT/autoRIFT/autoRIFT.py:1468: RuntimeWarning: divide by zero encountered in divide\n",
      "  DxMadmin = np.ones(Dx.shape) / OverSampleRatio / SearchLimitX * 2;\n",
      "/mnt/Backups/gbrench/sw/miniconda3/envs/insar/lib/python3.11/site-packages/isce/components/contrib/geo_autoRIFT/autoRIFT/autoRIFT.py:1469: RuntimeWarning: divide by zero encountered in divide\n",
      "  DyMadmin = np.ones(Dy.shape) / OverSampleRatio / SearchLimitY * 2;\n",
      "/mnt/Backups/gbrench/sw/miniconda3/envs/insar/lib/python3.11/site-packages/isce/components/contrib/geo_autoRIFT/autoRIFT/autoRIFT.py:1413: RuntimeWarning: All-NaN slice encountered\n",
      "  D = np.nanmedian(B,axis=0)\n",
      "/mnt/Backups/gbrench/sw/miniconda3/envs/insar/lib/python3.11/site-packages/isce/components/contrib/geo_autoRIFT/autoRIFT/autoRIFT.py:1416: RuntimeWarning: All-NaN slice encountered\n",
      "  C = np.nanmedian(D,axis=0, overwrite_input=True)\n",
      "/mnt/Backups/gbrench/sw/miniconda3/envs/insar/lib/python3.11/site-packages/isce/components/contrib/geo_autoRIFT/autoRIFT/autoRIFT.py:1403: RuntimeWarning: All-NaN slice encountered\n",
      "  C = np.nanmedian(B,axis=0, overwrite_input=True)\n",
      "/mnt/Backups/gbrench/sw/miniconda3/envs/insar/lib/python3.11/site-packages/isce/components/contrib/geo_autoRIFT/autoRIFT/autoRIFT.py:1399: RuntimeWarning: Mean of empty slice\n",
      "  C = np.nanmean(B,axis=0)\n"
     ]
    },
    {
     "name": "stdout",
     "output_type": "stream",
     "text": [
      "autoRIFT complete\n"
     ]
    },
    {
     "name": "stderr",
     "output_type": "stream",
     "text": [
      "/mnt/Backups/gbrench/sw/miniconda3/envs/insar/lib/python3.11/site-packages/rasterio/__init__.py:314: NotGeoreferencedWarning: The given matrix is equal to Affine.identity or its flipped counterpart. GDAL may ignore this matrix and save no geotransform without raising an error. This behavior is somewhat driver-specific.\n",
      "  dataset = writer(\n"
     ]
    },
    {
     "name": "stdout",
     "output_type": "stream",
     "text": [
      "--------------------------------\n",
      "working on 6/55\n",
      "opening pair: 20191004-20200225\n",
      "preprocessing\n",
      "starting autoRIFT\n"
     ]
    },
    {
     "name": "stderr",
     "output_type": "stream",
     "text": [
      "/mnt/Backups/gbrench/sw/miniconda3/envs/insar/lib/python3.11/site-packages/isce/components/contrib/geo_autoRIFT/autoRIFT/autoRIFT.py:1468: RuntimeWarning: divide by zero encountered in divide\n",
      "  DxMadmin = np.ones(Dx.shape) / OverSampleRatio / SearchLimitX * 2;\n",
      "/mnt/Backups/gbrench/sw/miniconda3/envs/insar/lib/python3.11/site-packages/isce/components/contrib/geo_autoRIFT/autoRIFT/autoRIFT.py:1469: RuntimeWarning: divide by zero encountered in divide\n",
      "  DyMadmin = np.ones(Dy.shape) / OverSampleRatio / SearchLimitY * 2;\n",
      "/mnt/Backups/gbrench/sw/miniconda3/envs/insar/lib/python3.11/site-packages/isce/components/contrib/geo_autoRIFT/autoRIFT/autoRIFT.py:1413: RuntimeWarning: All-NaN slice encountered\n",
      "  D = np.nanmedian(B,axis=0)\n",
      "/mnt/Backups/gbrench/sw/miniconda3/envs/insar/lib/python3.11/site-packages/isce/components/contrib/geo_autoRIFT/autoRIFT/autoRIFT.py:1416: RuntimeWarning: All-NaN slice encountered\n",
      "  C = np.nanmedian(D,axis=0, overwrite_input=True)\n",
      "/mnt/Backups/gbrench/sw/miniconda3/envs/insar/lib/python3.11/site-packages/isce/components/contrib/geo_autoRIFT/autoRIFT/autoRIFT.py:1403: RuntimeWarning: All-NaN slice encountered\n",
      "  C = np.nanmedian(B,axis=0, overwrite_input=True)\n",
      "/mnt/Backups/gbrench/sw/miniconda3/envs/insar/lib/python3.11/site-packages/isce/components/contrib/geo_autoRIFT/autoRIFT/autoRIFT.py:1399: RuntimeWarning: Mean of empty slice\n",
      "  C = np.nanmean(B,axis=0)\n"
     ]
    },
    {
     "name": "stdout",
     "output_type": "stream",
     "text": [
      "autoRIFT complete\n"
     ]
    },
    {
     "name": "stderr",
     "output_type": "stream",
     "text": [
      "/mnt/Backups/gbrench/sw/miniconda3/envs/insar/lib/python3.11/site-packages/rasterio/__init__.py:314: NotGeoreferencedWarning: The given matrix is equal to Affine.identity or its flipped counterpart. GDAL may ignore this matrix and save no geotransform without raising an error. This behavior is somewhat driver-specific.\n",
      "  dataset = writer(\n"
     ]
    },
    {
     "name": "stdout",
     "output_type": "stream",
     "text": [
      "--------------------------------\n",
      "working on 7/55\n",
      "opening pair: 20191004-20200308\n",
      "preprocessing\n",
      "starting autoRIFT\n"
     ]
    },
    {
     "name": "stderr",
     "output_type": "stream",
     "text": [
      "/mnt/Backups/gbrench/sw/miniconda3/envs/insar/lib/python3.11/site-packages/isce/components/contrib/geo_autoRIFT/autoRIFT/autoRIFT.py:1468: RuntimeWarning: divide by zero encountered in divide\n",
      "  DxMadmin = np.ones(Dx.shape) / OverSampleRatio / SearchLimitX * 2;\n",
      "/mnt/Backups/gbrench/sw/miniconda3/envs/insar/lib/python3.11/site-packages/isce/components/contrib/geo_autoRIFT/autoRIFT/autoRIFT.py:1469: RuntimeWarning: divide by zero encountered in divide\n",
      "  DyMadmin = np.ones(Dy.shape) / OverSampleRatio / SearchLimitY * 2;\n",
      "/mnt/Backups/gbrench/sw/miniconda3/envs/insar/lib/python3.11/site-packages/isce/components/contrib/geo_autoRIFT/autoRIFT/autoRIFT.py:1413: RuntimeWarning: All-NaN slice encountered\n",
      "  D = np.nanmedian(B,axis=0)\n",
      "/mnt/Backups/gbrench/sw/miniconda3/envs/insar/lib/python3.11/site-packages/isce/components/contrib/geo_autoRIFT/autoRIFT/autoRIFT.py:1416: RuntimeWarning: All-NaN slice encountered\n",
      "  C = np.nanmedian(D,axis=0, overwrite_input=True)\n",
      "/mnt/Backups/gbrench/sw/miniconda3/envs/insar/lib/python3.11/site-packages/isce/components/contrib/geo_autoRIFT/autoRIFT/autoRIFT.py:1403: RuntimeWarning: All-NaN slice encountered\n",
      "  C = np.nanmedian(B,axis=0, overwrite_input=True)\n",
      "/mnt/Backups/gbrench/sw/miniconda3/envs/insar/lib/python3.11/site-packages/isce/components/contrib/geo_autoRIFT/autoRIFT/autoRIFT.py:1399: RuntimeWarning: Mean of empty slice\n",
      "  C = np.nanmean(B,axis=0)\n"
     ]
    },
    {
     "name": "stdout",
     "output_type": "stream",
     "text": [
      "autoRIFT complete\n"
     ]
    },
    {
     "name": "stderr",
     "output_type": "stream",
     "text": [
      "/mnt/Backups/gbrench/sw/miniconda3/envs/insar/lib/python3.11/site-packages/rasterio/__init__.py:314: NotGeoreferencedWarning: The given matrix is equal to Affine.identity or its flipped counterpart. GDAL may ignore this matrix and save no geotransform without raising an error. This behavior is somewhat driver-specific.\n",
      "  dataset = writer(\n"
     ]
    },
    {
     "name": "stdout",
     "output_type": "stream",
     "text": [
      "--------------------------------\n",
      "working on 8/55\n",
      "opening pair: 20191004-20200320\n",
      "preprocessing\n",
      "starting autoRIFT\n"
     ]
    },
    {
     "name": "stderr",
     "output_type": "stream",
     "text": [
      "/mnt/Backups/gbrench/sw/miniconda3/envs/insar/lib/python3.11/site-packages/isce/components/contrib/geo_autoRIFT/autoRIFT/autoRIFT.py:1468: RuntimeWarning: divide by zero encountered in divide\n",
      "  DxMadmin = np.ones(Dx.shape) / OverSampleRatio / SearchLimitX * 2;\n",
      "/mnt/Backups/gbrench/sw/miniconda3/envs/insar/lib/python3.11/site-packages/isce/components/contrib/geo_autoRIFT/autoRIFT/autoRIFT.py:1469: RuntimeWarning: divide by zero encountered in divide\n",
      "  DyMadmin = np.ones(Dy.shape) / OverSampleRatio / SearchLimitY * 2;\n",
      "/mnt/Backups/gbrench/sw/miniconda3/envs/insar/lib/python3.11/site-packages/isce/components/contrib/geo_autoRIFT/autoRIFT/autoRIFT.py:1413: RuntimeWarning: All-NaN slice encountered\n",
      "  D = np.nanmedian(B,axis=0)\n",
      "/mnt/Backups/gbrench/sw/miniconda3/envs/insar/lib/python3.11/site-packages/isce/components/contrib/geo_autoRIFT/autoRIFT/autoRIFT.py:1416: RuntimeWarning: All-NaN slice encountered\n",
      "  C = np.nanmedian(D,axis=0, overwrite_input=True)\n",
      "/mnt/Backups/gbrench/sw/miniconda3/envs/insar/lib/python3.11/site-packages/isce/components/contrib/geo_autoRIFT/autoRIFT/autoRIFT.py:1403: RuntimeWarning: All-NaN slice encountered\n",
      "  C = np.nanmedian(B,axis=0, overwrite_input=True)\n",
      "/mnt/Backups/gbrench/sw/miniconda3/envs/insar/lib/python3.11/site-packages/isce/components/contrib/geo_autoRIFT/autoRIFT/autoRIFT.py:1399: RuntimeWarning: Mean of empty slice\n",
      "  C = np.nanmean(B,axis=0)\n"
     ]
    },
    {
     "name": "stdout",
     "output_type": "stream",
     "text": [
      "autoRIFT complete\n"
     ]
    },
    {
     "name": "stderr",
     "output_type": "stream",
     "text": [
      "/mnt/Backups/gbrench/sw/miniconda3/envs/insar/lib/python3.11/site-packages/rasterio/__init__.py:314: NotGeoreferencedWarning: The given matrix is equal to Affine.identity or its flipped counterpart. GDAL may ignore this matrix and save no geotransform without raising an error. This behavior is somewhat driver-specific.\n",
      "  dataset = writer(\n"
     ]
    },
    {
     "name": "stdout",
     "output_type": "stream",
     "text": [
      "--------------------------------\n",
      "working on 9/55\n",
      "opening pair: 20191004-20200401\n",
      "preprocessing\n",
      "starting autoRIFT\n"
     ]
    },
    {
     "name": "stderr",
     "output_type": "stream",
     "text": [
      "/mnt/Backups/gbrench/sw/miniconda3/envs/insar/lib/python3.11/site-packages/isce/components/contrib/geo_autoRIFT/autoRIFT/autoRIFT.py:1468: RuntimeWarning: divide by zero encountered in divide\n",
      "  DxMadmin = np.ones(Dx.shape) / OverSampleRatio / SearchLimitX * 2;\n",
      "/mnt/Backups/gbrench/sw/miniconda3/envs/insar/lib/python3.11/site-packages/isce/components/contrib/geo_autoRIFT/autoRIFT/autoRIFT.py:1469: RuntimeWarning: divide by zero encountered in divide\n",
      "  DyMadmin = np.ones(Dy.shape) / OverSampleRatio / SearchLimitY * 2;\n",
      "/mnt/Backups/gbrench/sw/miniconda3/envs/insar/lib/python3.11/site-packages/isce/components/contrib/geo_autoRIFT/autoRIFT/autoRIFT.py:1413: RuntimeWarning: All-NaN slice encountered\n",
      "  D = np.nanmedian(B,axis=0)\n",
      "/mnt/Backups/gbrench/sw/miniconda3/envs/insar/lib/python3.11/site-packages/isce/components/contrib/geo_autoRIFT/autoRIFT/autoRIFT.py:1416: RuntimeWarning: All-NaN slice encountered\n",
      "  C = np.nanmedian(D,axis=0, overwrite_input=True)\n",
      "/mnt/Backups/gbrench/sw/miniconda3/envs/insar/lib/python3.11/site-packages/isce/components/contrib/geo_autoRIFT/autoRIFT/autoRIFT.py:1403: RuntimeWarning: All-NaN slice encountered\n",
      "  C = np.nanmedian(B,axis=0, overwrite_input=True)\n",
      "/mnt/Backups/gbrench/sw/miniconda3/envs/insar/lib/python3.11/site-packages/isce/components/contrib/geo_autoRIFT/autoRIFT/autoRIFT.py:1399: RuntimeWarning: Mean of empty slice\n",
      "  C = np.nanmean(B,axis=0)\n"
     ]
    },
    {
     "name": "stdout",
     "output_type": "stream",
     "text": [
      "autoRIFT complete\n"
     ]
    },
    {
     "name": "stderr",
     "output_type": "stream",
     "text": [
      "/mnt/Backups/gbrench/sw/miniconda3/envs/insar/lib/python3.11/site-packages/rasterio/__init__.py:314: NotGeoreferencedWarning: The given matrix is equal to Affine.identity or its flipped counterpart. GDAL may ignore this matrix and save no geotransform without raising an error. This behavior is somewhat driver-specific.\n",
      "  dataset = writer(\n"
     ]
    },
    {
     "name": "stdout",
     "output_type": "stream",
     "text": [
      "--------------------------------\n",
      "working on 10/55\n",
      "opening pair: 20191004-20200413\n",
      "preprocessing\n",
      "starting autoRIFT\n"
     ]
    },
    {
     "name": "stderr",
     "output_type": "stream",
     "text": [
      "/mnt/Backups/gbrench/sw/miniconda3/envs/insar/lib/python3.11/site-packages/isce/components/contrib/geo_autoRIFT/autoRIFT/autoRIFT.py:1468: RuntimeWarning: divide by zero encountered in divide\n",
      "  DxMadmin = np.ones(Dx.shape) / OverSampleRatio / SearchLimitX * 2;\n",
      "/mnt/Backups/gbrench/sw/miniconda3/envs/insar/lib/python3.11/site-packages/isce/components/contrib/geo_autoRIFT/autoRIFT/autoRIFT.py:1469: RuntimeWarning: divide by zero encountered in divide\n",
      "  DyMadmin = np.ones(Dy.shape) / OverSampleRatio / SearchLimitY * 2;\n",
      "/mnt/Backups/gbrench/sw/miniconda3/envs/insar/lib/python3.11/site-packages/isce/components/contrib/geo_autoRIFT/autoRIFT/autoRIFT.py:1413: RuntimeWarning: All-NaN slice encountered\n",
      "  D = np.nanmedian(B,axis=0)\n",
      "/mnt/Backups/gbrench/sw/miniconda3/envs/insar/lib/python3.11/site-packages/isce/components/contrib/geo_autoRIFT/autoRIFT/autoRIFT.py:1416: RuntimeWarning: All-NaN slice encountered\n",
      "  C = np.nanmedian(D,axis=0, overwrite_input=True)\n",
      "/mnt/Backups/gbrench/sw/miniconda3/envs/insar/lib/python3.11/site-packages/isce/components/contrib/geo_autoRIFT/autoRIFT/autoRIFT.py:1403: RuntimeWarning: All-NaN slice encountered\n",
      "  C = np.nanmedian(B,axis=0, overwrite_input=True)\n",
      "/mnt/Backups/gbrench/sw/miniconda3/envs/insar/lib/python3.11/site-packages/isce/components/contrib/geo_autoRIFT/autoRIFT/autoRIFT.py:1399: RuntimeWarning: Mean of empty slice\n",
      "  C = np.nanmean(B,axis=0)\n"
     ]
    },
    {
     "name": "stdout",
     "output_type": "stream",
     "text": [
      "autoRIFT complete\n"
     ]
    },
    {
     "name": "stderr",
     "output_type": "stream",
     "text": [
      "/mnt/Backups/gbrench/sw/miniconda3/envs/insar/lib/python3.11/site-packages/rasterio/__init__.py:314: NotGeoreferencedWarning: The given matrix is equal to Affine.identity or its flipped counterpart. GDAL may ignore this matrix and save no geotransform without raising an error. This behavior is somewhat driver-specific.\n",
      "  dataset = writer(\n"
     ]
    },
    {
     "name": "stdout",
     "output_type": "stream",
     "text": [
      "--------------------------------\n",
      "working on 11/55\n",
      "opening pair: 20191016-20200108\n",
      "preprocessing\n",
      "starting autoRIFT\n"
     ]
    },
    {
     "name": "stderr",
     "output_type": "stream",
     "text": [
      "/mnt/Backups/gbrench/sw/miniconda3/envs/insar/lib/python3.11/site-packages/isce/components/contrib/geo_autoRIFT/autoRIFT/autoRIFT.py:1468: RuntimeWarning: divide by zero encountered in divide\n",
      "  DxMadmin = np.ones(Dx.shape) / OverSampleRatio / SearchLimitX * 2;\n",
      "/mnt/Backups/gbrench/sw/miniconda3/envs/insar/lib/python3.11/site-packages/isce/components/contrib/geo_autoRIFT/autoRIFT/autoRIFT.py:1469: RuntimeWarning: divide by zero encountered in divide\n",
      "  DyMadmin = np.ones(Dy.shape) / OverSampleRatio / SearchLimitY * 2;\n",
      "/mnt/Backups/gbrench/sw/miniconda3/envs/insar/lib/python3.11/site-packages/isce/components/contrib/geo_autoRIFT/autoRIFT/autoRIFT.py:1413: RuntimeWarning: All-NaN slice encountered\n",
      "  D = np.nanmedian(B,axis=0)\n",
      "/mnt/Backups/gbrench/sw/miniconda3/envs/insar/lib/python3.11/site-packages/isce/components/contrib/geo_autoRIFT/autoRIFT/autoRIFT.py:1416: RuntimeWarning: All-NaN slice encountered\n",
      "  C = np.nanmedian(D,axis=0, overwrite_input=True)\n",
      "/mnt/Backups/gbrench/sw/miniconda3/envs/insar/lib/python3.11/site-packages/isce/components/contrib/geo_autoRIFT/autoRIFT/autoRIFT.py:1403: RuntimeWarning: All-NaN slice encountered\n",
      "  C = np.nanmedian(B,axis=0, overwrite_input=True)\n",
      "/mnt/Backups/gbrench/sw/miniconda3/envs/insar/lib/python3.11/site-packages/isce/components/contrib/geo_autoRIFT/autoRIFT/autoRIFT.py:1399: RuntimeWarning: Mean of empty slice\n",
      "  C = np.nanmean(B,axis=0)\n"
     ]
    },
    {
     "name": "stdout",
     "output_type": "stream",
     "text": [
      "autoRIFT complete\n"
     ]
    },
    {
     "name": "stderr",
     "output_type": "stream",
     "text": [
      "/mnt/Backups/gbrench/sw/miniconda3/envs/insar/lib/python3.11/site-packages/rasterio/__init__.py:314: NotGeoreferencedWarning: The given matrix is equal to Affine.identity or its flipped counterpart. GDAL may ignore this matrix and save no geotransform without raising an error. This behavior is somewhat driver-specific.\n",
      "  dataset = writer(\n"
     ]
    },
    {
     "name": "stdout",
     "output_type": "stream",
     "text": [
      "--------------------------------\n",
      "working on 12/55\n",
      "opening pair: 20191016-20200120\n",
      "preprocessing\n",
      "starting autoRIFT\n"
     ]
    },
    {
     "name": "stderr",
     "output_type": "stream",
     "text": [
      "/mnt/Backups/gbrench/sw/miniconda3/envs/insar/lib/python3.11/site-packages/isce/components/contrib/geo_autoRIFT/autoRIFT/autoRIFT.py:1468: RuntimeWarning: divide by zero encountered in divide\n",
      "  DxMadmin = np.ones(Dx.shape) / OverSampleRatio / SearchLimitX * 2;\n",
      "/mnt/Backups/gbrench/sw/miniconda3/envs/insar/lib/python3.11/site-packages/isce/components/contrib/geo_autoRIFT/autoRIFT/autoRIFT.py:1469: RuntimeWarning: divide by zero encountered in divide\n",
      "  DyMadmin = np.ones(Dy.shape) / OverSampleRatio / SearchLimitY * 2;\n",
      "/mnt/Backups/gbrench/sw/miniconda3/envs/insar/lib/python3.11/site-packages/isce/components/contrib/geo_autoRIFT/autoRIFT/autoRIFT.py:1413: RuntimeWarning: All-NaN slice encountered\n",
      "  D = np.nanmedian(B,axis=0)\n",
      "/mnt/Backups/gbrench/sw/miniconda3/envs/insar/lib/python3.11/site-packages/isce/components/contrib/geo_autoRIFT/autoRIFT/autoRIFT.py:1416: RuntimeWarning: All-NaN slice encountered\n",
      "  C = np.nanmedian(D,axis=0, overwrite_input=True)\n",
      "/mnt/Backups/gbrench/sw/miniconda3/envs/insar/lib/python3.11/site-packages/isce/components/contrib/geo_autoRIFT/autoRIFT/autoRIFT.py:1403: RuntimeWarning: All-NaN slice encountered\n",
      "  C = np.nanmedian(B,axis=0, overwrite_input=True)\n",
      "/mnt/Backups/gbrench/sw/miniconda3/envs/insar/lib/python3.11/site-packages/isce/components/contrib/geo_autoRIFT/autoRIFT/autoRIFT.py:1399: RuntimeWarning: Mean of empty slice\n",
      "  C = np.nanmean(B,axis=0)\n"
     ]
    },
    {
     "name": "stdout",
     "output_type": "stream",
     "text": [
      "autoRIFT complete\n"
     ]
    },
    {
     "name": "stderr",
     "output_type": "stream",
     "text": [
      "/mnt/Backups/gbrench/sw/miniconda3/envs/insar/lib/python3.11/site-packages/rasterio/__init__.py:314: NotGeoreferencedWarning: The given matrix is equal to Affine.identity or its flipped counterpart. GDAL may ignore this matrix and save no geotransform without raising an error. This behavior is somewhat driver-specific.\n",
      "  dataset = writer(\n"
     ]
    },
    {
     "name": "stdout",
     "output_type": "stream",
     "text": [
      "--------------------------------\n",
      "working on 13/55\n",
      "opening pair: 20191016-20200201\n",
      "preprocessing\n",
      "starting autoRIFT\n"
     ]
    },
    {
     "name": "stderr",
     "output_type": "stream",
     "text": [
      "/mnt/Backups/gbrench/sw/miniconda3/envs/insar/lib/python3.11/site-packages/isce/components/contrib/geo_autoRIFT/autoRIFT/autoRIFT.py:1468: RuntimeWarning: divide by zero encountered in divide\n",
      "  DxMadmin = np.ones(Dx.shape) / OverSampleRatio / SearchLimitX * 2;\n",
      "/mnt/Backups/gbrench/sw/miniconda3/envs/insar/lib/python3.11/site-packages/isce/components/contrib/geo_autoRIFT/autoRIFT/autoRIFT.py:1469: RuntimeWarning: divide by zero encountered in divide\n",
      "  DyMadmin = np.ones(Dy.shape) / OverSampleRatio / SearchLimitY * 2;\n",
      "/mnt/Backups/gbrench/sw/miniconda3/envs/insar/lib/python3.11/site-packages/isce/components/contrib/geo_autoRIFT/autoRIFT/autoRIFT.py:1413: RuntimeWarning: All-NaN slice encountered\n",
      "  D = np.nanmedian(B,axis=0)\n",
      "/mnt/Backups/gbrench/sw/miniconda3/envs/insar/lib/python3.11/site-packages/isce/components/contrib/geo_autoRIFT/autoRIFT/autoRIFT.py:1416: RuntimeWarning: All-NaN slice encountered\n",
      "  C = np.nanmedian(D,axis=0, overwrite_input=True)\n",
      "/mnt/Backups/gbrench/sw/miniconda3/envs/insar/lib/python3.11/site-packages/isce/components/contrib/geo_autoRIFT/autoRIFT/autoRIFT.py:1403: RuntimeWarning: All-NaN slice encountered\n",
      "  C = np.nanmedian(B,axis=0, overwrite_input=True)\n",
      "/mnt/Backups/gbrench/sw/miniconda3/envs/insar/lib/python3.11/site-packages/isce/components/contrib/geo_autoRIFT/autoRIFT/autoRIFT.py:1399: RuntimeWarning: Mean of empty slice\n",
      "  C = np.nanmean(B,axis=0)\n"
     ]
    },
    {
     "name": "stdout",
     "output_type": "stream",
     "text": [
      "autoRIFT complete\n"
     ]
    },
    {
     "name": "stderr",
     "output_type": "stream",
     "text": [
      "/mnt/Backups/gbrench/sw/miniconda3/envs/insar/lib/python3.11/site-packages/rasterio/__init__.py:314: NotGeoreferencedWarning: The given matrix is equal to Affine.identity or its flipped counterpart. GDAL may ignore this matrix and save no geotransform without raising an error. This behavior is somewhat driver-specific.\n",
      "  dataset = writer(\n"
     ]
    },
    {
     "name": "stdout",
     "output_type": "stream",
     "text": [
      "--------------------------------\n",
      "working on 14/55\n",
      "opening pair: 20191016-20200213\n",
      "preprocessing\n",
      "starting autoRIFT\n"
     ]
    },
    {
     "name": "stderr",
     "output_type": "stream",
     "text": [
      "/mnt/Backups/gbrench/sw/miniconda3/envs/insar/lib/python3.11/site-packages/isce/components/contrib/geo_autoRIFT/autoRIFT/autoRIFT.py:1468: RuntimeWarning: divide by zero encountered in divide\n",
      "  DxMadmin = np.ones(Dx.shape) / OverSampleRatio / SearchLimitX * 2;\n",
      "/mnt/Backups/gbrench/sw/miniconda3/envs/insar/lib/python3.11/site-packages/isce/components/contrib/geo_autoRIFT/autoRIFT/autoRIFT.py:1469: RuntimeWarning: divide by zero encountered in divide\n",
      "  DyMadmin = np.ones(Dy.shape) / OverSampleRatio / SearchLimitY * 2;\n",
      "/mnt/Backups/gbrench/sw/miniconda3/envs/insar/lib/python3.11/site-packages/isce/components/contrib/geo_autoRIFT/autoRIFT/autoRIFT.py:1413: RuntimeWarning: All-NaN slice encountered\n",
      "  D = np.nanmedian(B,axis=0)\n",
      "/mnt/Backups/gbrench/sw/miniconda3/envs/insar/lib/python3.11/site-packages/isce/components/contrib/geo_autoRIFT/autoRIFT/autoRIFT.py:1416: RuntimeWarning: All-NaN slice encountered\n",
      "  C = np.nanmedian(D,axis=0, overwrite_input=True)\n",
      "/mnt/Backups/gbrench/sw/miniconda3/envs/insar/lib/python3.11/site-packages/isce/components/contrib/geo_autoRIFT/autoRIFT/autoRIFT.py:1403: RuntimeWarning: All-NaN slice encountered\n",
      "  C = np.nanmedian(B,axis=0, overwrite_input=True)\n",
      "/mnt/Backups/gbrench/sw/miniconda3/envs/insar/lib/python3.11/site-packages/isce/components/contrib/geo_autoRIFT/autoRIFT/autoRIFT.py:1399: RuntimeWarning: Mean of empty slice\n",
      "  C = np.nanmean(B,axis=0)\n"
     ]
    },
    {
     "name": "stdout",
     "output_type": "stream",
     "text": [
      "autoRIFT complete\n"
     ]
    },
    {
     "name": "stderr",
     "output_type": "stream",
     "text": [
      "/mnt/Backups/gbrench/sw/miniconda3/envs/insar/lib/python3.11/site-packages/rasterio/__init__.py:314: NotGeoreferencedWarning: The given matrix is equal to Affine.identity or its flipped counterpart. GDAL may ignore this matrix and save no geotransform without raising an error. This behavior is somewhat driver-specific.\n",
      "  dataset = writer(\n"
     ]
    },
    {
     "name": "stdout",
     "output_type": "stream",
     "text": [
      "--------------------------------\n",
      "working on 15/55\n",
      "opening pair: 20191016-20200225\n",
      "preprocessing\n",
      "starting autoRIFT\n"
     ]
    },
    {
     "name": "stderr",
     "output_type": "stream",
     "text": [
      "/mnt/Backups/gbrench/sw/miniconda3/envs/insar/lib/python3.11/site-packages/isce/components/contrib/geo_autoRIFT/autoRIFT/autoRIFT.py:1468: RuntimeWarning: divide by zero encountered in divide\n",
      "  DxMadmin = np.ones(Dx.shape) / OverSampleRatio / SearchLimitX * 2;\n",
      "/mnt/Backups/gbrench/sw/miniconda3/envs/insar/lib/python3.11/site-packages/isce/components/contrib/geo_autoRIFT/autoRIFT/autoRIFT.py:1469: RuntimeWarning: divide by zero encountered in divide\n",
      "  DyMadmin = np.ones(Dy.shape) / OverSampleRatio / SearchLimitY * 2;\n",
      "/mnt/Backups/gbrench/sw/miniconda3/envs/insar/lib/python3.11/site-packages/isce/components/contrib/geo_autoRIFT/autoRIFT/autoRIFT.py:1413: RuntimeWarning: All-NaN slice encountered\n",
      "  D = np.nanmedian(B,axis=0)\n",
      "/mnt/Backups/gbrench/sw/miniconda3/envs/insar/lib/python3.11/site-packages/isce/components/contrib/geo_autoRIFT/autoRIFT/autoRIFT.py:1416: RuntimeWarning: All-NaN slice encountered\n",
      "  C = np.nanmedian(D,axis=0, overwrite_input=True)\n",
      "/mnt/Backups/gbrench/sw/miniconda3/envs/insar/lib/python3.11/site-packages/isce/components/contrib/geo_autoRIFT/autoRIFT/autoRIFT.py:1403: RuntimeWarning: All-NaN slice encountered\n",
      "  C = np.nanmedian(B,axis=0, overwrite_input=True)\n",
      "/mnt/Backups/gbrench/sw/miniconda3/envs/insar/lib/python3.11/site-packages/isce/components/contrib/geo_autoRIFT/autoRIFT/autoRIFT.py:1399: RuntimeWarning: Mean of empty slice\n",
      "  C = np.nanmean(B,axis=0)\n"
     ]
    },
    {
     "name": "stdout",
     "output_type": "stream",
     "text": [
      "autoRIFT complete\n"
     ]
    },
    {
     "name": "stderr",
     "output_type": "stream",
     "text": [
      "/mnt/Backups/gbrench/sw/miniconda3/envs/insar/lib/python3.11/site-packages/rasterio/__init__.py:314: NotGeoreferencedWarning: The given matrix is equal to Affine.identity or its flipped counterpart. GDAL may ignore this matrix and save no geotransform without raising an error. This behavior is somewhat driver-specific.\n",
      "  dataset = writer(\n"
     ]
    },
    {
     "name": "stdout",
     "output_type": "stream",
     "text": [
      "--------------------------------\n",
      "working on 16/55\n",
      "opening pair: 20191016-20200308\n",
      "preprocessing\n",
      "starting autoRIFT\n"
     ]
    },
    {
     "name": "stderr",
     "output_type": "stream",
     "text": [
      "/mnt/Backups/gbrench/sw/miniconda3/envs/insar/lib/python3.11/site-packages/isce/components/contrib/geo_autoRIFT/autoRIFT/autoRIFT.py:1468: RuntimeWarning: divide by zero encountered in divide\n",
      "  DxMadmin = np.ones(Dx.shape) / OverSampleRatio / SearchLimitX * 2;\n",
      "/mnt/Backups/gbrench/sw/miniconda3/envs/insar/lib/python3.11/site-packages/isce/components/contrib/geo_autoRIFT/autoRIFT/autoRIFT.py:1469: RuntimeWarning: divide by zero encountered in divide\n",
      "  DyMadmin = np.ones(Dy.shape) / OverSampleRatio / SearchLimitY * 2;\n",
      "/mnt/Backups/gbrench/sw/miniconda3/envs/insar/lib/python3.11/site-packages/isce/components/contrib/geo_autoRIFT/autoRIFT/autoRIFT.py:1413: RuntimeWarning: All-NaN slice encountered\n",
      "  D = np.nanmedian(B,axis=0)\n",
      "/mnt/Backups/gbrench/sw/miniconda3/envs/insar/lib/python3.11/site-packages/isce/components/contrib/geo_autoRIFT/autoRIFT/autoRIFT.py:1416: RuntimeWarning: All-NaN slice encountered\n",
      "  C = np.nanmedian(D,axis=0, overwrite_input=True)\n",
      "/mnt/Backups/gbrench/sw/miniconda3/envs/insar/lib/python3.11/site-packages/isce/components/contrib/geo_autoRIFT/autoRIFT/autoRIFT.py:1403: RuntimeWarning: All-NaN slice encountered\n",
      "  C = np.nanmedian(B,axis=0, overwrite_input=True)\n",
      "/mnt/Backups/gbrench/sw/miniconda3/envs/insar/lib/python3.11/site-packages/isce/components/contrib/geo_autoRIFT/autoRIFT/autoRIFT.py:1399: RuntimeWarning: Mean of empty slice\n",
      "  C = np.nanmean(B,axis=0)\n"
     ]
    },
    {
     "name": "stdout",
     "output_type": "stream",
     "text": [
      "autoRIFT complete\n"
     ]
    },
    {
     "name": "stderr",
     "output_type": "stream",
     "text": [
      "/mnt/Backups/gbrench/sw/miniconda3/envs/insar/lib/python3.11/site-packages/rasterio/__init__.py:314: NotGeoreferencedWarning: The given matrix is equal to Affine.identity or its flipped counterpart. GDAL may ignore this matrix and save no geotransform without raising an error. This behavior is somewhat driver-specific.\n",
      "  dataset = writer(\n"
     ]
    },
    {
     "name": "stdout",
     "output_type": "stream",
     "text": [
      "--------------------------------\n",
      "working on 17/55\n",
      "opening pair: 20191016-20200320\n",
      "preprocessing\n",
      "starting autoRIFT\n"
     ]
    },
    {
     "name": "stderr",
     "output_type": "stream",
     "text": [
      "/mnt/Backups/gbrench/sw/miniconda3/envs/insar/lib/python3.11/site-packages/isce/components/contrib/geo_autoRIFT/autoRIFT/autoRIFT.py:1468: RuntimeWarning: divide by zero encountered in divide\n",
      "  DxMadmin = np.ones(Dx.shape) / OverSampleRatio / SearchLimitX * 2;\n",
      "/mnt/Backups/gbrench/sw/miniconda3/envs/insar/lib/python3.11/site-packages/isce/components/contrib/geo_autoRIFT/autoRIFT/autoRIFT.py:1469: RuntimeWarning: divide by zero encountered in divide\n",
      "  DyMadmin = np.ones(Dy.shape) / OverSampleRatio / SearchLimitY * 2;\n",
      "/mnt/Backups/gbrench/sw/miniconda3/envs/insar/lib/python3.11/site-packages/isce/components/contrib/geo_autoRIFT/autoRIFT/autoRIFT.py:1413: RuntimeWarning: All-NaN slice encountered\n",
      "  D = np.nanmedian(B,axis=0)\n",
      "/mnt/Backups/gbrench/sw/miniconda3/envs/insar/lib/python3.11/site-packages/isce/components/contrib/geo_autoRIFT/autoRIFT/autoRIFT.py:1416: RuntimeWarning: All-NaN slice encountered\n",
      "  C = np.nanmedian(D,axis=0, overwrite_input=True)\n",
      "/mnt/Backups/gbrench/sw/miniconda3/envs/insar/lib/python3.11/site-packages/isce/components/contrib/geo_autoRIFT/autoRIFT/autoRIFT.py:1403: RuntimeWarning: All-NaN slice encountered\n",
      "  C = np.nanmedian(B,axis=0, overwrite_input=True)\n",
      "/mnt/Backups/gbrench/sw/miniconda3/envs/insar/lib/python3.11/site-packages/isce/components/contrib/geo_autoRIFT/autoRIFT/autoRIFT.py:1399: RuntimeWarning: Mean of empty slice\n",
      "  C = np.nanmean(B,axis=0)\n"
     ]
    },
    {
     "name": "stdout",
     "output_type": "stream",
     "text": [
      "autoRIFT complete\n"
     ]
    },
    {
     "name": "stderr",
     "output_type": "stream",
     "text": [
      "/mnt/Backups/gbrench/sw/miniconda3/envs/insar/lib/python3.11/site-packages/rasterio/__init__.py:314: NotGeoreferencedWarning: The given matrix is equal to Affine.identity or its flipped counterpart. GDAL may ignore this matrix and save no geotransform without raising an error. This behavior is somewhat driver-specific.\n",
      "  dataset = writer(\n"
     ]
    },
    {
     "name": "stdout",
     "output_type": "stream",
     "text": [
      "--------------------------------\n",
      "working on 18/55\n",
      "opening pair: 20191016-20200401\n",
      "preprocessing\n",
      "starting autoRIFT\n"
     ]
    },
    {
     "name": "stderr",
     "output_type": "stream",
     "text": [
      "/mnt/Backups/gbrench/sw/miniconda3/envs/insar/lib/python3.11/site-packages/isce/components/contrib/geo_autoRIFT/autoRIFT/autoRIFT.py:1468: RuntimeWarning: divide by zero encountered in divide\n",
      "  DxMadmin = np.ones(Dx.shape) / OverSampleRatio / SearchLimitX * 2;\n",
      "/mnt/Backups/gbrench/sw/miniconda3/envs/insar/lib/python3.11/site-packages/isce/components/contrib/geo_autoRIFT/autoRIFT/autoRIFT.py:1469: RuntimeWarning: divide by zero encountered in divide\n",
      "  DyMadmin = np.ones(Dy.shape) / OverSampleRatio / SearchLimitY * 2;\n",
      "/mnt/Backups/gbrench/sw/miniconda3/envs/insar/lib/python3.11/site-packages/isce/components/contrib/geo_autoRIFT/autoRIFT/autoRIFT.py:1413: RuntimeWarning: All-NaN slice encountered\n",
      "  D = np.nanmedian(B,axis=0)\n",
      "/mnt/Backups/gbrench/sw/miniconda3/envs/insar/lib/python3.11/site-packages/isce/components/contrib/geo_autoRIFT/autoRIFT/autoRIFT.py:1416: RuntimeWarning: All-NaN slice encountered\n",
      "  C = np.nanmedian(D,axis=0, overwrite_input=True)\n",
      "/mnt/Backups/gbrench/sw/miniconda3/envs/insar/lib/python3.11/site-packages/isce/components/contrib/geo_autoRIFT/autoRIFT/autoRIFT.py:1403: RuntimeWarning: All-NaN slice encountered\n",
      "  C = np.nanmedian(B,axis=0, overwrite_input=True)\n",
      "/mnt/Backups/gbrench/sw/miniconda3/envs/insar/lib/python3.11/site-packages/isce/components/contrib/geo_autoRIFT/autoRIFT/autoRIFT.py:1399: RuntimeWarning: Mean of empty slice\n",
      "  C = np.nanmean(B,axis=0)\n"
     ]
    },
    {
     "name": "stdout",
     "output_type": "stream",
     "text": [
      "autoRIFT complete\n"
     ]
    },
    {
     "name": "stderr",
     "output_type": "stream",
     "text": [
      "/mnt/Backups/gbrench/sw/miniconda3/envs/insar/lib/python3.11/site-packages/rasterio/__init__.py:314: NotGeoreferencedWarning: The given matrix is equal to Affine.identity or its flipped counterpart. GDAL may ignore this matrix and save no geotransform without raising an error. This behavior is somewhat driver-specific.\n",
      "  dataset = writer(\n"
     ]
    },
    {
     "name": "stdout",
     "output_type": "stream",
     "text": [
      "--------------------------------\n",
      "working on 19/55\n",
      "opening pair: 20191016-20200413\n",
      "preprocessing\n",
      "starting autoRIFT\n"
     ]
    },
    {
     "name": "stderr",
     "output_type": "stream",
     "text": [
      "/mnt/Backups/gbrench/sw/miniconda3/envs/insar/lib/python3.11/site-packages/isce/components/contrib/geo_autoRIFT/autoRIFT/autoRIFT.py:1468: RuntimeWarning: divide by zero encountered in divide\n",
      "  DxMadmin = np.ones(Dx.shape) / OverSampleRatio / SearchLimitX * 2;\n",
      "/mnt/Backups/gbrench/sw/miniconda3/envs/insar/lib/python3.11/site-packages/isce/components/contrib/geo_autoRIFT/autoRIFT/autoRIFT.py:1469: RuntimeWarning: divide by zero encountered in divide\n",
      "  DyMadmin = np.ones(Dy.shape) / OverSampleRatio / SearchLimitY * 2;\n",
      "/mnt/Backups/gbrench/sw/miniconda3/envs/insar/lib/python3.11/site-packages/isce/components/contrib/geo_autoRIFT/autoRIFT/autoRIFT.py:1413: RuntimeWarning: All-NaN slice encountered\n",
      "  D = np.nanmedian(B,axis=0)\n",
      "/mnt/Backups/gbrench/sw/miniconda3/envs/insar/lib/python3.11/site-packages/isce/components/contrib/geo_autoRIFT/autoRIFT/autoRIFT.py:1416: RuntimeWarning: All-NaN slice encountered\n",
      "  C = np.nanmedian(D,axis=0, overwrite_input=True)\n",
      "/mnt/Backups/gbrench/sw/miniconda3/envs/insar/lib/python3.11/site-packages/isce/components/contrib/geo_autoRIFT/autoRIFT/autoRIFT.py:1403: RuntimeWarning: All-NaN slice encountered\n",
      "  C = np.nanmedian(B,axis=0, overwrite_input=True)\n",
      "/mnt/Backups/gbrench/sw/miniconda3/envs/insar/lib/python3.11/site-packages/isce/components/contrib/geo_autoRIFT/autoRIFT/autoRIFT.py:1399: RuntimeWarning: Mean of empty slice\n",
      "  C = np.nanmean(B,axis=0)\n"
     ]
    },
    {
     "name": "stdout",
     "output_type": "stream",
     "text": [
      "autoRIFT complete\n"
     ]
    },
    {
     "name": "stderr",
     "output_type": "stream",
     "text": [
      "/mnt/Backups/gbrench/sw/miniconda3/envs/insar/lib/python3.11/site-packages/rasterio/__init__.py:314: NotGeoreferencedWarning: The given matrix is equal to Affine.identity or its flipped counterpart. GDAL may ignore this matrix and save no geotransform without raising an error. This behavior is somewhat driver-specific.\n",
      "  dataset = writer(\n"
     ]
    },
    {
     "name": "stdout",
     "output_type": "stream",
     "text": [
      "--------------------------------\n",
      "working on 20/55\n",
      "opening pair: 20191028-20200120\n",
      "preprocessing\n",
      "starting autoRIFT\n"
     ]
    },
    {
     "name": "stderr",
     "output_type": "stream",
     "text": [
      "/mnt/Backups/gbrench/sw/miniconda3/envs/insar/lib/python3.11/site-packages/isce/components/contrib/geo_autoRIFT/autoRIFT/autoRIFT.py:1468: RuntimeWarning: divide by zero encountered in divide\n",
      "  DxMadmin = np.ones(Dx.shape) / OverSampleRatio / SearchLimitX * 2;\n",
      "/mnt/Backups/gbrench/sw/miniconda3/envs/insar/lib/python3.11/site-packages/isce/components/contrib/geo_autoRIFT/autoRIFT/autoRIFT.py:1469: RuntimeWarning: divide by zero encountered in divide\n",
      "  DyMadmin = np.ones(Dy.shape) / OverSampleRatio / SearchLimitY * 2;\n",
      "/mnt/Backups/gbrench/sw/miniconda3/envs/insar/lib/python3.11/site-packages/isce/components/contrib/geo_autoRIFT/autoRIFT/autoRIFT.py:1413: RuntimeWarning: All-NaN slice encountered\n",
      "  D = np.nanmedian(B,axis=0)\n",
      "/mnt/Backups/gbrench/sw/miniconda3/envs/insar/lib/python3.11/site-packages/isce/components/contrib/geo_autoRIFT/autoRIFT/autoRIFT.py:1416: RuntimeWarning: All-NaN slice encountered\n",
      "  C = np.nanmedian(D,axis=0, overwrite_input=True)\n",
      "/mnt/Backups/gbrench/sw/miniconda3/envs/insar/lib/python3.11/site-packages/isce/components/contrib/geo_autoRIFT/autoRIFT/autoRIFT.py:1403: RuntimeWarning: All-NaN slice encountered\n",
      "  C = np.nanmedian(B,axis=0, overwrite_input=True)\n",
      "/mnt/Backups/gbrench/sw/miniconda3/envs/insar/lib/python3.11/site-packages/isce/components/contrib/geo_autoRIFT/autoRIFT/autoRIFT.py:1399: RuntimeWarning: Mean of empty slice\n",
      "  C = np.nanmean(B,axis=0)\n"
     ]
    },
    {
     "name": "stdout",
     "output_type": "stream",
     "text": [
      "autoRIFT complete\n"
     ]
    },
    {
     "name": "stderr",
     "output_type": "stream",
     "text": [
      "/mnt/Backups/gbrench/sw/miniconda3/envs/insar/lib/python3.11/site-packages/rasterio/__init__.py:314: NotGeoreferencedWarning: The given matrix is equal to Affine.identity or its flipped counterpart. GDAL may ignore this matrix and save no geotransform without raising an error. This behavior is somewhat driver-specific.\n",
      "  dataset = writer(\n"
     ]
    },
    {
     "name": "stdout",
     "output_type": "stream",
     "text": [
      "--------------------------------\n",
      "working on 21/55\n",
      "opening pair: 20191028-20200201\n",
      "preprocessing\n",
      "starting autoRIFT\n"
     ]
    },
    {
     "name": "stderr",
     "output_type": "stream",
     "text": [
      "/mnt/Backups/gbrench/sw/miniconda3/envs/insar/lib/python3.11/site-packages/isce/components/contrib/geo_autoRIFT/autoRIFT/autoRIFT.py:1468: RuntimeWarning: divide by zero encountered in divide\n",
      "  DxMadmin = np.ones(Dx.shape) / OverSampleRatio / SearchLimitX * 2;\n",
      "/mnt/Backups/gbrench/sw/miniconda3/envs/insar/lib/python3.11/site-packages/isce/components/contrib/geo_autoRIFT/autoRIFT/autoRIFT.py:1469: RuntimeWarning: divide by zero encountered in divide\n",
      "  DyMadmin = np.ones(Dy.shape) / OverSampleRatio / SearchLimitY * 2;\n",
      "/mnt/Backups/gbrench/sw/miniconda3/envs/insar/lib/python3.11/site-packages/isce/components/contrib/geo_autoRIFT/autoRIFT/autoRIFT.py:1413: RuntimeWarning: All-NaN slice encountered\n",
      "  D = np.nanmedian(B,axis=0)\n",
      "/mnt/Backups/gbrench/sw/miniconda3/envs/insar/lib/python3.11/site-packages/isce/components/contrib/geo_autoRIFT/autoRIFT/autoRIFT.py:1416: RuntimeWarning: All-NaN slice encountered\n",
      "  C = np.nanmedian(D,axis=0, overwrite_input=True)\n",
      "/mnt/Backups/gbrench/sw/miniconda3/envs/insar/lib/python3.11/site-packages/isce/components/contrib/geo_autoRIFT/autoRIFT/autoRIFT.py:1403: RuntimeWarning: All-NaN slice encountered\n",
      "  C = np.nanmedian(B,axis=0, overwrite_input=True)\n",
      "/mnt/Backups/gbrench/sw/miniconda3/envs/insar/lib/python3.11/site-packages/isce/components/contrib/geo_autoRIFT/autoRIFT/autoRIFT.py:1399: RuntimeWarning: Mean of empty slice\n",
      "  C = np.nanmean(B,axis=0)\n"
     ]
    },
    {
     "name": "stdout",
     "output_type": "stream",
     "text": [
      "autoRIFT complete\n"
     ]
    },
    {
     "name": "stderr",
     "output_type": "stream",
     "text": [
      "/mnt/Backups/gbrench/sw/miniconda3/envs/insar/lib/python3.11/site-packages/rasterio/__init__.py:314: NotGeoreferencedWarning: The given matrix is equal to Affine.identity or its flipped counterpart. GDAL may ignore this matrix and save no geotransform without raising an error. This behavior is somewhat driver-specific.\n",
      "  dataset = writer(\n"
     ]
    },
    {
     "name": "stdout",
     "output_type": "stream",
     "text": [
      "--------------------------------\n",
      "working on 22/55\n",
      "opening pair: 20191028-20200213\n",
      "preprocessing\n",
      "starting autoRIFT\n"
     ]
    },
    {
     "name": "stderr",
     "output_type": "stream",
     "text": [
      "/mnt/Backups/gbrench/sw/miniconda3/envs/insar/lib/python3.11/site-packages/isce/components/contrib/geo_autoRIFT/autoRIFT/autoRIFT.py:1468: RuntimeWarning: divide by zero encountered in divide\n",
      "  DxMadmin = np.ones(Dx.shape) / OverSampleRatio / SearchLimitX * 2;\n",
      "/mnt/Backups/gbrench/sw/miniconda3/envs/insar/lib/python3.11/site-packages/isce/components/contrib/geo_autoRIFT/autoRIFT/autoRIFT.py:1469: RuntimeWarning: divide by zero encountered in divide\n",
      "  DyMadmin = np.ones(Dy.shape) / OverSampleRatio / SearchLimitY * 2;\n",
      "/mnt/Backups/gbrench/sw/miniconda3/envs/insar/lib/python3.11/site-packages/isce/components/contrib/geo_autoRIFT/autoRIFT/autoRIFT.py:1413: RuntimeWarning: All-NaN slice encountered\n",
      "  D = np.nanmedian(B,axis=0)\n",
      "/mnt/Backups/gbrench/sw/miniconda3/envs/insar/lib/python3.11/site-packages/isce/components/contrib/geo_autoRIFT/autoRIFT/autoRIFT.py:1416: RuntimeWarning: All-NaN slice encountered\n",
      "  C = np.nanmedian(D,axis=0, overwrite_input=True)\n",
      "/mnt/Backups/gbrench/sw/miniconda3/envs/insar/lib/python3.11/site-packages/isce/components/contrib/geo_autoRIFT/autoRIFT/autoRIFT.py:1403: RuntimeWarning: All-NaN slice encountered\n",
      "  C = np.nanmedian(B,axis=0, overwrite_input=True)\n",
      "/mnt/Backups/gbrench/sw/miniconda3/envs/insar/lib/python3.11/site-packages/isce/components/contrib/geo_autoRIFT/autoRIFT/autoRIFT.py:1399: RuntimeWarning: Mean of empty slice\n",
      "  C = np.nanmean(B,axis=0)\n"
     ]
    },
    {
     "name": "stdout",
     "output_type": "stream",
     "text": [
      "autoRIFT complete\n"
     ]
    },
    {
     "name": "stderr",
     "output_type": "stream",
     "text": [
      "/mnt/Backups/gbrench/sw/miniconda3/envs/insar/lib/python3.11/site-packages/rasterio/__init__.py:314: NotGeoreferencedWarning: The given matrix is equal to Affine.identity or its flipped counterpart. GDAL may ignore this matrix and save no geotransform without raising an error. This behavior is somewhat driver-specific.\n",
      "  dataset = writer(\n"
     ]
    },
    {
     "name": "stdout",
     "output_type": "stream",
     "text": [
      "--------------------------------\n",
      "working on 23/55\n",
      "opening pair: 20191028-20200225\n",
      "preprocessing\n",
      "starting autoRIFT\n"
     ]
    },
    {
     "name": "stderr",
     "output_type": "stream",
     "text": [
      "/mnt/Backups/gbrench/sw/miniconda3/envs/insar/lib/python3.11/site-packages/isce/components/contrib/geo_autoRIFT/autoRIFT/autoRIFT.py:1468: RuntimeWarning: divide by zero encountered in divide\n",
      "  DxMadmin = np.ones(Dx.shape) / OverSampleRatio / SearchLimitX * 2;\n",
      "/mnt/Backups/gbrench/sw/miniconda3/envs/insar/lib/python3.11/site-packages/isce/components/contrib/geo_autoRIFT/autoRIFT/autoRIFT.py:1469: RuntimeWarning: divide by zero encountered in divide\n",
      "  DyMadmin = np.ones(Dy.shape) / OverSampleRatio / SearchLimitY * 2;\n",
      "/mnt/Backups/gbrench/sw/miniconda3/envs/insar/lib/python3.11/site-packages/isce/components/contrib/geo_autoRIFT/autoRIFT/autoRIFT.py:1413: RuntimeWarning: All-NaN slice encountered\n",
      "  D = np.nanmedian(B,axis=0)\n",
      "/mnt/Backups/gbrench/sw/miniconda3/envs/insar/lib/python3.11/site-packages/isce/components/contrib/geo_autoRIFT/autoRIFT/autoRIFT.py:1416: RuntimeWarning: All-NaN slice encountered\n",
      "  C = np.nanmedian(D,axis=0, overwrite_input=True)\n",
      "/mnt/Backups/gbrench/sw/miniconda3/envs/insar/lib/python3.11/site-packages/isce/components/contrib/geo_autoRIFT/autoRIFT/autoRIFT.py:1403: RuntimeWarning: All-NaN slice encountered\n",
      "  C = np.nanmedian(B,axis=0, overwrite_input=True)\n",
      "/mnt/Backups/gbrench/sw/miniconda3/envs/insar/lib/python3.11/site-packages/isce/components/contrib/geo_autoRIFT/autoRIFT/autoRIFT.py:1399: RuntimeWarning: Mean of empty slice\n",
      "  C = np.nanmean(B,axis=0)\n"
     ]
    },
    {
     "name": "stdout",
     "output_type": "stream",
     "text": [
      "autoRIFT complete\n"
     ]
    },
    {
     "name": "stderr",
     "output_type": "stream",
     "text": [
      "/mnt/Backups/gbrench/sw/miniconda3/envs/insar/lib/python3.11/site-packages/rasterio/__init__.py:314: NotGeoreferencedWarning: The given matrix is equal to Affine.identity or its flipped counterpart. GDAL may ignore this matrix and save no geotransform without raising an error. This behavior is somewhat driver-specific.\n",
      "  dataset = writer(\n"
     ]
    },
    {
     "name": "stdout",
     "output_type": "stream",
     "text": [
      "--------------------------------\n",
      "working on 24/55\n",
      "opening pair: 20191028-20200308\n",
      "preprocessing\n",
      "starting autoRIFT\n"
     ]
    },
    {
     "name": "stderr",
     "output_type": "stream",
     "text": [
      "/mnt/Backups/gbrench/sw/miniconda3/envs/insar/lib/python3.11/site-packages/isce/components/contrib/geo_autoRIFT/autoRIFT/autoRIFT.py:1468: RuntimeWarning: divide by zero encountered in divide\n",
      "  DxMadmin = np.ones(Dx.shape) / OverSampleRatio / SearchLimitX * 2;\n",
      "/mnt/Backups/gbrench/sw/miniconda3/envs/insar/lib/python3.11/site-packages/isce/components/contrib/geo_autoRIFT/autoRIFT/autoRIFT.py:1469: RuntimeWarning: divide by zero encountered in divide\n",
      "  DyMadmin = np.ones(Dy.shape) / OverSampleRatio / SearchLimitY * 2;\n",
      "/mnt/Backups/gbrench/sw/miniconda3/envs/insar/lib/python3.11/site-packages/isce/components/contrib/geo_autoRIFT/autoRIFT/autoRIFT.py:1413: RuntimeWarning: All-NaN slice encountered\n",
      "  D = np.nanmedian(B,axis=0)\n",
      "/mnt/Backups/gbrench/sw/miniconda3/envs/insar/lib/python3.11/site-packages/isce/components/contrib/geo_autoRIFT/autoRIFT/autoRIFT.py:1416: RuntimeWarning: All-NaN slice encountered\n",
      "  C = np.nanmedian(D,axis=0, overwrite_input=True)\n",
      "/mnt/Backups/gbrench/sw/miniconda3/envs/insar/lib/python3.11/site-packages/isce/components/contrib/geo_autoRIFT/autoRIFT/autoRIFT.py:1403: RuntimeWarning: All-NaN slice encountered\n",
      "  C = np.nanmedian(B,axis=0, overwrite_input=True)\n",
      "/mnt/Backups/gbrench/sw/miniconda3/envs/insar/lib/python3.11/site-packages/isce/components/contrib/geo_autoRIFT/autoRIFT/autoRIFT.py:1399: RuntimeWarning: Mean of empty slice\n",
      "  C = np.nanmean(B,axis=0)\n"
     ]
    },
    {
     "name": "stdout",
     "output_type": "stream",
     "text": [
      "autoRIFT complete\n"
     ]
    },
    {
     "name": "stderr",
     "output_type": "stream",
     "text": [
      "/mnt/Backups/gbrench/sw/miniconda3/envs/insar/lib/python3.11/site-packages/rasterio/__init__.py:314: NotGeoreferencedWarning: The given matrix is equal to Affine.identity or its flipped counterpart. GDAL may ignore this matrix and save no geotransform without raising an error. This behavior is somewhat driver-specific.\n",
      "  dataset = writer(\n"
     ]
    },
    {
     "name": "stdout",
     "output_type": "stream",
     "text": [
      "--------------------------------\n",
      "working on 25/55\n",
      "opening pair: 20191028-20200320\n",
      "preprocessing\n",
      "starting autoRIFT\n"
     ]
    },
    {
     "name": "stderr",
     "output_type": "stream",
     "text": [
      "/mnt/Backups/gbrench/sw/miniconda3/envs/insar/lib/python3.11/site-packages/isce/components/contrib/geo_autoRIFT/autoRIFT/autoRIFT.py:1468: RuntimeWarning: divide by zero encountered in divide\n",
      "  DxMadmin = np.ones(Dx.shape) / OverSampleRatio / SearchLimitX * 2;\n",
      "/mnt/Backups/gbrench/sw/miniconda3/envs/insar/lib/python3.11/site-packages/isce/components/contrib/geo_autoRIFT/autoRIFT/autoRIFT.py:1469: RuntimeWarning: divide by zero encountered in divide\n",
      "  DyMadmin = np.ones(Dy.shape) / OverSampleRatio / SearchLimitY * 2;\n",
      "/mnt/Backups/gbrench/sw/miniconda3/envs/insar/lib/python3.11/site-packages/isce/components/contrib/geo_autoRIFT/autoRIFT/autoRIFT.py:1413: RuntimeWarning: All-NaN slice encountered\n",
      "  D = np.nanmedian(B,axis=0)\n",
      "/mnt/Backups/gbrench/sw/miniconda3/envs/insar/lib/python3.11/site-packages/isce/components/contrib/geo_autoRIFT/autoRIFT/autoRIFT.py:1416: RuntimeWarning: All-NaN slice encountered\n",
      "  C = np.nanmedian(D,axis=0, overwrite_input=True)\n",
      "/mnt/Backups/gbrench/sw/miniconda3/envs/insar/lib/python3.11/site-packages/isce/components/contrib/geo_autoRIFT/autoRIFT/autoRIFT.py:1403: RuntimeWarning: All-NaN slice encountered\n",
      "  C = np.nanmedian(B,axis=0, overwrite_input=True)\n",
      "/mnt/Backups/gbrench/sw/miniconda3/envs/insar/lib/python3.11/site-packages/isce/components/contrib/geo_autoRIFT/autoRIFT/autoRIFT.py:1399: RuntimeWarning: Mean of empty slice\n",
      "  C = np.nanmean(B,axis=0)\n"
     ]
    },
    {
     "name": "stdout",
     "output_type": "stream",
     "text": [
      "autoRIFT complete\n"
     ]
    },
    {
     "name": "stderr",
     "output_type": "stream",
     "text": [
      "/mnt/Backups/gbrench/sw/miniconda3/envs/insar/lib/python3.11/site-packages/rasterio/__init__.py:314: NotGeoreferencedWarning: The given matrix is equal to Affine.identity or its flipped counterpart. GDAL may ignore this matrix and save no geotransform without raising an error. This behavior is somewhat driver-specific.\n",
      "  dataset = writer(\n"
     ]
    },
    {
     "name": "stdout",
     "output_type": "stream",
     "text": [
      "--------------------------------\n",
      "working on 26/55\n",
      "opening pair: 20191028-20200401\n",
      "preprocessing\n",
      "starting autoRIFT\n"
     ]
    },
    {
     "name": "stderr",
     "output_type": "stream",
     "text": [
      "/mnt/Backups/gbrench/sw/miniconda3/envs/insar/lib/python3.11/site-packages/isce/components/contrib/geo_autoRIFT/autoRIFT/autoRIFT.py:1468: RuntimeWarning: divide by zero encountered in divide\n",
      "  DxMadmin = np.ones(Dx.shape) / OverSampleRatio / SearchLimitX * 2;\n",
      "/mnt/Backups/gbrench/sw/miniconda3/envs/insar/lib/python3.11/site-packages/isce/components/contrib/geo_autoRIFT/autoRIFT/autoRIFT.py:1469: RuntimeWarning: divide by zero encountered in divide\n",
      "  DyMadmin = np.ones(Dy.shape) / OverSampleRatio / SearchLimitY * 2;\n",
      "/mnt/Backups/gbrench/sw/miniconda3/envs/insar/lib/python3.11/site-packages/isce/components/contrib/geo_autoRIFT/autoRIFT/autoRIFT.py:1413: RuntimeWarning: All-NaN slice encountered\n",
      "  D = np.nanmedian(B,axis=0)\n",
      "/mnt/Backups/gbrench/sw/miniconda3/envs/insar/lib/python3.11/site-packages/isce/components/contrib/geo_autoRIFT/autoRIFT/autoRIFT.py:1416: RuntimeWarning: All-NaN slice encountered\n",
      "  C = np.nanmedian(D,axis=0, overwrite_input=True)\n",
      "/mnt/Backups/gbrench/sw/miniconda3/envs/insar/lib/python3.11/site-packages/isce/components/contrib/geo_autoRIFT/autoRIFT/autoRIFT.py:1403: RuntimeWarning: All-NaN slice encountered\n",
      "  C = np.nanmedian(B,axis=0, overwrite_input=True)\n",
      "/mnt/Backups/gbrench/sw/miniconda3/envs/insar/lib/python3.11/site-packages/isce/components/contrib/geo_autoRIFT/autoRIFT/autoRIFT.py:1399: RuntimeWarning: Mean of empty slice\n",
      "  C = np.nanmean(B,axis=0)\n"
     ]
    },
    {
     "name": "stdout",
     "output_type": "stream",
     "text": [
      "autoRIFT complete\n"
     ]
    },
    {
     "name": "stderr",
     "output_type": "stream",
     "text": [
      "/mnt/Backups/gbrench/sw/miniconda3/envs/insar/lib/python3.11/site-packages/rasterio/__init__.py:314: NotGeoreferencedWarning: The given matrix is equal to Affine.identity or its flipped counterpart. GDAL may ignore this matrix and save no geotransform without raising an error. This behavior is somewhat driver-specific.\n",
      "  dataset = writer(\n"
     ]
    },
    {
     "name": "stdout",
     "output_type": "stream",
     "text": [
      "--------------------------------\n",
      "working on 27/55\n",
      "opening pair: 20191028-20200413\n",
      "preprocessing\n",
      "starting autoRIFT\n"
     ]
    },
    {
     "name": "stderr",
     "output_type": "stream",
     "text": [
      "/mnt/Backups/gbrench/sw/miniconda3/envs/insar/lib/python3.11/site-packages/isce/components/contrib/geo_autoRIFT/autoRIFT/autoRIFT.py:1468: RuntimeWarning: divide by zero encountered in divide\n",
      "  DxMadmin = np.ones(Dx.shape) / OverSampleRatio / SearchLimitX * 2;\n",
      "/mnt/Backups/gbrench/sw/miniconda3/envs/insar/lib/python3.11/site-packages/isce/components/contrib/geo_autoRIFT/autoRIFT/autoRIFT.py:1469: RuntimeWarning: divide by zero encountered in divide\n",
      "  DyMadmin = np.ones(Dy.shape) / OverSampleRatio / SearchLimitY * 2;\n",
      "/mnt/Backups/gbrench/sw/miniconda3/envs/insar/lib/python3.11/site-packages/isce/components/contrib/geo_autoRIFT/autoRIFT/autoRIFT.py:1413: RuntimeWarning: All-NaN slice encountered\n",
      "  D = np.nanmedian(B,axis=0)\n",
      "/mnt/Backups/gbrench/sw/miniconda3/envs/insar/lib/python3.11/site-packages/isce/components/contrib/geo_autoRIFT/autoRIFT/autoRIFT.py:1416: RuntimeWarning: All-NaN slice encountered\n",
      "  C = np.nanmedian(D,axis=0, overwrite_input=True)\n",
      "/mnt/Backups/gbrench/sw/miniconda3/envs/insar/lib/python3.11/site-packages/isce/components/contrib/geo_autoRIFT/autoRIFT/autoRIFT.py:1403: RuntimeWarning: All-NaN slice encountered\n",
      "  C = np.nanmedian(B,axis=0, overwrite_input=True)\n",
      "/mnt/Backups/gbrench/sw/miniconda3/envs/insar/lib/python3.11/site-packages/isce/components/contrib/geo_autoRIFT/autoRIFT/autoRIFT.py:1399: RuntimeWarning: Mean of empty slice\n",
      "  C = np.nanmean(B,axis=0)\n"
     ]
    },
    {
     "name": "stdout",
     "output_type": "stream",
     "text": [
      "autoRIFT complete\n"
     ]
    },
    {
     "name": "stderr",
     "output_type": "stream",
     "text": [
      "/mnt/Backups/gbrench/sw/miniconda3/envs/insar/lib/python3.11/site-packages/rasterio/__init__.py:314: NotGeoreferencedWarning: The given matrix is equal to Affine.identity or its flipped counterpart. GDAL may ignore this matrix and save no geotransform without raising an error. This behavior is somewhat driver-specific.\n",
      "  dataset = writer(\n"
     ]
    },
    {
     "name": "stdout",
     "output_type": "stream",
     "text": [
      "--------------------------------\n",
      "working on 28/55\n",
      "opening pair: 20191109-20200201\n",
      "preprocessing\n",
      "starting autoRIFT\n"
     ]
    },
    {
     "name": "stderr",
     "output_type": "stream",
     "text": [
      "/mnt/Backups/gbrench/sw/miniconda3/envs/insar/lib/python3.11/site-packages/isce/components/contrib/geo_autoRIFT/autoRIFT/autoRIFT.py:1468: RuntimeWarning: divide by zero encountered in divide\n",
      "  DxMadmin = np.ones(Dx.shape) / OverSampleRatio / SearchLimitX * 2;\n",
      "/mnt/Backups/gbrench/sw/miniconda3/envs/insar/lib/python3.11/site-packages/isce/components/contrib/geo_autoRIFT/autoRIFT/autoRIFT.py:1469: RuntimeWarning: divide by zero encountered in divide\n",
      "  DyMadmin = np.ones(Dy.shape) / OverSampleRatio / SearchLimitY * 2;\n",
      "/mnt/Backups/gbrench/sw/miniconda3/envs/insar/lib/python3.11/site-packages/isce/components/contrib/geo_autoRIFT/autoRIFT/autoRIFT.py:1413: RuntimeWarning: All-NaN slice encountered\n",
      "  D = np.nanmedian(B,axis=0)\n",
      "/mnt/Backups/gbrench/sw/miniconda3/envs/insar/lib/python3.11/site-packages/isce/components/contrib/geo_autoRIFT/autoRIFT/autoRIFT.py:1416: RuntimeWarning: All-NaN slice encountered\n",
      "  C = np.nanmedian(D,axis=0, overwrite_input=True)\n",
      "/mnt/Backups/gbrench/sw/miniconda3/envs/insar/lib/python3.11/site-packages/isce/components/contrib/geo_autoRIFT/autoRIFT/autoRIFT.py:1403: RuntimeWarning: All-NaN slice encountered\n",
      "  C = np.nanmedian(B,axis=0, overwrite_input=True)\n",
      "/mnt/Backups/gbrench/sw/miniconda3/envs/insar/lib/python3.11/site-packages/isce/components/contrib/geo_autoRIFT/autoRIFT/autoRIFT.py:1399: RuntimeWarning: Mean of empty slice\n",
      "  C = np.nanmean(B,axis=0)\n"
     ]
    },
    {
     "name": "stdout",
     "output_type": "stream",
     "text": [
      "autoRIFT complete\n"
     ]
    },
    {
     "name": "stderr",
     "output_type": "stream",
     "text": [
      "/mnt/Backups/gbrench/sw/miniconda3/envs/insar/lib/python3.11/site-packages/rasterio/__init__.py:314: NotGeoreferencedWarning: The given matrix is equal to Affine.identity or its flipped counterpart. GDAL may ignore this matrix and save no geotransform without raising an error. This behavior is somewhat driver-specific.\n",
      "  dataset = writer(\n"
     ]
    },
    {
     "name": "stdout",
     "output_type": "stream",
     "text": [
      "--------------------------------\n",
      "working on 29/55\n",
      "opening pair: 20191109-20200213\n",
      "preprocessing\n",
      "starting autoRIFT\n"
     ]
    },
    {
     "name": "stderr",
     "output_type": "stream",
     "text": [
      "/mnt/Backups/gbrench/sw/miniconda3/envs/insar/lib/python3.11/site-packages/isce/components/contrib/geo_autoRIFT/autoRIFT/autoRIFT.py:1468: RuntimeWarning: divide by zero encountered in divide\n",
      "  DxMadmin = np.ones(Dx.shape) / OverSampleRatio / SearchLimitX * 2;\n",
      "/mnt/Backups/gbrench/sw/miniconda3/envs/insar/lib/python3.11/site-packages/isce/components/contrib/geo_autoRIFT/autoRIFT/autoRIFT.py:1469: RuntimeWarning: divide by zero encountered in divide\n",
      "  DyMadmin = np.ones(Dy.shape) / OverSampleRatio / SearchLimitY * 2;\n",
      "/mnt/Backups/gbrench/sw/miniconda3/envs/insar/lib/python3.11/site-packages/isce/components/contrib/geo_autoRIFT/autoRIFT/autoRIFT.py:1413: RuntimeWarning: All-NaN slice encountered\n",
      "  D = np.nanmedian(B,axis=0)\n",
      "/mnt/Backups/gbrench/sw/miniconda3/envs/insar/lib/python3.11/site-packages/isce/components/contrib/geo_autoRIFT/autoRIFT/autoRIFT.py:1416: RuntimeWarning: All-NaN slice encountered\n",
      "  C = np.nanmedian(D,axis=0, overwrite_input=True)\n",
      "/mnt/Backups/gbrench/sw/miniconda3/envs/insar/lib/python3.11/site-packages/isce/components/contrib/geo_autoRIFT/autoRIFT/autoRIFT.py:1403: RuntimeWarning: All-NaN slice encountered\n",
      "  C = np.nanmedian(B,axis=0, overwrite_input=True)\n",
      "/mnt/Backups/gbrench/sw/miniconda3/envs/insar/lib/python3.11/site-packages/isce/components/contrib/geo_autoRIFT/autoRIFT/autoRIFT.py:1399: RuntimeWarning: Mean of empty slice\n",
      "  C = np.nanmean(B,axis=0)\n"
     ]
    },
    {
     "name": "stdout",
     "output_type": "stream",
     "text": [
      "autoRIFT complete\n"
     ]
    },
    {
     "name": "stderr",
     "output_type": "stream",
     "text": [
      "/mnt/Backups/gbrench/sw/miniconda3/envs/insar/lib/python3.11/site-packages/rasterio/__init__.py:314: NotGeoreferencedWarning: The given matrix is equal to Affine.identity or its flipped counterpart. GDAL may ignore this matrix and save no geotransform without raising an error. This behavior is somewhat driver-specific.\n",
      "  dataset = writer(\n"
     ]
    },
    {
     "name": "stdout",
     "output_type": "stream",
     "text": [
      "--------------------------------\n",
      "working on 30/55\n",
      "opening pair: 20191109-20200225\n",
      "preprocessing\n",
      "starting autoRIFT\n"
     ]
    },
    {
     "name": "stderr",
     "output_type": "stream",
     "text": [
      "/mnt/Backups/gbrench/sw/miniconda3/envs/insar/lib/python3.11/site-packages/isce/components/contrib/geo_autoRIFT/autoRIFT/autoRIFT.py:1468: RuntimeWarning: divide by zero encountered in divide\n",
      "  DxMadmin = np.ones(Dx.shape) / OverSampleRatio / SearchLimitX * 2;\n",
      "/mnt/Backups/gbrench/sw/miniconda3/envs/insar/lib/python3.11/site-packages/isce/components/contrib/geo_autoRIFT/autoRIFT/autoRIFT.py:1469: RuntimeWarning: divide by zero encountered in divide\n",
      "  DyMadmin = np.ones(Dy.shape) / OverSampleRatio / SearchLimitY * 2;\n",
      "/mnt/Backups/gbrench/sw/miniconda3/envs/insar/lib/python3.11/site-packages/isce/components/contrib/geo_autoRIFT/autoRIFT/autoRIFT.py:1413: RuntimeWarning: All-NaN slice encountered\n",
      "  D = np.nanmedian(B,axis=0)\n",
      "/mnt/Backups/gbrench/sw/miniconda3/envs/insar/lib/python3.11/site-packages/isce/components/contrib/geo_autoRIFT/autoRIFT/autoRIFT.py:1416: RuntimeWarning: All-NaN slice encountered\n",
      "  C = np.nanmedian(D,axis=0, overwrite_input=True)\n",
      "/mnt/Backups/gbrench/sw/miniconda3/envs/insar/lib/python3.11/site-packages/isce/components/contrib/geo_autoRIFT/autoRIFT/autoRIFT.py:1403: RuntimeWarning: All-NaN slice encountered\n",
      "  C = np.nanmedian(B,axis=0, overwrite_input=True)\n",
      "/mnt/Backups/gbrench/sw/miniconda3/envs/insar/lib/python3.11/site-packages/isce/components/contrib/geo_autoRIFT/autoRIFT/autoRIFT.py:1399: RuntimeWarning: Mean of empty slice\n",
      "  C = np.nanmean(B,axis=0)\n"
     ]
    },
    {
     "name": "stdout",
     "output_type": "stream",
     "text": [
      "autoRIFT complete\n"
     ]
    },
    {
     "name": "stderr",
     "output_type": "stream",
     "text": [
      "/mnt/Backups/gbrench/sw/miniconda3/envs/insar/lib/python3.11/site-packages/rasterio/__init__.py:314: NotGeoreferencedWarning: The given matrix is equal to Affine.identity or its flipped counterpart. GDAL may ignore this matrix and save no geotransform without raising an error. This behavior is somewhat driver-specific.\n",
      "  dataset = writer(\n"
     ]
    },
    {
     "name": "stdout",
     "output_type": "stream",
     "text": [
      "--------------------------------\n",
      "working on 31/55\n",
      "opening pair: 20191109-20200308\n",
      "preprocessing\n",
      "starting autoRIFT\n"
     ]
    },
    {
     "name": "stderr",
     "output_type": "stream",
     "text": [
      "/mnt/Backups/gbrench/sw/miniconda3/envs/insar/lib/python3.11/site-packages/isce/components/contrib/geo_autoRIFT/autoRIFT/autoRIFT.py:1468: RuntimeWarning: divide by zero encountered in divide\n",
      "  DxMadmin = np.ones(Dx.shape) / OverSampleRatio / SearchLimitX * 2;\n",
      "/mnt/Backups/gbrench/sw/miniconda3/envs/insar/lib/python3.11/site-packages/isce/components/contrib/geo_autoRIFT/autoRIFT/autoRIFT.py:1469: RuntimeWarning: divide by zero encountered in divide\n",
      "  DyMadmin = np.ones(Dy.shape) / OverSampleRatio / SearchLimitY * 2;\n",
      "/mnt/Backups/gbrench/sw/miniconda3/envs/insar/lib/python3.11/site-packages/isce/components/contrib/geo_autoRIFT/autoRIFT/autoRIFT.py:1413: RuntimeWarning: All-NaN slice encountered\n",
      "  D = np.nanmedian(B,axis=0)\n",
      "/mnt/Backups/gbrench/sw/miniconda3/envs/insar/lib/python3.11/site-packages/isce/components/contrib/geo_autoRIFT/autoRIFT/autoRIFT.py:1416: RuntimeWarning: All-NaN slice encountered\n",
      "  C = np.nanmedian(D,axis=0, overwrite_input=True)\n",
      "/mnt/Backups/gbrench/sw/miniconda3/envs/insar/lib/python3.11/site-packages/isce/components/contrib/geo_autoRIFT/autoRIFT/autoRIFT.py:1403: RuntimeWarning: All-NaN slice encountered\n",
      "  C = np.nanmedian(B,axis=0, overwrite_input=True)\n",
      "/mnt/Backups/gbrench/sw/miniconda3/envs/insar/lib/python3.11/site-packages/isce/components/contrib/geo_autoRIFT/autoRIFT/autoRIFT.py:1399: RuntimeWarning: Mean of empty slice\n",
      "  C = np.nanmean(B,axis=0)\n"
     ]
    },
    {
     "name": "stdout",
     "output_type": "stream",
     "text": [
      "autoRIFT complete\n"
     ]
    },
    {
     "name": "stderr",
     "output_type": "stream",
     "text": [
      "/mnt/Backups/gbrench/sw/miniconda3/envs/insar/lib/python3.11/site-packages/rasterio/__init__.py:314: NotGeoreferencedWarning: The given matrix is equal to Affine.identity or its flipped counterpart. GDAL may ignore this matrix and save no geotransform without raising an error. This behavior is somewhat driver-specific.\n",
      "  dataset = writer(\n"
     ]
    },
    {
     "name": "stdout",
     "output_type": "stream",
     "text": [
      "--------------------------------\n",
      "working on 32/55\n",
      "opening pair: 20191109-20200320\n",
      "preprocessing\n",
      "starting autoRIFT\n"
     ]
    },
    {
     "name": "stderr",
     "output_type": "stream",
     "text": [
      "/mnt/Backups/gbrench/sw/miniconda3/envs/insar/lib/python3.11/site-packages/isce/components/contrib/geo_autoRIFT/autoRIFT/autoRIFT.py:1468: RuntimeWarning: divide by zero encountered in divide\n",
      "  DxMadmin = np.ones(Dx.shape) / OverSampleRatio / SearchLimitX * 2;\n",
      "/mnt/Backups/gbrench/sw/miniconda3/envs/insar/lib/python3.11/site-packages/isce/components/contrib/geo_autoRIFT/autoRIFT/autoRIFT.py:1469: RuntimeWarning: divide by zero encountered in divide\n",
      "  DyMadmin = np.ones(Dy.shape) / OverSampleRatio / SearchLimitY * 2;\n",
      "/mnt/Backups/gbrench/sw/miniconda3/envs/insar/lib/python3.11/site-packages/isce/components/contrib/geo_autoRIFT/autoRIFT/autoRIFT.py:1413: RuntimeWarning: All-NaN slice encountered\n",
      "  D = np.nanmedian(B,axis=0)\n",
      "/mnt/Backups/gbrench/sw/miniconda3/envs/insar/lib/python3.11/site-packages/isce/components/contrib/geo_autoRIFT/autoRIFT/autoRIFT.py:1416: RuntimeWarning: All-NaN slice encountered\n",
      "  C = np.nanmedian(D,axis=0, overwrite_input=True)\n",
      "/mnt/Backups/gbrench/sw/miniconda3/envs/insar/lib/python3.11/site-packages/isce/components/contrib/geo_autoRIFT/autoRIFT/autoRIFT.py:1403: RuntimeWarning: All-NaN slice encountered\n",
      "  C = np.nanmedian(B,axis=0, overwrite_input=True)\n",
      "/mnt/Backups/gbrench/sw/miniconda3/envs/insar/lib/python3.11/site-packages/isce/components/contrib/geo_autoRIFT/autoRIFT/autoRIFT.py:1399: RuntimeWarning: Mean of empty slice\n",
      "  C = np.nanmean(B,axis=0)\n"
     ]
    },
    {
     "name": "stdout",
     "output_type": "stream",
     "text": [
      "autoRIFT complete\n"
     ]
    },
    {
     "name": "stderr",
     "output_type": "stream",
     "text": [
      "/mnt/Backups/gbrench/sw/miniconda3/envs/insar/lib/python3.11/site-packages/rasterio/__init__.py:314: NotGeoreferencedWarning: The given matrix is equal to Affine.identity or its flipped counterpart. GDAL may ignore this matrix and save no geotransform without raising an error. This behavior is somewhat driver-specific.\n",
      "  dataset = writer(\n"
     ]
    },
    {
     "name": "stdout",
     "output_type": "stream",
     "text": [
      "--------------------------------\n",
      "working on 33/55\n",
      "opening pair: 20191109-20200401\n",
      "preprocessing\n",
      "starting autoRIFT\n"
     ]
    },
    {
     "name": "stderr",
     "output_type": "stream",
     "text": [
      "/mnt/Backups/gbrench/sw/miniconda3/envs/insar/lib/python3.11/site-packages/isce/components/contrib/geo_autoRIFT/autoRIFT/autoRIFT.py:1468: RuntimeWarning: divide by zero encountered in divide\n",
      "  DxMadmin = np.ones(Dx.shape) / OverSampleRatio / SearchLimitX * 2;\n",
      "/mnt/Backups/gbrench/sw/miniconda3/envs/insar/lib/python3.11/site-packages/isce/components/contrib/geo_autoRIFT/autoRIFT/autoRIFT.py:1469: RuntimeWarning: divide by zero encountered in divide\n",
      "  DyMadmin = np.ones(Dy.shape) / OverSampleRatio / SearchLimitY * 2;\n",
      "/mnt/Backups/gbrench/sw/miniconda3/envs/insar/lib/python3.11/site-packages/isce/components/contrib/geo_autoRIFT/autoRIFT/autoRIFT.py:1413: RuntimeWarning: All-NaN slice encountered\n",
      "  D = np.nanmedian(B,axis=0)\n",
      "/mnt/Backups/gbrench/sw/miniconda3/envs/insar/lib/python3.11/site-packages/isce/components/contrib/geo_autoRIFT/autoRIFT/autoRIFT.py:1416: RuntimeWarning: All-NaN slice encountered\n",
      "  C = np.nanmedian(D,axis=0, overwrite_input=True)\n",
      "/mnt/Backups/gbrench/sw/miniconda3/envs/insar/lib/python3.11/site-packages/isce/components/contrib/geo_autoRIFT/autoRIFT/autoRIFT.py:1403: RuntimeWarning: All-NaN slice encountered\n",
      "  C = np.nanmedian(B,axis=0, overwrite_input=True)\n",
      "/mnt/Backups/gbrench/sw/miniconda3/envs/insar/lib/python3.11/site-packages/isce/components/contrib/geo_autoRIFT/autoRIFT/autoRIFT.py:1399: RuntimeWarning: Mean of empty slice\n",
      "  C = np.nanmean(B,axis=0)\n"
     ]
    },
    {
     "name": "stdout",
     "output_type": "stream",
     "text": [
      "autoRIFT complete\n"
     ]
    },
    {
     "name": "stderr",
     "output_type": "stream",
     "text": [
      "/mnt/Backups/gbrench/sw/miniconda3/envs/insar/lib/python3.11/site-packages/rasterio/__init__.py:314: NotGeoreferencedWarning: The given matrix is equal to Affine.identity or its flipped counterpart. GDAL may ignore this matrix and save no geotransform without raising an error. This behavior is somewhat driver-specific.\n",
      "  dataset = writer(\n"
     ]
    },
    {
     "name": "stdout",
     "output_type": "stream",
     "text": [
      "--------------------------------\n",
      "working on 34/55\n",
      "opening pair: 20191109-20200413\n",
      "preprocessing\n",
      "starting autoRIFT\n"
     ]
    },
    {
     "name": "stderr",
     "output_type": "stream",
     "text": [
      "/mnt/Backups/gbrench/sw/miniconda3/envs/insar/lib/python3.11/site-packages/isce/components/contrib/geo_autoRIFT/autoRIFT/autoRIFT.py:1468: RuntimeWarning: divide by zero encountered in divide\n",
      "  DxMadmin = np.ones(Dx.shape) / OverSampleRatio / SearchLimitX * 2;\n",
      "/mnt/Backups/gbrench/sw/miniconda3/envs/insar/lib/python3.11/site-packages/isce/components/contrib/geo_autoRIFT/autoRIFT/autoRIFT.py:1469: RuntimeWarning: divide by zero encountered in divide\n",
      "  DyMadmin = np.ones(Dy.shape) / OverSampleRatio / SearchLimitY * 2;\n",
      "/mnt/Backups/gbrench/sw/miniconda3/envs/insar/lib/python3.11/site-packages/isce/components/contrib/geo_autoRIFT/autoRIFT/autoRIFT.py:1413: RuntimeWarning: All-NaN slice encountered\n",
      "  D = np.nanmedian(B,axis=0)\n",
      "/mnt/Backups/gbrench/sw/miniconda3/envs/insar/lib/python3.11/site-packages/isce/components/contrib/geo_autoRIFT/autoRIFT/autoRIFT.py:1416: RuntimeWarning: All-NaN slice encountered\n",
      "  C = np.nanmedian(D,axis=0, overwrite_input=True)\n",
      "/mnt/Backups/gbrench/sw/miniconda3/envs/insar/lib/python3.11/site-packages/isce/components/contrib/geo_autoRIFT/autoRIFT/autoRIFT.py:1403: RuntimeWarning: All-NaN slice encountered\n",
      "  C = np.nanmedian(B,axis=0, overwrite_input=True)\n",
      "/mnt/Backups/gbrench/sw/miniconda3/envs/insar/lib/python3.11/site-packages/isce/components/contrib/geo_autoRIFT/autoRIFT/autoRIFT.py:1399: RuntimeWarning: Mean of empty slice\n",
      "  C = np.nanmean(B,axis=0)\n"
     ]
    },
    {
     "name": "stdout",
     "output_type": "stream",
     "text": [
      "autoRIFT complete\n"
     ]
    },
    {
     "name": "stderr",
     "output_type": "stream",
     "text": [
      "/mnt/Backups/gbrench/sw/miniconda3/envs/insar/lib/python3.11/site-packages/rasterio/__init__.py:314: NotGeoreferencedWarning: The given matrix is equal to Affine.identity or its flipped counterpart. GDAL may ignore this matrix and save no geotransform without raising an error. This behavior is somewhat driver-specific.\n",
      "  dataset = writer(\n"
     ]
    },
    {
     "name": "stdout",
     "output_type": "stream",
     "text": [
      "--------------------------------\n",
      "working on 35/55\n",
      "opening pair: 20191121-20200213\n",
      "preprocessing\n",
      "starting autoRIFT\n"
     ]
    },
    {
     "name": "stderr",
     "output_type": "stream",
     "text": [
      "/mnt/Backups/gbrench/sw/miniconda3/envs/insar/lib/python3.11/site-packages/isce/components/contrib/geo_autoRIFT/autoRIFT/autoRIFT.py:1468: RuntimeWarning: divide by zero encountered in divide\n",
      "  DxMadmin = np.ones(Dx.shape) / OverSampleRatio / SearchLimitX * 2;\n",
      "/mnt/Backups/gbrench/sw/miniconda3/envs/insar/lib/python3.11/site-packages/isce/components/contrib/geo_autoRIFT/autoRIFT/autoRIFT.py:1469: RuntimeWarning: divide by zero encountered in divide\n",
      "  DyMadmin = np.ones(Dy.shape) / OverSampleRatio / SearchLimitY * 2;\n",
      "/mnt/Backups/gbrench/sw/miniconda3/envs/insar/lib/python3.11/site-packages/isce/components/contrib/geo_autoRIFT/autoRIFT/autoRIFT.py:1413: RuntimeWarning: All-NaN slice encountered\n",
      "  D = np.nanmedian(B,axis=0)\n",
      "/mnt/Backups/gbrench/sw/miniconda3/envs/insar/lib/python3.11/site-packages/isce/components/contrib/geo_autoRIFT/autoRIFT/autoRIFT.py:1416: RuntimeWarning: All-NaN slice encountered\n",
      "  C = np.nanmedian(D,axis=0, overwrite_input=True)\n",
      "/mnt/Backups/gbrench/sw/miniconda3/envs/insar/lib/python3.11/site-packages/isce/components/contrib/geo_autoRIFT/autoRIFT/autoRIFT.py:1403: RuntimeWarning: All-NaN slice encountered\n",
      "  C = np.nanmedian(B,axis=0, overwrite_input=True)\n",
      "/mnt/Backups/gbrench/sw/miniconda3/envs/insar/lib/python3.11/site-packages/isce/components/contrib/geo_autoRIFT/autoRIFT/autoRIFT.py:1399: RuntimeWarning: Mean of empty slice\n",
      "  C = np.nanmean(B,axis=0)\n"
     ]
    },
    {
     "name": "stdout",
     "output_type": "stream",
     "text": [
      "autoRIFT complete\n"
     ]
    },
    {
     "name": "stderr",
     "output_type": "stream",
     "text": [
      "/mnt/Backups/gbrench/sw/miniconda3/envs/insar/lib/python3.11/site-packages/rasterio/__init__.py:314: NotGeoreferencedWarning: The given matrix is equal to Affine.identity or its flipped counterpart. GDAL may ignore this matrix and save no geotransform without raising an error. This behavior is somewhat driver-specific.\n",
      "  dataset = writer(\n"
     ]
    },
    {
     "name": "stdout",
     "output_type": "stream",
     "text": [
      "--------------------------------\n",
      "working on 36/55\n",
      "opening pair: 20191121-20200225\n",
      "preprocessing\n",
      "starting autoRIFT\n"
     ]
    },
    {
     "name": "stderr",
     "output_type": "stream",
     "text": [
      "/mnt/Backups/gbrench/sw/miniconda3/envs/insar/lib/python3.11/site-packages/isce/components/contrib/geo_autoRIFT/autoRIFT/autoRIFT.py:1468: RuntimeWarning: divide by zero encountered in divide\n",
      "  DxMadmin = np.ones(Dx.shape) / OverSampleRatio / SearchLimitX * 2;\n",
      "/mnt/Backups/gbrench/sw/miniconda3/envs/insar/lib/python3.11/site-packages/isce/components/contrib/geo_autoRIFT/autoRIFT/autoRIFT.py:1469: RuntimeWarning: divide by zero encountered in divide\n",
      "  DyMadmin = np.ones(Dy.shape) / OverSampleRatio / SearchLimitY * 2;\n",
      "/mnt/Backups/gbrench/sw/miniconda3/envs/insar/lib/python3.11/site-packages/isce/components/contrib/geo_autoRIFT/autoRIFT/autoRIFT.py:1413: RuntimeWarning: All-NaN slice encountered\n",
      "  D = np.nanmedian(B,axis=0)\n",
      "/mnt/Backups/gbrench/sw/miniconda3/envs/insar/lib/python3.11/site-packages/isce/components/contrib/geo_autoRIFT/autoRIFT/autoRIFT.py:1416: RuntimeWarning: All-NaN slice encountered\n",
      "  C = np.nanmedian(D,axis=0, overwrite_input=True)\n",
      "/mnt/Backups/gbrench/sw/miniconda3/envs/insar/lib/python3.11/site-packages/isce/components/contrib/geo_autoRIFT/autoRIFT/autoRIFT.py:1403: RuntimeWarning: All-NaN slice encountered\n",
      "  C = np.nanmedian(B,axis=0, overwrite_input=True)\n",
      "/mnt/Backups/gbrench/sw/miniconda3/envs/insar/lib/python3.11/site-packages/isce/components/contrib/geo_autoRIFT/autoRIFT/autoRIFT.py:1399: RuntimeWarning: Mean of empty slice\n",
      "  C = np.nanmean(B,axis=0)\n"
     ]
    },
    {
     "name": "stdout",
     "output_type": "stream",
     "text": [
      "autoRIFT complete\n"
     ]
    },
    {
     "name": "stderr",
     "output_type": "stream",
     "text": [
      "/mnt/Backups/gbrench/sw/miniconda3/envs/insar/lib/python3.11/site-packages/rasterio/__init__.py:314: NotGeoreferencedWarning: The given matrix is equal to Affine.identity or its flipped counterpart. GDAL may ignore this matrix and save no geotransform without raising an error. This behavior is somewhat driver-specific.\n",
      "  dataset = writer(\n"
     ]
    },
    {
     "name": "stdout",
     "output_type": "stream",
     "text": [
      "--------------------------------\n",
      "working on 37/55\n",
      "opening pair: 20191121-20200308\n",
      "preprocessing\n",
      "starting autoRIFT\n"
     ]
    },
    {
     "name": "stderr",
     "output_type": "stream",
     "text": [
      "/mnt/Backups/gbrench/sw/miniconda3/envs/insar/lib/python3.11/site-packages/isce/components/contrib/geo_autoRIFT/autoRIFT/autoRIFT.py:1468: RuntimeWarning: divide by zero encountered in divide\n",
      "  DxMadmin = np.ones(Dx.shape) / OverSampleRatio / SearchLimitX * 2;\n",
      "/mnt/Backups/gbrench/sw/miniconda3/envs/insar/lib/python3.11/site-packages/isce/components/contrib/geo_autoRIFT/autoRIFT/autoRIFT.py:1469: RuntimeWarning: divide by zero encountered in divide\n",
      "  DyMadmin = np.ones(Dy.shape) / OverSampleRatio / SearchLimitY * 2;\n",
      "/mnt/Backups/gbrench/sw/miniconda3/envs/insar/lib/python3.11/site-packages/isce/components/contrib/geo_autoRIFT/autoRIFT/autoRIFT.py:1413: RuntimeWarning: All-NaN slice encountered\n",
      "  D = np.nanmedian(B,axis=0)\n",
      "/mnt/Backups/gbrench/sw/miniconda3/envs/insar/lib/python3.11/site-packages/isce/components/contrib/geo_autoRIFT/autoRIFT/autoRIFT.py:1416: RuntimeWarning: All-NaN slice encountered\n",
      "  C = np.nanmedian(D,axis=0, overwrite_input=True)\n",
      "/mnt/Backups/gbrench/sw/miniconda3/envs/insar/lib/python3.11/site-packages/isce/components/contrib/geo_autoRIFT/autoRIFT/autoRIFT.py:1403: RuntimeWarning: All-NaN slice encountered\n",
      "  C = np.nanmedian(B,axis=0, overwrite_input=True)\n",
      "/mnt/Backups/gbrench/sw/miniconda3/envs/insar/lib/python3.11/site-packages/isce/components/contrib/geo_autoRIFT/autoRIFT/autoRIFT.py:1399: RuntimeWarning: Mean of empty slice\n",
      "  C = np.nanmean(B,axis=0)\n"
     ]
    },
    {
     "name": "stdout",
     "output_type": "stream",
     "text": [
      "autoRIFT complete\n"
     ]
    },
    {
     "name": "stderr",
     "output_type": "stream",
     "text": [
      "/mnt/Backups/gbrench/sw/miniconda3/envs/insar/lib/python3.11/site-packages/rasterio/__init__.py:314: NotGeoreferencedWarning: The given matrix is equal to Affine.identity or its flipped counterpart. GDAL may ignore this matrix and save no geotransform without raising an error. This behavior is somewhat driver-specific.\n",
      "  dataset = writer(\n"
     ]
    },
    {
     "name": "stdout",
     "output_type": "stream",
     "text": [
      "--------------------------------\n",
      "working on 38/55\n",
      "opening pair: 20191121-20200320\n",
      "preprocessing\n",
      "starting autoRIFT\n"
     ]
    },
    {
     "name": "stderr",
     "output_type": "stream",
     "text": [
      "/mnt/Backups/gbrench/sw/miniconda3/envs/insar/lib/python3.11/site-packages/isce/components/contrib/geo_autoRIFT/autoRIFT/autoRIFT.py:1468: RuntimeWarning: divide by zero encountered in divide\n",
      "  DxMadmin = np.ones(Dx.shape) / OverSampleRatio / SearchLimitX * 2;\n",
      "/mnt/Backups/gbrench/sw/miniconda3/envs/insar/lib/python3.11/site-packages/isce/components/contrib/geo_autoRIFT/autoRIFT/autoRIFT.py:1469: RuntimeWarning: divide by zero encountered in divide\n",
      "  DyMadmin = np.ones(Dy.shape) / OverSampleRatio / SearchLimitY * 2;\n",
      "/mnt/Backups/gbrench/sw/miniconda3/envs/insar/lib/python3.11/site-packages/isce/components/contrib/geo_autoRIFT/autoRIFT/autoRIFT.py:1413: RuntimeWarning: All-NaN slice encountered\n",
      "  D = np.nanmedian(B,axis=0)\n",
      "/mnt/Backups/gbrench/sw/miniconda3/envs/insar/lib/python3.11/site-packages/isce/components/contrib/geo_autoRIFT/autoRIFT/autoRIFT.py:1416: RuntimeWarning: All-NaN slice encountered\n",
      "  C = np.nanmedian(D,axis=0, overwrite_input=True)\n",
      "/mnt/Backups/gbrench/sw/miniconda3/envs/insar/lib/python3.11/site-packages/isce/components/contrib/geo_autoRIFT/autoRIFT/autoRIFT.py:1403: RuntimeWarning: All-NaN slice encountered\n",
      "  C = np.nanmedian(B,axis=0, overwrite_input=True)\n",
      "/mnt/Backups/gbrench/sw/miniconda3/envs/insar/lib/python3.11/site-packages/isce/components/contrib/geo_autoRIFT/autoRIFT/autoRIFT.py:1399: RuntimeWarning: Mean of empty slice\n",
      "  C = np.nanmean(B,axis=0)\n"
     ]
    },
    {
     "name": "stdout",
     "output_type": "stream",
     "text": [
      "autoRIFT complete\n"
     ]
    },
    {
     "name": "stderr",
     "output_type": "stream",
     "text": [
      "/mnt/Backups/gbrench/sw/miniconda3/envs/insar/lib/python3.11/site-packages/rasterio/__init__.py:314: NotGeoreferencedWarning: The given matrix is equal to Affine.identity or its flipped counterpart. GDAL may ignore this matrix and save no geotransform without raising an error. This behavior is somewhat driver-specific.\n",
      "  dataset = writer(\n"
     ]
    },
    {
     "name": "stdout",
     "output_type": "stream",
     "text": [
      "--------------------------------\n",
      "working on 39/55\n",
      "opening pair: 20191121-20200401\n",
      "preprocessing\n",
      "starting autoRIFT\n"
     ]
    },
    {
     "name": "stderr",
     "output_type": "stream",
     "text": [
      "/mnt/Backups/gbrench/sw/miniconda3/envs/insar/lib/python3.11/site-packages/isce/components/contrib/geo_autoRIFT/autoRIFT/autoRIFT.py:1468: RuntimeWarning: divide by zero encountered in divide\n",
      "  DxMadmin = np.ones(Dx.shape) / OverSampleRatio / SearchLimitX * 2;\n",
      "/mnt/Backups/gbrench/sw/miniconda3/envs/insar/lib/python3.11/site-packages/isce/components/contrib/geo_autoRIFT/autoRIFT/autoRIFT.py:1469: RuntimeWarning: divide by zero encountered in divide\n",
      "  DyMadmin = np.ones(Dy.shape) / OverSampleRatio / SearchLimitY * 2;\n",
      "/mnt/Backups/gbrench/sw/miniconda3/envs/insar/lib/python3.11/site-packages/isce/components/contrib/geo_autoRIFT/autoRIFT/autoRIFT.py:1413: RuntimeWarning: All-NaN slice encountered\n",
      "  D = np.nanmedian(B,axis=0)\n",
      "/mnt/Backups/gbrench/sw/miniconda3/envs/insar/lib/python3.11/site-packages/isce/components/contrib/geo_autoRIFT/autoRIFT/autoRIFT.py:1416: RuntimeWarning: All-NaN slice encountered\n",
      "  C = np.nanmedian(D,axis=0, overwrite_input=True)\n",
      "/mnt/Backups/gbrench/sw/miniconda3/envs/insar/lib/python3.11/site-packages/isce/components/contrib/geo_autoRIFT/autoRIFT/autoRIFT.py:1403: RuntimeWarning: All-NaN slice encountered\n",
      "  C = np.nanmedian(B,axis=0, overwrite_input=True)\n",
      "/mnt/Backups/gbrench/sw/miniconda3/envs/insar/lib/python3.11/site-packages/isce/components/contrib/geo_autoRIFT/autoRIFT/autoRIFT.py:1399: RuntimeWarning: Mean of empty slice\n",
      "  C = np.nanmean(B,axis=0)\n"
     ]
    },
    {
     "name": "stdout",
     "output_type": "stream",
     "text": [
      "autoRIFT complete\n"
     ]
    },
    {
     "name": "stderr",
     "output_type": "stream",
     "text": [
      "/mnt/Backups/gbrench/sw/miniconda3/envs/insar/lib/python3.11/site-packages/rasterio/__init__.py:314: NotGeoreferencedWarning: The given matrix is equal to Affine.identity or its flipped counterpart. GDAL may ignore this matrix and save no geotransform without raising an error. This behavior is somewhat driver-specific.\n",
      "  dataset = writer(\n"
     ]
    },
    {
     "name": "stdout",
     "output_type": "stream",
     "text": [
      "--------------------------------\n",
      "working on 40/55\n",
      "opening pair: 20191121-20200413\n",
      "preprocessing\n",
      "starting autoRIFT\n"
     ]
    },
    {
     "name": "stderr",
     "output_type": "stream",
     "text": [
      "/mnt/Backups/gbrench/sw/miniconda3/envs/insar/lib/python3.11/site-packages/isce/components/contrib/geo_autoRIFT/autoRIFT/autoRIFT.py:1468: RuntimeWarning: divide by zero encountered in divide\n",
      "  DxMadmin = np.ones(Dx.shape) / OverSampleRatio / SearchLimitX * 2;\n",
      "/mnt/Backups/gbrench/sw/miniconda3/envs/insar/lib/python3.11/site-packages/isce/components/contrib/geo_autoRIFT/autoRIFT/autoRIFT.py:1469: RuntimeWarning: divide by zero encountered in divide\n",
      "  DyMadmin = np.ones(Dy.shape) / OverSampleRatio / SearchLimitY * 2;\n",
      "/mnt/Backups/gbrench/sw/miniconda3/envs/insar/lib/python3.11/site-packages/isce/components/contrib/geo_autoRIFT/autoRIFT/autoRIFT.py:1413: RuntimeWarning: All-NaN slice encountered\n",
      "  D = np.nanmedian(B,axis=0)\n",
      "/mnt/Backups/gbrench/sw/miniconda3/envs/insar/lib/python3.11/site-packages/isce/components/contrib/geo_autoRIFT/autoRIFT/autoRIFT.py:1416: RuntimeWarning: All-NaN slice encountered\n",
      "  C = np.nanmedian(D,axis=0, overwrite_input=True)\n",
      "/mnt/Backups/gbrench/sw/miniconda3/envs/insar/lib/python3.11/site-packages/isce/components/contrib/geo_autoRIFT/autoRIFT/autoRIFT.py:1403: RuntimeWarning: All-NaN slice encountered\n",
      "  C = np.nanmedian(B,axis=0, overwrite_input=True)\n",
      "/mnt/Backups/gbrench/sw/miniconda3/envs/insar/lib/python3.11/site-packages/isce/components/contrib/geo_autoRIFT/autoRIFT/autoRIFT.py:1399: RuntimeWarning: Mean of empty slice\n",
      "  C = np.nanmean(B,axis=0)\n"
     ]
    },
    {
     "name": "stdout",
     "output_type": "stream",
     "text": [
      "autoRIFT complete\n"
     ]
    },
    {
     "name": "stderr",
     "output_type": "stream",
     "text": [
      "/mnt/Backups/gbrench/sw/miniconda3/envs/insar/lib/python3.11/site-packages/rasterio/__init__.py:314: NotGeoreferencedWarning: The given matrix is equal to Affine.identity or its flipped counterpart. GDAL may ignore this matrix and save no geotransform without raising an error. This behavior is somewhat driver-specific.\n",
      "  dataset = writer(\n"
     ]
    },
    {
     "name": "stdout",
     "output_type": "stream",
     "text": [
      "--------------------------------\n",
      "working on 41/55\n",
      "opening pair: 20191203-20200225\n",
      "preprocessing\n",
      "starting autoRIFT\n"
     ]
    },
    {
     "name": "stderr",
     "output_type": "stream",
     "text": [
      "/mnt/Backups/gbrench/sw/miniconda3/envs/insar/lib/python3.11/site-packages/isce/components/contrib/geo_autoRIFT/autoRIFT/autoRIFT.py:1468: RuntimeWarning: divide by zero encountered in divide\n",
      "  DxMadmin = np.ones(Dx.shape) / OverSampleRatio / SearchLimitX * 2;\n",
      "/mnt/Backups/gbrench/sw/miniconda3/envs/insar/lib/python3.11/site-packages/isce/components/contrib/geo_autoRIFT/autoRIFT/autoRIFT.py:1469: RuntimeWarning: divide by zero encountered in divide\n",
      "  DyMadmin = np.ones(Dy.shape) / OverSampleRatio / SearchLimitY * 2;\n",
      "/mnt/Backups/gbrench/sw/miniconda3/envs/insar/lib/python3.11/site-packages/isce/components/contrib/geo_autoRIFT/autoRIFT/autoRIFT.py:1413: RuntimeWarning: All-NaN slice encountered\n",
      "  D = np.nanmedian(B,axis=0)\n",
      "/mnt/Backups/gbrench/sw/miniconda3/envs/insar/lib/python3.11/site-packages/isce/components/contrib/geo_autoRIFT/autoRIFT/autoRIFT.py:1416: RuntimeWarning: All-NaN slice encountered\n",
      "  C = np.nanmedian(D,axis=0, overwrite_input=True)\n",
      "/mnt/Backups/gbrench/sw/miniconda3/envs/insar/lib/python3.11/site-packages/isce/components/contrib/geo_autoRIFT/autoRIFT/autoRIFT.py:1403: RuntimeWarning: All-NaN slice encountered\n",
      "  C = np.nanmedian(B,axis=0, overwrite_input=True)\n",
      "/mnt/Backups/gbrench/sw/miniconda3/envs/insar/lib/python3.11/site-packages/isce/components/contrib/geo_autoRIFT/autoRIFT/autoRIFT.py:1399: RuntimeWarning: Mean of empty slice\n",
      "  C = np.nanmean(B,axis=0)\n"
     ]
    },
    {
     "name": "stdout",
     "output_type": "stream",
     "text": [
      "autoRIFT complete\n"
     ]
    },
    {
     "name": "stderr",
     "output_type": "stream",
     "text": [
      "/mnt/Backups/gbrench/sw/miniconda3/envs/insar/lib/python3.11/site-packages/rasterio/__init__.py:314: NotGeoreferencedWarning: The given matrix is equal to Affine.identity or its flipped counterpart. GDAL may ignore this matrix and save no geotransform without raising an error. This behavior is somewhat driver-specific.\n",
      "  dataset = writer(\n"
     ]
    },
    {
     "name": "stdout",
     "output_type": "stream",
     "text": [
      "--------------------------------\n",
      "working on 42/55\n",
      "opening pair: 20191203-20200308\n",
      "preprocessing\n",
      "starting autoRIFT\n"
     ]
    },
    {
     "name": "stderr",
     "output_type": "stream",
     "text": [
      "/mnt/Backups/gbrench/sw/miniconda3/envs/insar/lib/python3.11/site-packages/isce/components/contrib/geo_autoRIFT/autoRIFT/autoRIFT.py:1468: RuntimeWarning: divide by zero encountered in divide\n",
      "  DxMadmin = np.ones(Dx.shape) / OverSampleRatio / SearchLimitX * 2;\n",
      "/mnt/Backups/gbrench/sw/miniconda3/envs/insar/lib/python3.11/site-packages/isce/components/contrib/geo_autoRIFT/autoRIFT/autoRIFT.py:1469: RuntimeWarning: divide by zero encountered in divide\n",
      "  DyMadmin = np.ones(Dy.shape) / OverSampleRatio / SearchLimitY * 2;\n",
      "/mnt/Backups/gbrench/sw/miniconda3/envs/insar/lib/python3.11/site-packages/isce/components/contrib/geo_autoRIFT/autoRIFT/autoRIFT.py:1413: RuntimeWarning: All-NaN slice encountered\n",
      "  D = np.nanmedian(B,axis=0)\n",
      "/mnt/Backups/gbrench/sw/miniconda3/envs/insar/lib/python3.11/site-packages/isce/components/contrib/geo_autoRIFT/autoRIFT/autoRIFT.py:1416: RuntimeWarning: All-NaN slice encountered\n",
      "  C = np.nanmedian(D,axis=0, overwrite_input=True)\n",
      "/mnt/Backups/gbrench/sw/miniconda3/envs/insar/lib/python3.11/site-packages/isce/components/contrib/geo_autoRIFT/autoRIFT/autoRIFT.py:1403: RuntimeWarning: All-NaN slice encountered\n",
      "  C = np.nanmedian(B,axis=0, overwrite_input=True)\n",
      "/mnt/Backups/gbrench/sw/miniconda3/envs/insar/lib/python3.11/site-packages/isce/components/contrib/geo_autoRIFT/autoRIFT/autoRIFT.py:1399: RuntimeWarning: Mean of empty slice\n",
      "  C = np.nanmean(B,axis=0)\n"
     ]
    },
    {
     "name": "stdout",
     "output_type": "stream",
     "text": [
      "autoRIFT complete\n"
     ]
    },
    {
     "name": "stderr",
     "output_type": "stream",
     "text": [
      "/mnt/Backups/gbrench/sw/miniconda3/envs/insar/lib/python3.11/site-packages/rasterio/__init__.py:314: NotGeoreferencedWarning: The given matrix is equal to Affine.identity or its flipped counterpart. GDAL may ignore this matrix and save no geotransform without raising an error. This behavior is somewhat driver-specific.\n",
      "  dataset = writer(\n"
     ]
    },
    {
     "name": "stdout",
     "output_type": "stream",
     "text": [
      "--------------------------------\n",
      "working on 43/55\n",
      "opening pair: 20191203-20200320\n",
      "preprocessing\n",
      "starting autoRIFT\n"
     ]
    },
    {
     "name": "stderr",
     "output_type": "stream",
     "text": [
      "/mnt/Backups/gbrench/sw/miniconda3/envs/insar/lib/python3.11/site-packages/isce/components/contrib/geo_autoRIFT/autoRIFT/autoRIFT.py:1468: RuntimeWarning: divide by zero encountered in divide\n",
      "  DxMadmin = np.ones(Dx.shape) / OverSampleRatio / SearchLimitX * 2;\n",
      "/mnt/Backups/gbrench/sw/miniconda3/envs/insar/lib/python3.11/site-packages/isce/components/contrib/geo_autoRIFT/autoRIFT/autoRIFT.py:1469: RuntimeWarning: divide by zero encountered in divide\n",
      "  DyMadmin = np.ones(Dy.shape) / OverSampleRatio / SearchLimitY * 2;\n",
      "/mnt/Backups/gbrench/sw/miniconda3/envs/insar/lib/python3.11/site-packages/isce/components/contrib/geo_autoRIFT/autoRIFT/autoRIFT.py:1413: RuntimeWarning: All-NaN slice encountered\n",
      "  D = np.nanmedian(B,axis=0)\n",
      "/mnt/Backups/gbrench/sw/miniconda3/envs/insar/lib/python3.11/site-packages/isce/components/contrib/geo_autoRIFT/autoRIFT/autoRIFT.py:1416: RuntimeWarning: All-NaN slice encountered\n",
      "  C = np.nanmedian(D,axis=0, overwrite_input=True)\n",
      "/mnt/Backups/gbrench/sw/miniconda3/envs/insar/lib/python3.11/site-packages/isce/components/contrib/geo_autoRIFT/autoRIFT/autoRIFT.py:1403: RuntimeWarning: All-NaN slice encountered\n",
      "  C = np.nanmedian(B,axis=0, overwrite_input=True)\n",
      "/mnt/Backups/gbrench/sw/miniconda3/envs/insar/lib/python3.11/site-packages/isce/components/contrib/geo_autoRIFT/autoRIFT/autoRIFT.py:1399: RuntimeWarning: Mean of empty slice\n",
      "  C = np.nanmean(B,axis=0)\n"
     ]
    },
    {
     "name": "stdout",
     "output_type": "stream",
     "text": [
      "autoRIFT complete\n"
     ]
    },
    {
     "name": "stderr",
     "output_type": "stream",
     "text": [
      "/mnt/Backups/gbrench/sw/miniconda3/envs/insar/lib/python3.11/site-packages/rasterio/__init__.py:314: NotGeoreferencedWarning: The given matrix is equal to Affine.identity or its flipped counterpart. GDAL may ignore this matrix and save no geotransform without raising an error. This behavior is somewhat driver-specific.\n",
      "  dataset = writer(\n"
     ]
    },
    {
     "name": "stdout",
     "output_type": "stream",
     "text": [
      "--------------------------------\n",
      "working on 44/55\n",
      "opening pair: 20191203-20200401\n",
      "preprocessing\n",
      "starting autoRIFT\n"
     ]
    },
    {
     "name": "stderr",
     "output_type": "stream",
     "text": [
      "/mnt/Backups/gbrench/sw/miniconda3/envs/insar/lib/python3.11/site-packages/isce/components/contrib/geo_autoRIFT/autoRIFT/autoRIFT.py:1468: RuntimeWarning: divide by zero encountered in divide\n",
      "  DxMadmin = np.ones(Dx.shape) / OverSampleRatio / SearchLimitX * 2;\n",
      "/mnt/Backups/gbrench/sw/miniconda3/envs/insar/lib/python3.11/site-packages/isce/components/contrib/geo_autoRIFT/autoRIFT/autoRIFT.py:1469: RuntimeWarning: divide by zero encountered in divide\n",
      "  DyMadmin = np.ones(Dy.shape) / OverSampleRatio / SearchLimitY * 2;\n",
      "/mnt/Backups/gbrench/sw/miniconda3/envs/insar/lib/python3.11/site-packages/isce/components/contrib/geo_autoRIFT/autoRIFT/autoRIFT.py:1413: RuntimeWarning: All-NaN slice encountered\n",
      "  D = np.nanmedian(B,axis=0)\n",
      "/mnt/Backups/gbrench/sw/miniconda3/envs/insar/lib/python3.11/site-packages/isce/components/contrib/geo_autoRIFT/autoRIFT/autoRIFT.py:1416: RuntimeWarning: All-NaN slice encountered\n",
      "  C = np.nanmedian(D,axis=0, overwrite_input=True)\n",
      "/mnt/Backups/gbrench/sw/miniconda3/envs/insar/lib/python3.11/site-packages/isce/components/contrib/geo_autoRIFT/autoRIFT/autoRIFT.py:1403: RuntimeWarning: All-NaN slice encountered\n",
      "  C = np.nanmedian(B,axis=0, overwrite_input=True)\n",
      "/mnt/Backups/gbrench/sw/miniconda3/envs/insar/lib/python3.11/site-packages/isce/components/contrib/geo_autoRIFT/autoRIFT/autoRIFT.py:1399: RuntimeWarning: Mean of empty slice\n",
      "  C = np.nanmean(B,axis=0)\n"
     ]
    },
    {
     "name": "stdout",
     "output_type": "stream",
     "text": [
      "autoRIFT complete\n"
     ]
    },
    {
     "name": "stderr",
     "output_type": "stream",
     "text": [
      "/mnt/Backups/gbrench/sw/miniconda3/envs/insar/lib/python3.11/site-packages/rasterio/__init__.py:314: NotGeoreferencedWarning: The given matrix is equal to Affine.identity or its flipped counterpart. GDAL may ignore this matrix and save no geotransform without raising an error. This behavior is somewhat driver-specific.\n",
      "  dataset = writer(\n"
     ]
    },
    {
     "name": "stdout",
     "output_type": "stream",
     "text": [
      "--------------------------------\n",
      "working on 45/55\n",
      "opening pair: 20191203-20200413\n",
      "preprocessing\n",
      "starting autoRIFT\n"
     ]
    },
    {
     "name": "stderr",
     "output_type": "stream",
     "text": [
      "/mnt/Backups/gbrench/sw/miniconda3/envs/insar/lib/python3.11/site-packages/isce/components/contrib/geo_autoRIFT/autoRIFT/autoRIFT.py:1468: RuntimeWarning: divide by zero encountered in divide\n",
      "  DxMadmin = np.ones(Dx.shape) / OverSampleRatio / SearchLimitX * 2;\n",
      "/mnt/Backups/gbrench/sw/miniconda3/envs/insar/lib/python3.11/site-packages/isce/components/contrib/geo_autoRIFT/autoRIFT/autoRIFT.py:1469: RuntimeWarning: divide by zero encountered in divide\n",
      "  DyMadmin = np.ones(Dy.shape) / OverSampleRatio / SearchLimitY * 2;\n",
      "/mnt/Backups/gbrench/sw/miniconda3/envs/insar/lib/python3.11/site-packages/isce/components/contrib/geo_autoRIFT/autoRIFT/autoRIFT.py:1413: RuntimeWarning: All-NaN slice encountered\n",
      "  D = np.nanmedian(B,axis=0)\n",
      "/mnt/Backups/gbrench/sw/miniconda3/envs/insar/lib/python3.11/site-packages/isce/components/contrib/geo_autoRIFT/autoRIFT/autoRIFT.py:1416: RuntimeWarning: All-NaN slice encountered\n",
      "  C = np.nanmedian(D,axis=0, overwrite_input=True)\n",
      "/mnt/Backups/gbrench/sw/miniconda3/envs/insar/lib/python3.11/site-packages/isce/components/contrib/geo_autoRIFT/autoRIFT/autoRIFT.py:1403: RuntimeWarning: All-NaN slice encountered\n",
      "  C = np.nanmedian(B,axis=0, overwrite_input=True)\n",
      "/mnt/Backups/gbrench/sw/miniconda3/envs/insar/lib/python3.11/site-packages/isce/components/contrib/geo_autoRIFT/autoRIFT/autoRIFT.py:1399: RuntimeWarning: Mean of empty slice\n",
      "  C = np.nanmean(B,axis=0)\n"
     ]
    },
    {
     "name": "stdout",
     "output_type": "stream",
     "text": [
      "autoRIFT complete\n"
     ]
    },
    {
     "name": "stderr",
     "output_type": "stream",
     "text": [
      "/mnt/Backups/gbrench/sw/miniconda3/envs/insar/lib/python3.11/site-packages/rasterio/__init__.py:314: NotGeoreferencedWarning: The given matrix is equal to Affine.identity or its flipped counterpart. GDAL may ignore this matrix and save no geotransform without raising an error. This behavior is somewhat driver-specific.\n",
      "  dataset = writer(\n"
     ]
    },
    {
     "name": "stdout",
     "output_type": "stream",
     "text": [
      "--------------------------------\n",
      "working on 46/55\n",
      "opening pair: 20191215-20200308\n",
      "preprocessing\n",
      "starting autoRIFT\n"
     ]
    },
    {
     "name": "stderr",
     "output_type": "stream",
     "text": [
      "/mnt/Backups/gbrench/sw/miniconda3/envs/insar/lib/python3.11/site-packages/isce/components/contrib/geo_autoRIFT/autoRIFT/autoRIFT.py:1468: RuntimeWarning: divide by zero encountered in divide\n",
      "  DxMadmin = np.ones(Dx.shape) / OverSampleRatio / SearchLimitX * 2;\n",
      "/mnt/Backups/gbrench/sw/miniconda3/envs/insar/lib/python3.11/site-packages/isce/components/contrib/geo_autoRIFT/autoRIFT/autoRIFT.py:1469: RuntimeWarning: divide by zero encountered in divide\n",
      "  DyMadmin = np.ones(Dy.shape) / OverSampleRatio / SearchLimitY * 2;\n",
      "/mnt/Backups/gbrench/sw/miniconda3/envs/insar/lib/python3.11/site-packages/isce/components/contrib/geo_autoRIFT/autoRIFT/autoRIFT.py:1413: RuntimeWarning: All-NaN slice encountered\n",
      "  D = np.nanmedian(B,axis=0)\n",
      "/mnt/Backups/gbrench/sw/miniconda3/envs/insar/lib/python3.11/site-packages/isce/components/contrib/geo_autoRIFT/autoRIFT/autoRIFT.py:1416: RuntimeWarning: All-NaN slice encountered\n",
      "  C = np.nanmedian(D,axis=0, overwrite_input=True)\n",
      "/mnt/Backups/gbrench/sw/miniconda3/envs/insar/lib/python3.11/site-packages/isce/components/contrib/geo_autoRIFT/autoRIFT/autoRIFT.py:1403: RuntimeWarning: All-NaN slice encountered\n",
      "  C = np.nanmedian(B,axis=0, overwrite_input=True)\n",
      "/mnt/Backups/gbrench/sw/miniconda3/envs/insar/lib/python3.11/site-packages/isce/components/contrib/geo_autoRIFT/autoRIFT/autoRIFT.py:1399: RuntimeWarning: Mean of empty slice\n",
      "  C = np.nanmean(B,axis=0)\n"
     ]
    },
    {
     "name": "stdout",
     "output_type": "stream",
     "text": [
      "autoRIFT complete\n"
     ]
    },
    {
     "name": "stderr",
     "output_type": "stream",
     "text": [
      "/mnt/Backups/gbrench/sw/miniconda3/envs/insar/lib/python3.11/site-packages/rasterio/__init__.py:314: NotGeoreferencedWarning: The given matrix is equal to Affine.identity or its flipped counterpart. GDAL may ignore this matrix and save no geotransform without raising an error. This behavior is somewhat driver-specific.\n",
      "  dataset = writer(\n"
     ]
    },
    {
     "name": "stdout",
     "output_type": "stream",
     "text": [
      "--------------------------------\n",
      "working on 47/55\n",
      "opening pair: 20191215-20200320\n",
      "preprocessing\n",
      "starting autoRIFT\n"
     ]
    },
    {
     "name": "stderr",
     "output_type": "stream",
     "text": [
      "/mnt/Backups/gbrench/sw/miniconda3/envs/insar/lib/python3.11/site-packages/isce/components/contrib/geo_autoRIFT/autoRIFT/autoRIFT.py:1468: RuntimeWarning: divide by zero encountered in divide\n",
      "  DxMadmin = np.ones(Dx.shape) / OverSampleRatio / SearchLimitX * 2;\n",
      "/mnt/Backups/gbrench/sw/miniconda3/envs/insar/lib/python3.11/site-packages/isce/components/contrib/geo_autoRIFT/autoRIFT/autoRIFT.py:1469: RuntimeWarning: divide by zero encountered in divide\n",
      "  DyMadmin = np.ones(Dy.shape) / OverSampleRatio / SearchLimitY * 2;\n",
      "/mnt/Backups/gbrench/sw/miniconda3/envs/insar/lib/python3.11/site-packages/isce/components/contrib/geo_autoRIFT/autoRIFT/autoRIFT.py:1413: RuntimeWarning: All-NaN slice encountered\n",
      "  D = np.nanmedian(B,axis=0)\n",
      "/mnt/Backups/gbrench/sw/miniconda3/envs/insar/lib/python3.11/site-packages/isce/components/contrib/geo_autoRIFT/autoRIFT/autoRIFT.py:1416: RuntimeWarning: All-NaN slice encountered\n",
      "  C = np.nanmedian(D,axis=0, overwrite_input=True)\n",
      "/mnt/Backups/gbrench/sw/miniconda3/envs/insar/lib/python3.11/site-packages/isce/components/contrib/geo_autoRIFT/autoRIFT/autoRIFT.py:1403: RuntimeWarning: All-NaN slice encountered\n",
      "  C = np.nanmedian(B,axis=0, overwrite_input=True)\n",
      "/mnt/Backups/gbrench/sw/miniconda3/envs/insar/lib/python3.11/site-packages/isce/components/contrib/geo_autoRIFT/autoRIFT/autoRIFT.py:1399: RuntimeWarning: Mean of empty slice\n",
      "  C = np.nanmean(B,axis=0)\n"
     ]
    },
    {
     "name": "stdout",
     "output_type": "stream",
     "text": [
      "autoRIFT complete\n"
     ]
    },
    {
     "name": "stderr",
     "output_type": "stream",
     "text": [
      "/mnt/Backups/gbrench/sw/miniconda3/envs/insar/lib/python3.11/site-packages/rasterio/__init__.py:314: NotGeoreferencedWarning: The given matrix is equal to Affine.identity or its flipped counterpart. GDAL may ignore this matrix and save no geotransform without raising an error. This behavior is somewhat driver-specific.\n",
      "  dataset = writer(\n"
     ]
    },
    {
     "name": "stdout",
     "output_type": "stream",
     "text": [
      "--------------------------------\n",
      "working on 48/55\n",
      "opening pair: 20191215-20200401\n",
      "preprocessing\n",
      "starting autoRIFT\n"
     ]
    },
    {
     "name": "stderr",
     "output_type": "stream",
     "text": [
      "/mnt/Backups/gbrench/sw/miniconda3/envs/insar/lib/python3.11/site-packages/isce/components/contrib/geo_autoRIFT/autoRIFT/autoRIFT.py:1468: RuntimeWarning: divide by zero encountered in divide\n",
      "  DxMadmin = np.ones(Dx.shape) / OverSampleRatio / SearchLimitX * 2;\n",
      "/mnt/Backups/gbrench/sw/miniconda3/envs/insar/lib/python3.11/site-packages/isce/components/contrib/geo_autoRIFT/autoRIFT/autoRIFT.py:1469: RuntimeWarning: divide by zero encountered in divide\n",
      "  DyMadmin = np.ones(Dy.shape) / OverSampleRatio / SearchLimitY * 2;\n",
      "/mnt/Backups/gbrench/sw/miniconda3/envs/insar/lib/python3.11/site-packages/isce/components/contrib/geo_autoRIFT/autoRIFT/autoRIFT.py:1413: RuntimeWarning: All-NaN slice encountered\n",
      "  D = np.nanmedian(B,axis=0)\n",
      "/mnt/Backups/gbrench/sw/miniconda3/envs/insar/lib/python3.11/site-packages/isce/components/contrib/geo_autoRIFT/autoRIFT/autoRIFT.py:1416: RuntimeWarning: All-NaN slice encountered\n",
      "  C = np.nanmedian(D,axis=0, overwrite_input=True)\n",
      "/mnt/Backups/gbrench/sw/miniconda3/envs/insar/lib/python3.11/site-packages/isce/components/contrib/geo_autoRIFT/autoRIFT/autoRIFT.py:1403: RuntimeWarning: All-NaN slice encountered\n",
      "  C = np.nanmedian(B,axis=0, overwrite_input=True)\n",
      "/mnt/Backups/gbrench/sw/miniconda3/envs/insar/lib/python3.11/site-packages/isce/components/contrib/geo_autoRIFT/autoRIFT/autoRIFT.py:1399: RuntimeWarning: Mean of empty slice\n",
      "  C = np.nanmean(B,axis=0)\n"
     ]
    },
    {
     "name": "stdout",
     "output_type": "stream",
     "text": [
      "autoRIFT complete\n"
     ]
    },
    {
     "name": "stderr",
     "output_type": "stream",
     "text": [
      "/mnt/Backups/gbrench/sw/miniconda3/envs/insar/lib/python3.11/site-packages/rasterio/__init__.py:314: NotGeoreferencedWarning: The given matrix is equal to Affine.identity or its flipped counterpart. GDAL may ignore this matrix and save no geotransform without raising an error. This behavior is somewhat driver-specific.\n",
      "  dataset = writer(\n"
     ]
    },
    {
     "name": "stdout",
     "output_type": "stream",
     "text": [
      "--------------------------------\n",
      "working on 49/55\n",
      "opening pair: 20191215-20200413\n",
      "preprocessing\n",
      "starting autoRIFT\n"
     ]
    },
    {
     "name": "stderr",
     "output_type": "stream",
     "text": [
      "/mnt/Backups/gbrench/sw/miniconda3/envs/insar/lib/python3.11/site-packages/isce/components/contrib/geo_autoRIFT/autoRIFT/autoRIFT.py:1468: RuntimeWarning: divide by zero encountered in divide\n",
      "  DxMadmin = np.ones(Dx.shape) / OverSampleRatio / SearchLimitX * 2;\n",
      "/mnt/Backups/gbrench/sw/miniconda3/envs/insar/lib/python3.11/site-packages/isce/components/contrib/geo_autoRIFT/autoRIFT/autoRIFT.py:1469: RuntimeWarning: divide by zero encountered in divide\n",
      "  DyMadmin = np.ones(Dy.shape) / OverSampleRatio / SearchLimitY * 2;\n",
      "/mnt/Backups/gbrench/sw/miniconda3/envs/insar/lib/python3.11/site-packages/isce/components/contrib/geo_autoRIFT/autoRIFT/autoRIFT.py:1413: RuntimeWarning: All-NaN slice encountered\n",
      "  D = np.nanmedian(B,axis=0)\n",
      "/mnt/Backups/gbrench/sw/miniconda3/envs/insar/lib/python3.11/site-packages/isce/components/contrib/geo_autoRIFT/autoRIFT/autoRIFT.py:1416: RuntimeWarning: All-NaN slice encountered\n",
      "  C = np.nanmedian(D,axis=0, overwrite_input=True)\n",
      "/mnt/Backups/gbrench/sw/miniconda3/envs/insar/lib/python3.11/site-packages/isce/components/contrib/geo_autoRIFT/autoRIFT/autoRIFT.py:1403: RuntimeWarning: All-NaN slice encountered\n",
      "  C = np.nanmedian(B,axis=0, overwrite_input=True)\n",
      "/mnt/Backups/gbrench/sw/miniconda3/envs/insar/lib/python3.11/site-packages/isce/components/contrib/geo_autoRIFT/autoRIFT/autoRIFT.py:1399: RuntimeWarning: Mean of empty slice\n",
      "  C = np.nanmean(B,axis=0)\n"
     ]
    },
    {
     "name": "stdout",
     "output_type": "stream",
     "text": [
      "autoRIFT complete\n"
     ]
    },
    {
     "name": "stderr",
     "output_type": "stream",
     "text": [
      "/mnt/Backups/gbrench/sw/miniconda3/envs/insar/lib/python3.11/site-packages/rasterio/__init__.py:314: NotGeoreferencedWarning: The given matrix is equal to Affine.identity or its flipped counterpart. GDAL may ignore this matrix and save no geotransform without raising an error. This behavior is somewhat driver-specific.\n",
      "  dataset = writer(\n"
     ]
    },
    {
     "name": "stdout",
     "output_type": "stream",
     "text": [
      "--------------------------------\n",
      "working on 50/55\n",
      "opening pair: 20191227-20200320\n",
      "preprocessing\n",
      "starting autoRIFT\n"
     ]
    },
    {
     "name": "stderr",
     "output_type": "stream",
     "text": [
      "/mnt/Backups/gbrench/sw/miniconda3/envs/insar/lib/python3.11/site-packages/isce/components/contrib/geo_autoRIFT/autoRIFT/autoRIFT.py:1468: RuntimeWarning: divide by zero encountered in divide\n",
      "  DxMadmin = np.ones(Dx.shape) / OverSampleRatio / SearchLimitX * 2;\n",
      "/mnt/Backups/gbrench/sw/miniconda3/envs/insar/lib/python3.11/site-packages/isce/components/contrib/geo_autoRIFT/autoRIFT/autoRIFT.py:1469: RuntimeWarning: divide by zero encountered in divide\n",
      "  DyMadmin = np.ones(Dy.shape) / OverSampleRatio / SearchLimitY * 2;\n",
      "/mnt/Backups/gbrench/sw/miniconda3/envs/insar/lib/python3.11/site-packages/isce/components/contrib/geo_autoRIFT/autoRIFT/autoRIFT.py:1413: RuntimeWarning: All-NaN slice encountered\n",
      "  D = np.nanmedian(B,axis=0)\n",
      "/mnt/Backups/gbrench/sw/miniconda3/envs/insar/lib/python3.11/site-packages/isce/components/contrib/geo_autoRIFT/autoRIFT/autoRIFT.py:1416: RuntimeWarning: All-NaN slice encountered\n",
      "  C = np.nanmedian(D,axis=0, overwrite_input=True)\n",
      "/mnt/Backups/gbrench/sw/miniconda3/envs/insar/lib/python3.11/site-packages/isce/components/contrib/geo_autoRIFT/autoRIFT/autoRIFT.py:1403: RuntimeWarning: All-NaN slice encountered\n",
      "  C = np.nanmedian(B,axis=0, overwrite_input=True)\n",
      "/mnt/Backups/gbrench/sw/miniconda3/envs/insar/lib/python3.11/site-packages/isce/components/contrib/geo_autoRIFT/autoRIFT/autoRIFT.py:1399: RuntimeWarning: Mean of empty slice\n",
      "  C = np.nanmean(B,axis=0)\n"
     ]
    },
    {
     "name": "stdout",
     "output_type": "stream",
     "text": [
      "autoRIFT complete\n"
     ]
    },
    {
     "name": "stderr",
     "output_type": "stream",
     "text": [
      "/mnt/Backups/gbrench/sw/miniconda3/envs/insar/lib/python3.11/site-packages/rasterio/__init__.py:314: NotGeoreferencedWarning: The given matrix is equal to Affine.identity or its flipped counterpart. GDAL may ignore this matrix and save no geotransform without raising an error. This behavior is somewhat driver-specific.\n",
      "  dataset = writer(\n"
     ]
    },
    {
     "name": "stdout",
     "output_type": "stream",
     "text": [
      "--------------------------------\n",
      "working on 51/55\n",
      "opening pair: 20191227-20200401\n",
      "preprocessing\n",
      "starting autoRIFT\n"
     ]
    },
    {
     "name": "stderr",
     "output_type": "stream",
     "text": [
      "/mnt/Backups/gbrench/sw/miniconda3/envs/insar/lib/python3.11/site-packages/isce/components/contrib/geo_autoRIFT/autoRIFT/autoRIFT.py:1468: RuntimeWarning: divide by zero encountered in divide\n",
      "  DxMadmin = np.ones(Dx.shape) / OverSampleRatio / SearchLimitX * 2;\n",
      "/mnt/Backups/gbrench/sw/miniconda3/envs/insar/lib/python3.11/site-packages/isce/components/contrib/geo_autoRIFT/autoRIFT/autoRIFT.py:1469: RuntimeWarning: divide by zero encountered in divide\n",
      "  DyMadmin = np.ones(Dy.shape) / OverSampleRatio / SearchLimitY * 2;\n",
      "/mnt/Backups/gbrench/sw/miniconda3/envs/insar/lib/python3.11/site-packages/isce/components/contrib/geo_autoRIFT/autoRIFT/autoRIFT.py:1413: RuntimeWarning: All-NaN slice encountered\n",
      "  D = np.nanmedian(B,axis=0)\n",
      "/mnt/Backups/gbrench/sw/miniconda3/envs/insar/lib/python3.11/site-packages/isce/components/contrib/geo_autoRIFT/autoRIFT/autoRIFT.py:1416: RuntimeWarning: All-NaN slice encountered\n",
      "  C = np.nanmedian(D,axis=0, overwrite_input=True)\n",
      "/mnt/Backups/gbrench/sw/miniconda3/envs/insar/lib/python3.11/site-packages/isce/components/contrib/geo_autoRIFT/autoRIFT/autoRIFT.py:1403: RuntimeWarning: All-NaN slice encountered\n",
      "  C = np.nanmedian(B,axis=0, overwrite_input=True)\n",
      "/mnt/Backups/gbrench/sw/miniconda3/envs/insar/lib/python3.11/site-packages/isce/components/contrib/geo_autoRIFT/autoRIFT/autoRIFT.py:1399: RuntimeWarning: Mean of empty slice\n",
      "  C = np.nanmean(B,axis=0)\n"
     ]
    },
    {
     "name": "stdout",
     "output_type": "stream",
     "text": [
      "autoRIFT complete\n"
     ]
    },
    {
     "name": "stderr",
     "output_type": "stream",
     "text": [
      "/mnt/Backups/gbrench/sw/miniconda3/envs/insar/lib/python3.11/site-packages/rasterio/__init__.py:314: NotGeoreferencedWarning: The given matrix is equal to Affine.identity or its flipped counterpart. GDAL may ignore this matrix and save no geotransform without raising an error. This behavior is somewhat driver-specific.\n",
      "  dataset = writer(\n"
     ]
    },
    {
     "name": "stdout",
     "output_type": "stream",
     "text": [
      "--------------------------------\n",
      "working on 52/55\n",
      "opening pair: 20191227-20200413\n",
      "preprocessing\n",
      "starting autoRIFT\n"
     ]
    },
    {
     "name": "stderr",
     "output_type": "stream",
     "text": [
      "/mnt/Backups/gbrench/sw/miniconda3/envs/insar/lib/python3.11/site-packages/isce/components/contrib/geo_autoRIFT/autoRIFT/autoRIFT.py:1468: RuntimeWarning: divide by zero encountered in divide\n",
      "  DxMadmin = np.ones(Dx.shape) / OverSampleRatio / SearchLimitX * 2;\n",
      "/mnt/Backups/gbrench/sw/miniconda3/envs/insar/lib/python3.11/site-packages/isce/components/contrib/geo_autoRIFT/autoRIFT/autoRIFT.py:1469: RuntimeWarning: divide by zero encountered in divide\n",
      "  DyMadmin = np.ones(Dy.shape) / OverSampleRatio / SearchLimitY * 2;\n",
      "/mnt/Backups/gbrench/sw/miniconda3/envs/insar/lib/python3.11/site-packages/isce/components/contrib/geo_autoRIFT/autoRIFT/autoRIFT.py:1413: RuntimeWarning: All-NaN slice encountered\n",
      "  D = np.nanmedian(B,axis=0)\n",
      "/mnt/Backups/gbrench/sw/miniconda3/envs/insar/lib/python3.11/site-packages/isce/components/contrib/geo_autoRIFT/autoRIFT/autoRIFT.py:1416: RuntimeWarning: All-NaN slice encountered\n",
      "  C = np.nanmedian(D,axis=0, overwrite_input=True)\n",
      "/mnt/Backups/gbrench/sw/miniconda3/envs/insar/lib/python3.11/site-packages/isce/components/contrib/geo_autoRIFT/autoRIFT/autoRIFT.py:1403: RuntimeWarning: All-NaN slice encountered\n",
      "  C = np.nanmedian(B,axis=0, overwrite_input=True)\n",
      "/mnt/Backups/gbrench/sw/miniconda3/envs/insar/lib/python3.11/site-packages/isce/components/contrib/geo_autoRIFT/autoRIFT/autoRIFT.py:1399: RuntimeWarning: Mean of empty slice\n",
      "  C = np.nanmean(B,axis=0)\n"
     ]
    },
    {
     "name": "stdout",
     "output_type": "stream",
     "text": [
      "autoRIFT complete\n"
     ]
    },
    {
     "name": "stderr",
     "output_type": "stream",
     "text": [
      "/mnt/Backups/gbrench/sw/miniconda3/envs/insar/lib/python3.11/site-packages/rasterio/__init__.py:314: NotGeoreferencedWarning: The given matrix is equal to Affine.identity or its flipped counterpart. GDAL may ignore this matrix and save no geotransform without raising an error. This behavior is somewhat driver-specific.\n",
      "  dataset = writer(\n"
     ]
    },
    {
     "name": "stdout",
     "output_type": "stream",
     "text": [
      "--------------------------------\n",
      "working on 53/55\n",
      "opening pair: 20200108-20200401\n",
      "preprocessing\n",
      "starting autoRIFT\n"
     ]
    },
    {
     "name": "stderr",
     "output_type": "stream",
     "text": [
      "/mnt/Backups/gbrench/sw/miniconda3/envs/insar/lib/python3.11/site-packages/isce/components/contrib/geo_autoRIFT/autoRIFT/autoRIFT.py:1468: RuntimeWarning: divide by zero encountered in divide\n",
      "  DxMadmin = np.ones(Dx.shape) / OverSampleRatio / SearchLimitX * 2;\n",
      "/mnt/Backups/gbrench/sw/miniconda3/envs/insar/lib/python3.11/site-packages/isce/components/contrib/geo_autoRIFT/autoRIFT/autoRIFT.py:1469: RuntimeWarning: divide by zero encountered in divide\n",
      "  DyMadmin = np.ones(Dy.shape) / OverSampleRatio / SearchLimitY * 2;\n",
      "/mnt/Backups/gbrench/sw/miniconda3/envs/insar/lib/python3.11/site-packages/isce/components/contrib/geo_autoRIFT/autoRIFT/autoRIFT.py:1413: RuntimeWarning: All-NaN slice encountered\n",
      "  D = np.nanmedian(B,axis=0)\n",
      "/mnt/Backups/gbrench/sw/miniconda3/envs/insar/lib/python3.11/site-packages/isce/components/contrib/geo_autoRIFT/autoRIFT/autoRIFT.py:1416: RuntimeWarning: All-NaN slice encountered\n",
      "  C = np.nanmedian(D,axis=0, overwrite_input=True)\n",
      "/mnt/Backups/gbrench/sw/miniconda3/envs/insar/lib/python3.11/site-packages/isce/components/contrib/geo_autoRIFT/autoRIFT/autoRIFT.py:1403: RuntimeWarning: All-NaN slice encountered\n",
      "  C = np.nanmedian(B,axis=0, overwrite_input=True)\n",
      "/mnt/Backups/gbrench/sw/miniconda3/envs/insar/lib/python3.11/site-packages/isce/components/contrib/geo_autoRIFT/autoRIFT/autoRIFT.py:1399: RuntimeWarning: Mean of empty slice\n",
      "  C = np.nanmean(B,axis=0)\n"
     ]
    },
    {
     "name": "stdout",
     "output_type": "stream",
     "text": [
      "autoRIFT complete\n"
     ]
    },
    {
     "name": "stderr",
     "output_type": "stream",
     "text": [
      "/mnt/Backups/gbrench/sw/miniconda3/envs/insar/lib/python3.11/site-packages/rasterio/__init__.py:314: NotGeoreferencedWarning: The given matrix is equal to Affine.identity or its flipped counterpart. GDAL may ignore this matrix and save no geotransform without raising an error. This behavior is somewhat driver-specific.\n",
      "  dataset = writer(\n"
     ]
    },
    {
     "name": "stdout",
     "output_type": "stream",
     "text": [
      "--------------------------------\n",
      "working on 54/55\n",
      "opening pair: 20200108-20200413\n",
      "preprocessing\n",
      "starting autoRIFT\n"
     ]
    },
    {
     "name": "stderr",
     "output_type": "stream",
     "text": [
      "/mnt/Backups/gbrench/sw/miniconda3/envs/insar/lib/python3.11/site-packages/isce/components/contrib/geo_autoRIFT/autoRIFT/autoRIFT.py:1468: RuntimeWarning: divide by zero encountered in divide\n",
      "  DxMadmin = np.ones(Dx.shape) / OverSampleRatio / SearchLimitX * 2;\n",
      "/mnt/Backups/gbrench/sw/miniconda3/envs/insar/lib/python3.11/site-packages/isce/components/contrib/geo_autoRIFT/autoRIFT/autoRIFT.py:1469: RuntimeWarning: divide by zero encountered in divide\n",
      "  DyMadmin = np.ones(Dy.shape) / OverSampleRatio / SearchLimitY * 2;\n",
      "/mnt/Backups/gbrench/sw/miniconda3/envs/insar/lib/python3.11/site-packages/isce/components/contrib/geo_autoRIFT/autoRIFT/autoRIFT.py:1413: RuntimeWarning: All-NaN slice encountered\n",
      "  D = np.nanmedian(B,axis=0)\n",
      "/mnt/Backups/gbrench/sw/miniconda3/envs/insar/lib/python3.11/site-packages/isce/components/contrib/geo_autoRIFT/autoRIFT/autoRIFT.py:1416: RuntimeWarning: All-NaN slice encountered\n",
      "  C = np.nanmedian(D,axis=0, overwrite_input=True)\n",
      "/mnt/Backups/gbrench/sw/miniconda3/envs/insar/lib/python3.11/site-packages/isce/components/contrib/geo_autoRIFT/autoRIFT/autoRIFT.py:1403: RuntimeWarning: All-NaN slice encountered\n",
      "  C = np.nanmedian(B,axis=0, overwrite_input=True)\n",
      "/mnt/Backups/gbrench/sw/miniconda3/envs/insar/lib/python3.11/site-packages/isce/components/contrib/geo_autoRIFT/autoRIFT/autoRIFT.py:1399: RuntimeWarning: Mean of empty slice\n",
      "  C = np.nanmean(B,axis=0)\n"
     ]
    },
    {
     "name": "stdout",
     "output_type": "stream",
     "text": [
      "autoRIFT complete\n"
     ]
    },
    {
     "name": "stderr",
     "output_type": "stream",
     "text": [
      "/mnt/Backups/gbrench/sw/miniconda3/envs/insar/lib/python3.11/site-packages/rasterio/__init__.py:314: NotGeoreferencedWarning: The given matrix is equal to Affine.identity or its flipped counterpart. GDAL may ignore this matrix and save no geotransform without raising an error. This behavior is somewhat driver-specific.\n",
      "  dataset = writer(\n"
     ]
    },
    {
     "name": "stdout",
     "output_type": "stream",
     "text": [
      "--------------------------------\n",
      "working on 55/55\n",
      "opening pair: 20200120-20200413\n",
      "preprocessing\n",
      "starting autoRIFT\n"
     ]
    },
    {
     "name": "stderr",
     "output_type": "stream",
     "text": [
      "/mnt/Backups/gbrench/sw/miniconda3/envs/insar/lib/python3.11/site-packages/isce/components/contrib/geo_autoRIFT/autoRIFT/autoRIFT.py:1468: RuntimeWarning: divide by zero encountered in divide\n",
      "  DxMadmin = np.ones(Dx.shape) / OverSampleRatio / SearchLimitX * 2;\n",
      "/mnt/Backups/gbrench/sw/miniconda3/envs/insar/lib/python3.11/site-packages/isce/components/contrib/geo_autoRIFT/autoRIFT/autoRIFT.py:1469: RuntimeWarning: divide by zero encountered in divide\n",
      "  DyMadmin = np.ones(Dy.shape) / OverSampleRatio / SearchLimitY * 2;\n",
      "/mnt/Backups/gbrench/sw/miniconda3/envs/insar/lib/python3.11/site-packages/isce/components/contrib/geo_autoRIFT/autoRIFT/autoRIFT.py:1413: RuntimeWarning: All-NaN slice encountered\n",
      "  D = np.nanmedian(B,axis=0)\n",
      "/mnt/Backups/gbrench/sw/miniconda3/envs/insar/lib/python3.11/site-packages/isce/components/contrib/geo_autoRIFT/autoRIFT/autoRIFT.py:1416: RuntimeWarning: All-NaN slice encountered\n",
      "  C = np.nanmedian(D,axis=0, overwrite_input=True)\n",
      "/mnt/Backups/gbrench/sw/miniconda3/envs/insar/lib/python3.11/site-packages/isce/components/contrib/geo_autoRIFT/autoRIFT/autoRIFT.py:1403: RuntimeWarning: All-NaN slice encountered\n",
      "  C = np.nanmedian(B,axis=0, overwrite_input=True)\n",
      "/mnt/Backups/gbrench/sw/miniconda3/envs/insar/lib/python3.11/site-packages/isce/components/contrib/geo_autoRIFT/autoRIFT/autoRIFT.py:1399: RuntimeWarning: Mean of empty slice\n",
      "  C = np.nanmean(B,axis=0)\n"
     ]
    },
    {
     "name": "stdout",
     "output_type": "stream",
     "text": [
      "autoRIFT complete\n"
     ]
    },
    {
     "name": "stderr",
     "output_type": "stream",
     "text": [
      "/mnt/Backups/gbrench/sw/miniconda3/envs/insar/lib/python3.11/site-packages/rasterio/__init__.py:314: NotGeoreferencedWarning: The given matrix is equal to Affine.identity or its flipped counterpart. GDAL may ignore this matrix and save no geotransform without raising an error. This behavior is somewhat driver-specific.\n",
      "  dataset = writer(\n"
     ]
    },
    {
     "name": "stdout",
     "output_type": "stream",
     "text": [
      "--------------------------------\n"
     ]
    }
   ],
   "source": [
    "for i, pair in enumerate(pairs):\n",
    "    print(f'working on {i+1}/{len(pairs)}')\n",
    "    if not os.path.exists(f'{proc_path}/offsets/{pair[0]}-{pair[1]}.nc'):\n",
    "        obj = run_autoRIFT(pair)\n",
    "\n",
    "        # interpolate to original dimensions \n",
    "        x_coords = np.flip(obj.xGrid[0, :])\n",
    "        y_coords = obj.yGrid[:, 0]\n",
    "        \n",
    "        # Create a mesh grid for the slc dimensions\n",
    "        x_coords_new, y_coords_new = np.meshgrid(\n",
    "            np.arange(obj.I2.shape[0]),\n",
    "            np.arange(obj.I2.shape[1])\n",
    "        )\n",
    "\n",
    "        # Perform bilinear interpolation using scipy.interpolate.interpn\n",
    "        Dx_full = interpn((y_coords, x_coords), obj.Dx_m, (y_coords_new, x_coords_new), method=\"linear\", bounds_error=False)\n",
    "            \n",
    "        # load to xarray \n",
    "        ds = xr.Dataset({'Dx_m':(['y', 'x'], Dx_full)},\n",
    "                        {'range':x_coords_new[0, :],\n",
    "                         'azimuth':y_coords_new[:, 0]})\n",
    "\n",
    "        # multilook to match igram\n",
    "        da_multilooked = ds.Dx_m.coarsen(x=5, boundary='trim').mean()\n",
    "        \n",
    "        # save tif for mintpy\n",
    "        da_multilooked.rio.to_raster(f'{proc_path}/offsets/dx_m_{pair[0]}-{pair[1]}.tif')\n",
    "    else:\n",
    "        print('autoRIFT outputs exist, skipping')\n",
    "    print('--------------------------------')"
   ]
  },
  {
   "cell_type": "code",
   "execution_count": 11,
   "id": "220525af-a536-4ac3-bfa9-2b6a97ea884e",
   "metadata": {},
   "outputs": [],
   "source": [
    "# dem_fn = f'{proc_path}/work/merged/geom_reference/hgt.rdr.full'\n",
    "# dem_ds = gdal.Open(dem_fn, gdal.GA_ReadOnly)\n",
    "# dem = dem_ds.GetRasterBand(1).ReadAsArray()"
   ]
  },
  {
   "cell_type": "code",
   "execution_count": 12,
   "id": "7d3e63da-c1b8-459e-9a75-695aa444a598",
   "metadata": {},
   "outputs": [],
   "source": [
    "# f, ax = plt.subplots(2, 1, figsize=(10, 10))\n",
    "# ax[0].imshow(np.flip(obj.Dx_m, (0))[0:400, 400:1000], cmap='RdBu_r', vmin=-10, vmax=10, interpolation='none')\n",
    "# ax[0].set_title(f'slant range offsets, {pairs[14][0]}-{pairs[14][1]}')\n",
    "# ax[0].set_aspect(1)\n",
    "\n",
    "# ax[1].imshow(np.flip(dem, (0))[0:1500, 10000:25000], vmin=3000, vmax=8000)\n",
    "# ax[1].set_title(f'COP30 DEM')\n",
    "# ax[1].set_aspect(6.13)\n",
    "\n",
    "# f.tight_layout()"
   ]
  }
 ],
 "metadata": {
  "kernelspec": {
   "display_name": "Python 3 (ipykernel)",
   "language": "python",
   "name": "python3"
  },
  "language_info": {
   "codemirror_mode": {
    "name": "ipython",
    "version": 3
   },
   "file_extension": ".py",
   "mimetype": "text/x-python",
   "name": "python",
   "nbconvert_exporter": "python",
   "pygments_lexer": "ipython3",
   "version": "3.11.6"
  }
 },
 "nbformat": 4,
 "nbformat_minor": 5
}

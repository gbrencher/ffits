{
 "cells": [
  {
   "cell_type": "code",
   "execution_count": 1,
   "id": "3dfff392-f9a5-451f-96fc-f896c4e09ef4",
   "metadata": {},
   "outputs": [],
   "source": [
    "import yaml\n",
    "import io"
   ]
  },
  {
   "cell_type": "code",
   "execution_count": null,
   "id": "fe8b91ac-9d3d-48f9-9fca-ea49e6ad948e",
   "metadata": {},
   "outputs": [],
   "source": [
    "arguments = {\n",
    "    # list of S1 granules to be downloaded and processed\n",
    "    scene_list : [ \n",
    "        'S1A_IW_SLC__1SDV_20191004T121345_20191004T121412_029309_0354B0_F48E',\n",
    "        'S1A_IW_SLC__1SDV_20191016T121345_20191016T121412_029484_035ABB_373F',\n",
    "        'S1A_IW_SLC__1SDV_20191028T121345_20191028T121412_029659_0360C3_574E',\n",
    "        'S1A_IW_SLC__1SDV_20191109T121345_20191109T121412_029834_0366F3_462C',\n",
    "        'S1A_IW_SLC__1SDV_20191121T121344_20191121T121411_030009_036CFD_787C',\n",
    "        'S1A_IW_SLC__1SDV_20191203T121344_20191203T121411_030184_03730F_4C1A',\n",
    "        'S1A_IW_SLC__1SDV_20191215T121344_20191215T121411_030359_03791A_4B57',\n",
    "        'S1A_IW_SLC__1SDV_20191227T121343_20191227T121410_030534_037F23_3C47',\n",
    "        'S1A_IW_SLC__1SDV_20200108T121343_20200108T121410_030709_038533_C53D',\n",
    "        'S1A_IW_SLC__1SDV_20200120T121342_20200120T121409_030884_038B59_8828',\n",
    "        'S1A_IW_SLC__1SDV_20200201T121342_20200201T121409_031059_039174_1908',\n",
    "        'S1A_IW_SLC__1SDV_20200213T121341_20200213T121408_031234_039785_41EB',\n",
    "        'S1A_IW_SLC__1SDV_20200225T121341_20200225T121408_031409_039D91_8F87',\n",
    "        'S1A_IW_SLC__1SDV_20200308T121341_20200308T121408_031584_03A39B_6624',\n",
    "        'S1A_IW_SLC__1SDV_20200320T121342_20200320T121409_031759_03A9BC_08F7',\n",
    "        'S1A_IW_SLC__1SDV_20200401T121342_20200401T121409_031934_03AFE6_E721',\n",
    "        'S1A_IW_SLC__1SDV_20200413T121342_20200413T121409_032109_03B610_2EA6'\n",
    "    ],\n",
    "    # S N E W, only bursts overlapping this bbox will be processed\n",
    "    bbox : {S : 27.1, N : 28.6, W : 28.6, E: 27.1}\n",
    "    \n",
    "}"
   ]
  },
  {
   "cell_type": "code",
   "execution_count": null,
   "id": "260a1066-2751-4914-bafd-085d6f79d6f8",
   "metadata": {},
   "outputs": [],
   "source": [
    "# Write YAML file\n",
    "with io.open('config.yml', 'w', encoding='utf8') as outfile:\n",
    "    yaml.dump(data, outfile, default_flow_style=False, allow_unicode=True)"
   ]
  }
 ],
 "metadata": {
  "kernelspec": {
   "display_name": "Python 3 (ipykernel)",
   "language": "python",
   "name": "python3"
  },
  "language_info": {
   "codemirror_mode": {
    "name": "ipython",
    "version": 3
   },
   "file_extension": ".py",
   "mimetype": "text/x-python",
   "name": "python",
   "nbconvert_exporter": "python",
   "pygments_lexer": "ipython3",
   "version": "3.11.6"
  }
 },
 "nbformat": 4,
 "nbformat_minor": 5
}

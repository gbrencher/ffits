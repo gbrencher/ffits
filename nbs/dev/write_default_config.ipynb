{
 "cells": [
  {
   "cell_type": "code",
   "execution_count": 2,
   "id": "3dfff392-f9a5-451f-96fc-f896c4e09ef4",
   "metadata": {},
   "outputs": [],
   "source": [
    "import yaml\n",
    "import io"
   ]
  },
  {
   "cell_type": "code",
   "execution_count": 16,
   "id": "fe8b91ac-9d3d-48f9-9fca-ea49e6ad948e",
   "metadata": {},
   "outputs": [],
   "source": [
    "arguments = {\n",
    "    # list of S1 granules to be downloaded and processed\n",
    "    'scene_list' : [ \n",
    "        'S1A_IW_SLC__1SDV_20191004T121345_20191004T121412_029309_0354B0_F48E',\n",
    "        'S1A_IW_SLC__1SDV_20191016T121345_20191016T121412_029484_035ABB_373F',\n",
    "        'S1A_IW_SLC__1SDV_20191028T121345_20191028T121412_029659_0360C3_574E',\n",
    "        'S1A_IW_SLC__1SDV_20191109T121345_20191109T121412_029834_0366F3_462C',\n",
    "        'S1A_IW_SLC__1SDV_20191121T121344_20191121T121411_030009_036CFD_787C',\n",
    "        'S1A_IW_SLC__1SDV_20191203T121344_20191203T121411_030184_03730F_4C1A',\n",
    "        'S1A_IW_SLC__1SDV_20191215T121344_20191215T121411_030359_03791A_4B57',\n",
    "        'S1A_IW_SLC__1SDV_20191227T121343_20191227T121410_030534_037F23_3C47',\n",
    "        'S1A_IW_SLC__1SDV_20200108T121343_20200108T121410_030709_038533_C53D',\n",
    "        'S1A_IW_SLC__1SDV_20200120T121342_20200120T121409_030884_038B59_8828',\n",
    "        'S1A_IW_SLC__1SDV_20200201T121342_20200201T121409_031059_039174_1908',\n",
    "        'S1A_IW_SLC__1SDV_20200213T121341_20200213T121408_031234_039785_41EB',\n",
    "        'S1A_IW_SLC__1SDV_20200225T121341_20200225T121408_031409_039D91_8F87',\n",
    "        'S1A_IW_SLC__1SDV_20200308T121341_20200308T121408_031584_03A39B_6624',\n",
    "        'S1A_IW_SLC__1SDV_20200320T121342_20200320T121409_031759_03A9BC_08F7',\n",
    "        'S1A_IW_SLC__1SDV_20200401T121342_20200401T121409_031934_03AFE6_E721',\n",
    "        'S1A_IW_SLC__1SDV_20200413T121342_20200413T121409_032109_03B610_2EA6'\n",
    "    ],\n",
    "    # S N E W, only bursts overlapping this bbox will be processed\n",
    "    'bbox' : {'S' : 27.64, 'N' : 28.12, 'E': 86.74, 'W' : 87.13},\n",
    "    #------------------ InSAR processing ------------------------------\n",
    "    # number of connections per S1 scene for InSAR processing\n",
    "    'insar_connections' : 2,\n",
    "    # range looks\n",
    "    'range_looks' : 5,\n",
    "    # azimuth looks\n",
    "    'azimuth_looks' : 1,\n",
    "    # parallel processes to run during CSLC formation\n",
    "    'cslc_proc' : 2,\n",
    "    # parellel processes to run during interferogram formation\n",
    "    'insar_proc' : 1,\n",
    "    #------------------ feature tracking processing ------------------------------\n",
    "    # minimum temporal baseline (in days)\n",
    "    'min_temp_baseline' : 80,\n",
    "    # maximum temporal baseline (in days)\n",
    "    'max_temp_baseline' : 365,\n",
    "    # skips in azimuth (in pixels)\n",
    "    'azimuth_skips' : 3,\n",
    "    # skips in range (in pixels)\n",
    "    'range_skips' : 18,\n",
    "    # minimum chip size in azimuth (in pixels; with 16 pixels, 1 look: 193.6 m)\n",
    "    'min_azimuth_chip' : 16,\n",
    "    # max chip size in azimuth (in pixels; with 64 pixels, 1 look: 774.4 m)\n",
    "    'max_azimuth_chip' : 64,\n",
    "    # preprocessing filter width\n",
    "    'preproc_filter_width' : 21,\n",
    "    # parallel processes to run during feature tracking\n",
    "    'feature_tracking_proc' : 10,\n",
    "    # search limit in azimuth (in pixels)\n",
    "    'azimuth_search_limit' : 4, \n",
    "    # search limit in range (in pixels)\n",
    "    'range_search_limit' : 20,\n",
    "    #------------------ time series processing ------------------------------\n",
    "    # mean InSAR spatial coherence threshold, above which feature tracking offsets will be masked\n",
    "    'feature_tracking_coherence_mask_threshold' : 0.5,\n",
    "    # InSAR spatial coherence threshold, below which interferograms will be masked\n",
    "    'insar_coherence_mask_threshold' : 0.5,\n",
    "    # maximum memory to allocate (in Gb)\n",
    "    'max_memory' : 40, \n",
    "    # number of workers to assign\n",
    "    'num_workers' : 8,\n",
    "    # maximum perpendicular baseline (in m)\n",
    "    'max_perp_baseline' : 150,\n",
    "    # stable reference point (in lat lon)\n",
    "    'stable_reference' : '27.904352, 86.870901',\n",
    "    # pixel spacing for geocoding (in lat lon)\n",
    "    'pixel_spacing' : '0.000092593, 0.000092593'  \n",
    "}"
   ]
  },
  {
   "cell_type": "code",
   "execution_count": 17,
   "id": "260a1066-2751-4914-bafd-085d6f79d6f8",
   "metadata": {},
   "outputs": [],
   "source": [
    "# Write YAML file\n",
    "with io.open('config.yml', 'w', encoding='utf8') as outfile:\n",
    "    yaml.dump(arguments, outfile, default_flow_style=False, allow_unicode=True)"
   ]
  },
  {
   "cell_type": "code",
   "execution_count": 18,
   "id": "c7e4f5ec-b8f1-40ab-9a82-1cf2e6cdea7e",
   "metadata": {},
   "outputs": [],
   "source": [
    "# read yaml file\n",
    "with open(\"config.yml\", 'r') as stream:\n",
    "    arguments_loaded = yaml.safe_load(stream)"
   ]
  },
  {
   "cell_type": "code",
   "execution_count": 36,
   "id": "0512cd40-85d1-406d-a533-8a7d5a0e5264",
   "metadata": {},
   "outputs": [
    {
     "data": {
      "text/plain": [
       "\"'27.64 28.12 86.74 87.13'\""
      ]
     },
     "execution_count": 36,
     "metadata": {},
     "output_type": "execute_result"
    }
   ],
   "source": [
    "f\"'{arguments_loaded['bbox']['S']} {arguments_loaded['bbox']['N']} {arguments_loaded['bbox']['E']} {arguments_loaded['bbox']['W']}'\""
   ]
  },
  {
   "cell_type": "code",
   "execution_count": 38,
   "id": "b1433487-e553-49aa-928a-b5a54c9e300d",
   "metadata": {},
   "outputs": [
    {
     "data": {
      "text/plain": [
       "\"stackSentinel.py -s ./slc -o ./orbits -a ./aux -d ./dem/earthdem_elevation.dem -w ./work -C geometry --bbox '27.64 28.12 86.74 87.13' -W slc -C geometry --num_proc 2\""
      ]
     },
     "execution_count": 38,
     "metadata": {},
     "output_type": "execute_result"
    }
   ],
   "source": [
    "f\"stackSentinel.py -s ./slc -o ./orbits -a ./aux -d ./dem/earthdem_elevation.dem -w ./work -C geometry --bbox '{arguments_loaded['bbox']['S']} {arguments_loaded['bbox']['N']} {arguments_loaded['bbox']['E']} {arguments_loaded['bbox']['W']}' -W slc -C geometry --num_proc 2\""
   ]
  }
 ],
 "metadata": {
  "kernelspec": {
   "display_name": "Python 3 (ipykernel)",
   "language": "python",
   "name": "python3"
  },
  "language_info": {
   "codemirror_mode": {
    "name": "ipython",
    "version": 3
   },
   "file_extension": ".py",
   "mimetype": "text/x-python",
   "name": "python",
   "nbconvert_exporter": "python",
   "pygments_lexer": "ipython3",
   "version": "3.11.6"
  }
 },
 "nbformat": 4,
 "nbformat_minor": 5
}
